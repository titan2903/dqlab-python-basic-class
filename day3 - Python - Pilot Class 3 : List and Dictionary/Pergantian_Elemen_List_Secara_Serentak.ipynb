{
 "cells": [
  {
   "cell_type": "markdown",
   "id": "fbe86c9e",
   "metadata": {},
   "source": [
    "# Mengganti Beberapa Elemen List Secara Serentak"
   ]
  },
  {
   "cell_type": "code",
   "execution_count": 1,
   "id": "0db0f0b9",
   "metadata": {},
   "outputs": [
    {
     "name": "stdout",
     "output_type": "stream",
     "text": [
      "['Sendja', 'Aksara', 'Antara', 'Sendja', 'Sunyi', 'Kroma', 'Sendja']\n"
     ]
    }
   ],
   "source": [
    "# Inisialisasikan list\n",
    "dqsquad = ['Sendja', 'Aksara', 'Antara', 'Sendja', 'Sunyi', 'Kroma', 'Sendja']\n",
    "\n",
    "# Tampilkan hasilnya\n",
    "print(dqsquad)"
   ]
  },
  {
   "cell_type": "markdown",
   "id": "619d797a",
   "metadata": {},
   "source": [
    "<b>Problem : </b> Ternyata terdapat kesalahan penulisan pada ejaan 'Sendja' yang harusnya ditulis 'Senja' (tanpa d) untuk itu perlu dilakukan pembersihan data pada list secara serentak"
   ]
  },
  {
   "cell_type": "markdown",
   "id": "da61d8a2",
   "metadata": {},
   "source": [
    "## Cara 1 : Prosedural dengan Membentuk List Baru\n",
    "\n",
    "<ol>\n",
    "    <li>Buat list kosong (ingat untuk membuat list kosong gunakan notasi [] atau list())</li>\n",
    "    <li>Dengan bantuan pencacah <b>for</b>, akses tiap elemen pada list</li>\n",
    "    <li>Jika ditemukan nama 'Sendja', append 'Senja' (secara otomatis kata Sendja akan digantikan dengan Senja)</li>\n",
    "    <li>Jika bukan kata 'Sendja' maka append nama yang sesuai saja</li>\n",
    "    <li>Tampilkan hasilnya</li>\n",
    "<ol>"
   ]
  },
  {
   "cell_type": "code",
   "execution_count": 2,
   "id": "b26c791c",
   "metadata": {},
   "outputs": [
    {
     "name": "stdout",
     "output_type": "stream",
     "text": [
      "['Senja', 'Aksara', 'Antara', 'Senja', 'Sunyi', 'Kroma', 'Senja']\n"
     ]
    }
   ],
   "source": [
    "# Inisialisasikan list\n",
    "dqsquad = ['Sendja', 'Aksara', 'Antara', 'Sendja', 'Sunyi', 'Kroma', 'Sendja']\n",
    "\n",
    "# Buat list kosong : Misalkan nama variabel barunya dqsquad_clean\n",
    "dqsquad_clean = []\n",
    "\n",
    "# Lakukan proses perulangan (loop)\n",
    "for nama in dqsquad:\n",
    "    if(nama == 'Sendja'):\n",
    "        dqsquad_clean.append('Senja')\n",
    "    else:\n",
    "        dqsquad_clean.append(nama)\n",
    "\n",
    "# Tampilkan hasilnya\n",
    "print(dqsquad_clean)"
   ]
  },
  {
   "cell_type": "markdown",
   "id": "76caa340",
   "metadata": {},
   "source": [
    "## Cara 2 : Update Melalui Index\n",
    "\n",
    "<ol>\n",
    "    <li>Tanpa bantuan list baru, kita dapat update elemennya</li>\n",
    "    <li>Fungsi len(<list>) ditujukan untuk menghitung banyak elemen pada list</li>\n",
    "    <li>Gunakan for looping dengan bantuan range()</li>\n",
    "    <li>Jika pada index ditemukan 'Sendja', update menjadi 'Senja'</li>\n",
    "    <li>Tampilkan hasilnya</li>\n",
    "<ol>"
   ]
  },
  {
   "cell_type": "code",
   "execution_count": 4,
   "id": "65a3c1b8",
   "metadata": {},
   "outputs": [
    {
     "name": "stdout",
     "output_type": "stream",
     "text": [
      "Banyak elemen pada list ['Sendja', 'Aksara', 'Antara', 'Sendja', 'Sunyi', 'Kroma', 'Sendja'] adalah 7\n",
      "\n",
      "['Senja', 'Aksara', 'Antara', 'Senja', 'Sunyi', 'Kroma', 'Senja']\n"
     ]
    }
   ],
   "source": [
    "# Inisialisasikan list\n",
    "dqsquad = ['Sendja', 'Aksara', 'Antara', 'Sendja', 'Sunyi', 'Kroma', 'Sendja']\n",
    "\n",
    "# Hitung panjang list\n",
    "panjang_list_dqsquad = len(dqsquad)\n",
    "\n",
    "# Tampilkan hasilnya untuk memastikan\n",
    "print(f'Banyak elemen pada list {dqsquad} adalah {panjang_list_dqsquad}\\n')\n",
    "\n",
    "# Lakukan proses perulangan (loop)\n",
    "for i in range(0, panjang_list_dqsquad):\n",
    "    # Jika pada index tertentu terkandung kata 'Sendja' maka update\n",
    "    if(dqsquad[i] == 'Sendja'):\n",
    "        dqsquad[i] = 'Senja'\n",
    "\n",
    "# Tampilkan hasilnya\n",
    "print(dqsquad)"
   ]
  },
  {
   "cell_type": "code",
   "execution_count": 5,
   "id": "a2d19288",
   "metadata": {},
   "outputs": [
    {
     "name": "stdout",
     "output_type": "stream",
     "text": [
      "['Senja', 'Aksara', 'Antara', 'Senja', 'Sunyi', 'Kroma', 'Senja']\n"
     ]
    }
   ],
   "source": [
    "\"\"\" Simplify the Syntax \"\"\"\n",
    "\n",
    "# Inisialisasikan list\n",
    "dqsquad = ['Sendja', 'Aksara', 'Antara', 'Sendja', 'Sunyi', 'Kroma', 'Sendja']\n",
    "\n",
    "# Lakukan proses perulangan (loop)\n",
    "for i in range(0, len(dqsquad)):\n",
    "    if(dqsquad[i] == 'Sendja'):\n",
    "        dqsquad[i] = 'Senja'\n",
    "\n",
    "print(dqsquad)"
   ]
  },
  {
   "cell_type": "markdown",
   "id": "ba4ad105",
   "metadata": {},
   "source": [
    "# 3. Dengan Bantuan Fungsi Lambda\n"
   ]
  },
  {
   "cell_type": "code",
   "execution_count": 7,
   "id": "19b9df94",
   "metadata": {},
   "outputs": [
    {
     "name": "stdout",
     "output_type": "stream",
     "text": [
      "['Senja', 'Aksara', 'Antara', 'Senja', 'Sunyi', 'Kroma', 'Senja']\n"
     ]
    }
   ],
   "source": [
    "# Inisialisasi Variabel\n",
    "dqsquad = ['Sendja', 'Aksara', 'Antara', 'Sendja', 'Sunyi', 'Kroma', 'Sendja']\n",
    "\n",
    "# Untuk setiap elemen pada list dqsquad dengan bantuan map(), replace setiap elemen dengan kata 'Sendja' menjadi 'Senja'\n",
    "dqsquad = list(map(lambda x : x.replace('Sendja', 'Senja'), dqsquad))\n",
    "\n",
    "# Tampilkan hasilnya\n",
    "print(dqsquad)"
   ]
  },
  {
   "cell_type": "markdown",
   "id": "8f8df53f",
   "metadata": {},
   "source": [
    "# 4. List Comprehension"
   ]
  },
  {
   "cell_type": "code",
   "execution_count": 8,
   "id": "0b0d7008",
   "metadata": {},
   "outputs": [
    {
     "name": "stdout",
     "output_type": "stream",
     "text": [
      "['Senja', 'Aksara', 'Antara', 'Senja', 'Sunyi', 'Kroma', 'Senja']\n"
     ]
    }
   ],
   "source": [
    "# Inisialisasi Variabel\n",
    "dqsquad = ['Sendja', 'Aksara', 'Antara', 'Sendja', 'Sunyi', 'Kroma', 'Sendja']\n",
    "\n",
    "# Untuk setiap elemen pada list dqsquad, replace 'Sendja' menjadi 'Senja'\n",
    "dqsquad = [name.replace('Sendja', 'Senja') for name in dqsquad]\n",
    "\n",
    "# Tampilkan hasilnya\n",
    "print(dqsquad)"
   ]
  },
  {
   "cell_type": "code",
   "execution_count": 14,
   "id": "95cc348f",
   "metadata": {},
   "outputs": [
    {
     "name": "stdout",
     "output_type": "stream",
     "text": [
      "['Senja', 'Aksara', 'Antara', 'Senja', 'Sunyi', 'Kroma', 'Senja']\n"
     ]
    }
   ],
   "source": [
    "# Inisialisasi Variabel\n",
    "dqsquad = ['Sendja', 'Aksara', 'Antara', 'Sendja', 'Sunyi', 'Kroma', 'Sendja']\n",
    "\n",
    "# Untuk setiap elemen pada list dqsquad, replace 'Sendja' menjadi 'Senja'\n",
    "dqsquad = ['Senja' if(name == 'Sendja') else name for name in dqsquad]\n",
    "\n",
    "# Tampilkan hasilnya\n",
    "print(dqsquad)"
   ]
  },
  {
   "cell_type": "markdown",
   "id": "e7f205d0",
   "metadata": {},
   "source": [
    "## Cara Mana yang Menurut Sahabat DQSquad Paling Mudah?"
   ]
  },
  {
   "cell_type": "code",
   "execution_count": 15,
   "id": "32748442",
   "metadata": {},
   "outputs": [
    {
     "name": "stdout",
     "output_type": "stream",
     "text": [
      "['Sendja', 'senDJA', 'SeNdJa', 'SENDJA', 'sENDJa', 'Aksara', 'Antara', 'Sunyi']\n"
     ]
    }
   ],
   "source": [
    "# DQChallange : Ubah setiap padanan Sendja menjadi Senja sedangkan elemen yang lain tetap\n",
    "\n",
    "# Inisialisasi Variabel\n",
    "dqsquad = ['Sendja', 'senDJA', 'SeNdJa', 'SENDJA', 'sENDJa', 'Aksara', 'Antara', 'Sunyi']\n",
    "\n",
    "# Type your logic here\n",
    "dqsquad = ['Senja' if(name.lower() == 'Sendja') else name for name in dqsquad]\n",
    "\n",
    "# Tampilkan hasilnya\n",
    "print(dqsquad)"
   ]
  },
  {
   "cell_type": "code",
   "execution_count": null,
   "id": "f70b1344",
   "metadata": {},
   "outputs": [],
   "source": []
  }
 ],
 "metadata": {
  "kernelspec": {
   "display_name": "Python 3 (ipykernel)",
   "language": "python",
   "name": "python3"
  },
  "language_info": {
   "codemirror_mode": {
    "name": "ipython",
    "version": 3
   },
   "file_extension": ".py",
   "mimetype": "text/x-python",
   "name": "python",
   "nbconvert_exporter": "python",
   "pygments_lexer": "ipython3",
   "version": "3.9.12"
  }
 },
 "nbformat": 4,
 "nbformat_minor": 5
}
