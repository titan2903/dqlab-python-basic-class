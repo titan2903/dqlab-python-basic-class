{
  "cells": [
    {
      "cell_type": "markdown",
      "id": "d8d3413c",
      "metadata": {
        "id": "d8d3413c"
      },
      "source": [
        "<p>\n",
        "<h1 style=\"font-size:300%;\">\n",
        "    Turbulence.\n",
        "</h1>\n",
        "<img src = \"https://i.pinimg.com/originals/f9/5d/6f/f95d6f0ea59a295ac23c66157175a0da.gif\" \n",
        "     style = \"float:right\" width=\"350\">\n",
        "\n",
        "<p style=\"font-size:160%;\">\n",
        "    Python - Pilot Class 3 : List and Dictionary\n",
        "</p>\n",
        "    <br>\n",
        "        <br>\n",
        "            <p style=\"font-size:110%;\">\n",
        "                 The Captain has turned on the fasten seat belt sign. We are now crossing a zone of turbulence in Pythonverse : List and Dictionary. Understanding this, might save you later. Please return your seats and keep your seat belts fastened. \n",
        "            </p>\n",
        "            <br>\n",
        "                 <p style=\"font-size:110%;\">\n",
        "                    This possibility won't last long, so stay safe all.\n",
        "                </p>\n",
        "            </br>\n",
        "        </br>\n",
        "    </br>\n",
        "</img>\n",
        "</p>"
      ]
    },
    {
      "cell_type": "markdown",
      "id": "d40001be",
      "metadata": {
        "id": "d40001be"
      },
      "source": [
        "---"
      ]
    },
    {
      "cell_type": "markdown",
      "id": "0c819090",
      "metadata": {
        "id": "0c819090"
      },
      "source": [
        "### 1. List\n",
        "\n",
        "Urutan bilangan, teks atau objek apapun yang diapit oleh kurung siku \\[ \\] dan masing-masing elemennya dipisahkan oleh tanda koma (,)\n",
        "\n",
        "<b>Contoh :</b> \\[1, 'DQSquad', True, [0.89, 'B']\\]\n",
        "\n",
        "Sifat list :\n",
        "<ol>\n",
        "    <li>Elemen pada list dapat diubah / dapat diupdate (<i>changeable</i>)</li>\n",
        "    <li>List menerima elemen yang sama / duplikat (<i>allow duplicate values</i>)</li>\n",
        "    <li>Elemen pada list terurut (<i>ordered</i>) sesuai label/index yang diberikan (bukan terurut alfabetikal atau numerikal)</li>\n",
        "</ol>\n",
        "\n",
        "Untuk membuat list terdapat dua cara, yakni dengan kurung siku atau dengan constructor list()\n",
        "\n",
        "*docs : https://docs.python.org/3/library/functions.html#func-list*"
      ]
    },
    {
      "cell_type": "code",
      "execution_count": null,
      "id": "8a775062",
      "metadata": {
        "id": "8a775062",
        "outputId": "c1cd2f1d-1030-4b3c-92ca-1ff9986b41f9"
      },
      "outputs": [
        {
          "name": "stdout",
          "output_type": "stream",
          "text": [
            "['Antara', 'Sendja', 'Kroma']\n"
          ]
        }
      ],
      "source": [
        "\"\"\" Membuat List dengan Kurung Siku \"\"\"\n",
        "\n",
        "# Assignment list kedalam sebuah variabel\n",
        "\n",
        "\n",
        "# Tampilkan hasil\n"
      ]
    },
    {
      "cell_type": "code",
      "execution_count": null,
      "id": "92276ec0",
      "metadata": {
        "id": "92276ec0",
        "outputId": "7ef6cdf4-a21c-4762-96d1-f0fdb2578ee3"
      },
      "outputs": [
        {
          "name": "stdout",
          "output_type": "stream",
          "text": [
            "Nilai pada variabel dqsquad = ['Antara', 'Sendja', 'Kroma'] dengan tipe data <class 'list'>\n"
          ]
        }
      ],
      "source": [
        "\"\"\" Membuat List dengan Tanda Kurung Siku \"\"\"\n",
        "\n",
        "# Assignment list kedalam sebuah variabel\n",
        "\n",
        "\n",
        "# Tampilkan hasil\n"
      ]
    },
    {
      "cell_type": "code",
      "execution_count": null,
      "id": "b9a877d5",
      "metadata": {
        "id": "b9a877d5",
        "outputId": "1327c8a9-28dc-47fc-8596-8f27fd222365"
      },
      "outputs": [
        {
          "name": "stdout",
          "output_type": "stream",
          "text": [
            "['Antara', 'Sendja', 'Kroma']\n"
          ]
        }
      ],
      "source": [
        "\"\"\" Membuat List dengan Constructor List \"\"\"\n",
        "\n",
        "# Assignment list kedalam sebuah variabel dengan konstruktor\n",
        "\n",
        "\n",
        "# Tampilkan hasil\n"
      ]
    },
    {
      "cell_type": "code",
      "execution_count": null,
      "id": "3825d6e5",
      "metadata": {
        "id": "3825d6e5",
        "outputId": "0ceac046-7e2c-4965-d141-6d66e37b47dd"
      },
      "outputs": [
        {
          "name": "stdout",
          "output_type": "stream",
          "text": [
            "Nilai x = [] dengan tipe data <class 'list'>\n",
            "Nilai y = [] dengan tipe data <class 'list'>\n"
          ]
        }
      ],
      "source": [
        "\"\"\" Membuat List tanpa Elemen (empty list) \"\"\"\n"
      ]
    },
    {
      "cell_type": "code",
      "execution_count": null,
      "id": "832307b2",
      "metadata": {
        "id": "832307b2",
        "outputId": "3548929c-a8d3-4d0f-ec9e-404b942d1458"
      },
      "outputs": [
        {
          "name": "stdout",
          "output_type": "stream",
          "text": [
            "Hasil 1 : ['a', 'n', 't', 'a', 'r', 'a']\n",
            "Hasil 2 : ['antara']\n"
          ]
        }
      ],
      "source": [
        "# DQChallenge 1 : Think bout it!\n",
        "\n",
        "\"\"\" Pendefinisian mirip mengapa hasil berbeda? \"\"\"\n",
        "\n",
        "hasil1 = list('antara')\n",
        "print(f'Hasil 1 : {hasil1}')\n",
        "\n",
        "hasil2 = ['antara']\n",
        "print(f'Hasil 2 : {hasil2}')"
      ]
    },
    {
      "cell_type": "markdown",
      "id": "7d3e5307",
      "metadata": {
        "id": "7d3e5307"
      },
      "source": [
        "### 2. Mengakses List\n",
        "\n",
        "Setiap elemen pada list yang terbentuk, secara otomatis akan mempunyai pengenal posisi atau disebut index. \n",
        "<img width = \"450\" src = \"https://i1.faceprep.in/Companies-1/lists-in-python.png\">\n",
        "\n",
        "<ol>\n",
        "    <li>Untuk mengakses 1 elemen list pada index tertentu gunakan format <code>list[index]</code></li>\n",
        "    <li>Untuk mengakses lebih dari satu elemen (index ke-i s.d index ke-j) gunakan format <code>list[index ke-i : index ke-j+1]</code></li>\n",
        "</ol>"
      ]
    },
    {
      "cell_type": "code",
      "execution_count": null,
      "id": "d587c182",
      "metadata": {
        "id": "d587c182",
        "outputId": "33143ec2-5fae-4b3c-edb0-4c88101631c9"
      },
      "outputs": [
        {
          "name": "stdout",
          "output_type": "stream",
          "text": [
            "Buku planner DQLab\n"
          ]
        }
      ],
      "source": [
        "\"\"\"Mengakses 1 Elemen List pada Index Tertentu\"\"\"\n",
        "\n",
        "# Inisialisasi variabel\n",
        "\n",
        "\n",
        "# Mengakses elemen pada index ke - 1\n"
      ]
    },
    {
      "cell_type": "code",
      "execution_count": null,
      "id": "aeeb7f1a",
      "metadata": {
        "id": "aeeb7f1a",
        "outputId": "6c18eb52-978b-4766-8503-e7d30a2ecd23"
      },
      "outputs": [
        {
          "name": "stdout",
          "output_type": "stream",
          "text": [
            "Gantungan Kunci DQlab\n"
          ]
        }
      ],
      "source": [
        "\"\"\"Mengakses 1 Elemen List pada Index Tertentu yang Bernilai Negatif\"\"\"\n",
        "\n",
        "# Inisialisasi variabel\n",
        "\n",
        "\n",
        "# Mengakses elemen pada index ke 2 hingga akhir \n"
      ]
    },
    {
      "cell_type": "code",
      "execution_count": null,
      "id": "489b5cb2",
      "metadata": {
        "id": "489b5cb2",
        "outputId": "14ca57a4-34fc-4c5a-f019-ef8329b8fc12"
      },
      "outputs": [
        {
          "name": "stdout",
          "output_type": "stream",
          "text": [
            "['Buku planner DQLab', 'Gantungan Kunci DQlab']\n"
          ]
        }
      ],
      "source": [
        "\"\"\" Mengakses Elemen List pada Rentang Index Tertentu\"\"\"\n",
        "\n",
        "# Inisialisasi variabel\n",
        "\n",
        "# Mengakses elemen pada index ke - 1 s.d 2 --> [1:2+1]\n"
      ]
    },
    {
      "cell_type": "code",
      "execution_count": null,
      "id": "e91a7b9b",
      "metadata": {
        "id": "e91a7b9b",
        "outputId": "51d7a56f-908f-45cb-e69c-6885c2ef1037"
      },
      "outputs": [
        {
          "name": "stdout",
          "output_type": "stream",
          "text": [
            "['Gantungan Kunci DQlab', 'kotak pensil DQLab']\n"
          ]
        }
      ],
      "source": [
        "\"\"\" Mengakses Elemen List pada Rentang Index Tertentu\"\"\"\n",
        "\n",
        "# Inisialisasi variabel\n",
        "\n",
        "# Mengakses elemen pada index ke 2 hingga akhir \n"
      ]
    },
    {
      "cell_type": "code",
      "execution_count": null,
      "id": "48f41f1b",
      "metadata": {
        "id": "48f41f1b",
        "outputId": "2cc28f06-d892-435c-95f9-0293071340f3"
      },
      "outputs": [
        {
          "name": "stdout",
          "output_type": "stream",
          "text": [
            "Nilai elemen pada index ke-3 adalah ['d', 'e']\n",
            "Nilai elemen pada index ke-3 dengan posisi subindex 1 adalah e\n"
          ]
        }
      ],
      "source": [
        "\"\"\" Mengakses Elemen List pada List (List n-dimensi) \"\"\"\n",
        "\n",
        "# Inisialisasi variabel\n",
        "\n",
        "# Akses elemen list index ke - 3\n",
        "\n",
        "# Akses elemen list index ke - 3 posisi subindex - 1 \n"
      ]
    },
    {
      "cell_type": "code",
      "execution_count": null,
      "id": "d10a5f0e",
      "metadata": {
        "id": "d10a5f0e",
        "outputId": "d061e9f6-2fa5-4c90-f69c-8cb0c61f1ef1"
      },
      "outputs": [
        {
          "name": "stdout",
          "output_type": "stream",
          "text": [
            "Jawaban pertama = ['E', 'F']\n",
            "Jawaban kedua = E\n"
          ]
        }
      ],
      "source": [
        "# DQChallenge 3 : List Access\n",
        "\n",
        "# Inisialisasi variabel\n",
        "list_3d = ['A', 'B', 'C', ['D', ['E', 'F']]]\n",
        "\n",
        "# Tuliskan sebuah sintaks sehingga output yang dihasilkan adalah ['E', 'F'] (dengan mengakses elemen pada list_3d)\n",
        "print(f\"Jawaban pertama = \")\n",
        "\n",
        "# Tuliskan sebuah sintaks sehingga output yang dihasilkan adalah 'E' (dengan mengakses elemen pada list_3d)\n",
        "print(f\"Jawaban kedua = ...\")"
      ]
    },
    {
      "cell_type": "markdown",
      "id": "5533c4ef",
      "metadata": {
        "id": "5533c4ef"
      },
      "source": [
        "### 3. Update Elemen pada List\n",
        "\n",
        "Untuk dapat mengupdate elemen pada list, lakukan proses <i>assignment</i> pada list dengan index yang akan diupdate."
      ]
    },
    {
      "cell_type": "code",
      "execution_count": null,
      "id": "037617d6",
      "metadata": {
        "id": "037617d6",
        "outputId": "44ab77d9-280c-48a1-adea-8e5420f0836f"
      },
      "outputs": [
        {
          "name": "stdout",
          "output_type": "stream",
          "text": [
            "list pelanggan awal ['Antara', 'Sendja', 'Kroma', 1, 'Aksara']\n",
            "list pelanggan setelah diupdate ['Antara', 'Sendja', 'Kroma', 'Sunyi', 'Aksara']\n"
          ]
        }
      ],
      "source": [
        "\"\"\" Update Elemen pada List \"\"\"\n",
        "\n",
        "# Inisialisasi variabel\n",
        "\n",
        "# Tampilkan hasilnya\n",
        "\n",
        "#Update elemen dengan index ke - 3 yang bernilai 1 menjadi Sunyi\n",
        "\n",
        "# Tampilkan hasilnya\n"
      ]
    },
    {
      "cell_type": "code",
      "execution_count": null,
      "id": "258b1886",
      "metadata": {
        "id": "258b1886"
      },
      "outputs": [],
      "source": [
        "# DQChallenge 2 : Data Cleansing\n",
        "\n",
        "# Inisialisasi variabel\n",
        "list_pelanggan = ['Antara', 'Sendja', 'Kroma', 123, '#&%421', [1], 'Aksara']\n",
        "\n",
        "# Update elemen nama list pelanggan yang tidak valid dengan 'Unvalid Name'\n",
        "list_pelanggan[...] = 'Unvalid Name'\n",
        "\n",
        "# Tampilkan hasilnya \n",
        "print(...)"
      ]
    },
    {
      "cell_type": "markdown",
      "id": "56ae8d73",
      "metadata": {
        "id": "56ae8d73"
      },
      "source": [
        "### 3. Menggabungkan 2 List\n",
        "\n",
        "Gunakan operator tambah ' + ' untuk menggabungkan dua buah list atau lebih. List hanya bisa dioperasi gabungkan dengan sesama list.\n",
        "\n",
        "`list_gabung = list1 + list2 + ...`\n",
        "\n",
        "Untuk menghitung banyak elemen pada list dapat menggunakan fungsi `len(<list>)`\n",
        "\n",
        "*docs : https://docs.python.org/3/library/functions.html#len*"
      ]
    },
    {
      "cell_type": "code",
      "execution_count": null,
      "id": "1f69d721",
      "metadata": {
        "id": "1f69d721",
        "outputId": "64076072-d171-446b-8946-a4dd51ed7075"
      },
      "outputs": [
        {
          "name": "stdout",
          "output_type": "stream",
          "text": [
            "['Antara', 'Sendja', 'Kroma']\n"
          ]
        }
      ],
      "source": [
        "\"\"\" Menggabungkan Dua List \"\"\"\n"
      ]
    },
    {
      "cell_type": "code",
      "execution_count": null,
      "id": "45783707",
      "metadata": {
        "id": "45783707",
        "outputId": "c08eeeb6-fc53-41c1-c435-22ab2448ded7"
      },
      "outputs": [
        {
          "name": "stdout",
          "output_type": "stream",
          "text": [
            "['Buku planner DQLab', 'Gantungan Kunci DQlab', 'kotak pensil DQLab', 'flash disk DQLab 32GB']\n"
          ]
        }
      ],
      "source": [
        "\"\"\" Menggabungkan Dua List \"\"\"\n",
        "\n",
        "# Inisialisasikan variabel\n",
        "\n",
        "# Proses penggabungan dua buah list\n",
        "\n",
        "# Tampilkan hasil\n"
      ]
    },
    {
      "cell_type": "code",
      "execution_count": null,
      "id": "f43ccc30",
      "metadata": {
        "id": "f43ccc30",
        "outputId": "3b2bce21-24bc-4f36-80ba-3a2e809f9c69"
      },
      "outputs": [
        {
          "name": "stdout",
          "output_type": "stream",
          "text": [
            "3\n"
          ]
        }
      ],
      "source": [
        "\"\"\" Menghitung Jumlah Elemen pada List dengan Fungsi len() \"\"\"\n",
        "\n",
        "# Inisialisasikan variabel\n",
        "\n",
        "# Tampilkan hasil perhitungan\n"
      ]
    },
    {
      "cell_type": "markdown",
      "id": "cc1ca6ee",
      "metadata": {
        "id": "cc1ca6ee"
      },
      "source": [
        "### 4. Operator Keanggotaan pada List\n",
        "\n",
        "Operator keanggotaan in dapat digunakan pada list untuk memeriksa apakah sebuah objek atau elemen merupakan sub himpunan dari sebuah list. \n",
        "\n",
        "    Contoh\n",
        "    ------\n",
        "    >>> a = 3\n",
        "    >>> b = [1, 2, 3, 4, 5]\n",
        "    >>> a in b\n",
        "    ... True\n",
        "    \n",
        "    Karena a = 3 merupakan elemen bagian dari list b = [1, 2, 3, 4, 5] maka a in b bernilai True"
      ]
    },
    {
      "cell_type": "code",
      "execution_count": null,
      "id": "0b21dd5a",
      "metadata": {
        "id": "0b21dd5a",
        "outputId": "32ca73c3-3b4c-4ec8-b7cb-91b6e4625e1f"
      },
      "outputs": [
        {
          "name": "stdout",
          "output_type": "stream",
          "text": [
            "True\n"
          ]
        }
      ],
      "source": [
        "\"\"\" Memeriksa Anggota dari Sebuah List \"\"\"\n",
        "\n",
        "# Inisialisasi variabel\n",
        "\n",
        "# Periksa keanggotaannya\n",
        "\n",
        "# Tampilkan hasil\n"
      ]
    },
    {
      "cell_type": "code",
      "execution_count": null,
      "id": "217ff2e8",
      "metadata": {
        "id": "217ff2e8",
        "outputId": "be2aeb67-e222-4c71-c7ab-ca98bd05a878"
      },
      "outputs": [
        {
          "name": "stdout",
          "output_type": "stream",
          "text": [
            "False\n"
          ]
        }
      ],
      "source": [
        "# DQChallenge 2 : Think bout it!\n",
        "\n",
        "\"\"\" Mengapa demikian? \"\"\"\n",
        "\n",
        "# Inisialisasi variabel\n",
        "list1 = [1, 2, 3]\n",
        "list2 = [1, 2, 3, 4, 5]\n",
        "\n",
        "# Cek keanggotaan dengan operator in\n",
        "cek_anggota = list1 in list2\n",
        "\n",
        "# Tampilkan hasil\n",
        "print(cek_anggota)"
      ]
    },
    {
      "cell_type": "markdown",
      "id": "eb51ba54",
      "metadata": {
        "id": "eb51ba54"
      },
      "source": [
        "### 5. Method pada List\n",
        "\n",
        "List merupakan sebuah class pada python yang mempunyai <i>built-in method</i> (method yang tersedia). Untuk menggunakan method adalah dengan menambahkan titik pada akhir variabel dengan tipe data list lalu panggil method yang ingin digunakan. Dibawah ini merupakan beberapa method pada list\n",
        "\n",
        "<img width = \"450\" src = \"https://www.engineersgarage.com/wp-content/uploads/2019/12/Phython-08-List-methods-table-1-1024x537.jpg\">\n",
        "\n",
        "<i>docs : https://docs.python.org/3/tutorial/datastructures.html#more-on-lists</i>"
      ]
    },
    {
      "cell_type": "markdown",
      "id": "fdaa91af",
      "metadata": {
        "id": "fdaa91af"
      },
      "source": [
        "#### 5a. Method append\n",
        "\n",
        "Method list.append(x) Menambahkan 1 atau lebih elemen pada akhir list"
      ]
    },
    {
      "cell_type": "code",
      "execution_count": null,
      "id": "b3124f22",
      "metadata": {
        "id": "b3124f22",
        "outputId": "05402e5e-b7ae-4ed8-ea9f-8b747f8566c2"
      },
      "outputs": [
        {
          "name": "stdout",
          "output_type": "stream",
          "text": [
            "List pelanggan awal = ['Antara', 'Sendja', 'Kroma', 'Aksara']\n",
            "List pelanggan update = ['Antara', 'Sendja', 'Kroma', 'Aksara', 'Sunyi']\n"
          ]
        }
      ],
      "source": [
        "# Inisialisasi variabel\n",
        "\n",
        "# Tampilkan hasilnya\n",
        "\n",
        "# Gunakan method append untuk menambahkan Sunyi pada list pelanggan\n",
        "\n",
        "# Tampilkan hasilnya\n"
      ]
    },
    {
      "cell_type": "code",
      "execution_count": null,
      "id": "9ec7c988",
      "metadata": {
        "id": "9ec7c988",
        "outputId": "393464f8-ce2e-4232-af7e-1ab3fa0ccd09"
      },
      "outputs": [
        {
          "name": "stdout",
          "output_type": "stream",
          "text": [
            "List pelanggan awal = ['Antara', 'Sendja', 'Kroma', 'Aksara']\n",
            "List pelanggan update = ['Antara', 'Sendja', 'Kroma', 'Aksara', ['Sunyi', 'Pandu']]\n"
          ]
        }
      ],
      "source": [
        "# Inisialisasi variabel\n",
        "\n",
        "# Tampilkan hasilnya\n",
        "\n",
        "# Gunakan method append untuk menambahkan Sunyi pada list pelanggan\n",
        "\n",
        "# Tampilkan hasilnya\n"
      ]
    },
    {
      "cell_type": "markdown",
      "id": "212d9d19",
      "metadata": {
        "id": "212d9d19"
      },
      "source": [
        "#### 5b. Method insert\n",
        "\n",
        "Method list.insert(index, x) menyisipkan 1 atau lebih elemen pada index tertentu"
      ]
    },
    {
      "cell_type": "code",
      "execution_count": null,
      "id": "e13cc667",
      "metadata": {
        "id": "e13cc667",
        "outputId": "1bc1a074-07fe-4c7d-cbbf-57fb1e2b2fca"
      },
      "outputs": [
        {
          "name": "stdout",
          "output_type": "stream",
          "text": [
            "List pelanggan awal = ['Antara', 'Sendja', 'Kroma', 'Aksara']\n",
            "List pelanggan update = ['Antara', 'Sunyi', 'Sendja', 'Kroma', 'Aksara']\n"
          ]
        }
      ],
      "source": [
        "# Inisialisasi variabel\n",
        "\n",
        "# Tampilkan hasilnya\n",
        "\n",
        "# Gunakan method insert untuk menyisipkan elemen Sunyi pada index ke-1 pada list pelanggan\n",
        "\n",
        "# Tampilkan hasilnya\n"
      ]
    },
    {
      "cell_type": "markdown",
      "id": "ab326d93",
      "metadata": {
        "id": "ab326d93"
      },
      "source": [
        "#### 5c. Method remove\n",
        "\n",
        "Method list.remove(x) akan menghapus elemen pada list jika nilai elemen yang ingin dihapus pada index paling awal yang dapat ditemukan pada list"
      ]
    },
    {
      "cell_type": "code",
      "execution_count": null,
      "id": "71ab4285",
      "metadata": {
        "id": "71ab4285",
        "outputId": "141ef3ce-dda6-415e-95cd-73edca0f0ba3"
      },
      "outputs": [
        {
          "name": "stdout",
          "output_type": "stream",
          "text": [
            "List pelanggan awal = ['Antara', 'Sendja', 'Kroma', 'Aksara', 'Sendja']\n",
            "List pelanggan update = ['Antara', 'Kroma', 'Aksara', 'Sendja']\n"
          ]
        }
      ],
      "source": [
        "# Inisialisasi variabel\n",
        "\n",
        "# Tampilkan hasilnya\n",
        "\n",
        "# Gunakan method insert untuk menyisipkan elemen Sunyi pada index ke-1 pada list pelanggan\n",
        "\n",
        "# Tampilkan hasilnya\n"
      ]
    },
    {
      "cell_type": "markdown",
      "id": "8a0acfb8",
      "metadata": {
        "id": "8a0acfb8"
      },
      "source": [
        "adapun untuk method yang lain, silahkan untuk mempelajarinya secara mandiri ^^"
      ]
    },
    {
      "cell_type": "markdown",
      "id": "c67fcaa3",
      "metadata": {
        "id": "c67fcaa3"
      },
      "source": [
        "### 6. Looping pada List\n",
        "\n",
        "Tipe data list dapat dilakukan proses pencacahan dengan perulangan (for). Perulangan (dan proses lain) pada elemen-elemen list dapat digunakan pada berbagai hal seperti proses filter elemen pada list atau yang lain"
      ]
    },
    {
      "cell_type": "code",
      "execution_count": null,
      "id": "4cfe2ee5",
      "metadata": {
        "id": "4cfe2ee5",
        "outputId": "57acc8ef-b528-4446-c329-66761cb2dcad"
      },
      "outputs": [
        {
          "name": "stdout",
          "output_type": "stream",
          "text": [
            "Nama pelanggan = Antara\n",
            "Nama pelanggan = Sendja\n",
            "Nama pelanggan = Kroma\n",
            "Nama pelanggan = Aksara\n",
            "Nama pelanggan = Sunyi\n"
          ]
        }
      ],
      "source": [
        "\"\"\" Penggunaan Loop pada List \"\"\"\n",
        "\n",
        "# Inisialisasi variabel\n",
        "\n",
        "# Proses looping\n"
      ]
    },
    {
      "cell_type": "code",
      "execution_count": null,
      "id": "6b943a4a",
      "metadata": {
        "id": "6b943a4a",
        "outputId": "be588afe-65c9-42be-8f4e-a13da4440799"
      },
      "outputs": [
        {
          "name": "stdout",
          "output_type": "stream",
          "text": [
            "List elemen dengan nilai ganjil = [1, 3, 5, 7]\n",
            "List elemen dengan nilai genap = [2, 4, 6]\n"
          ]
        }
      ],
      "source": [
        "\"\"\" Penggunaan Loop dan Kondisi pada List \"\"\"\n",
        "\n",
        "# Inisialisasi variabel\n",
        "\n",
        "# Definisikan sebuah list kosong \n",
        "# Hal ini berguna untuk memberi perintah bahwa variabel list_genap merupakan sebuah list\n",
        "\n",
        "# Proses looping dan conditions untuk mendapatkan list \n",
        "\n",
        "# Tampilkan hasilnya\n"
      ]
    },
    {
      "cell_type": "markdown",
      "id": "20072c44",
      "metadata": {
        "id": "20072c44"
      },
      "source": [
        "### 7. List Comprehension\n",
        "\n",
        "Proses looping (for) dan atau tanpa proses pengkondisian (if) pada list dapat dituliskan dalam satu baris dengan format sebagai berikut :\n",
        "\n",
        "List comprehension tanpa kondisi\n",
        "<br><code>nama_variabel = [result1 <b>for</b> x <b>in</b> list_name <b>]</br>\n",
        "\n",
        "List comprehension dengan 1 kondisi\n",
        "<br><code>nama_variabel = [result1 <b>for</b> x <b>in</b> list_name <b>if</b> (condition1)]</code></br>\n",
        "\n",
        "List comprehension dengan 1 kondisi dan 1 kondisi default jika kondisi awal tidak terpenuhi\n",
        "<br><code>nama_variabel = [result1 <b>if</b> (condition1) <b>else</b> result2 <b>for</b> x <b>in</b> list_name]</code></br>\n",
        "\n",
        "*docs : https://docs.python.org/3/tutorial/datastructures.html#list-comprehensions*"
      ]
    },
    {
      "cell_type": "code",
      "execution_count": null,
      "id": "3c19a97e",
      "metadata": {
        "id": "3c19a97e",
        "outputId": "a4ad168a-da53-493b-f3cb-ecc5c557baef"
      },
      "outputs": [
        {
          "name": "stdout",
          "output_type": "stream",
          "text": [
            "Hasil pangkat 2 dari list angka [1, -2, -3, 0, 4, 5, -6, 7] adalah [1, 4, 9, 0, 16, 25, 36, 49]\n"
          ]
        }
      ],
      "source": [
        "\"\"\" Penggunaan List Comprehension #1 \"\"\"\n",
        "\n",
        "# Inisialisasi variabel\n",
        "\n",
        "# Pangkat dua pada seluruh elemen pada list\n",
        "\n",
        "# Tampilkan hasilnya\n"
      ]
    },
    {
      "cell_type": "code",
      "execution_count": null,
      "id": "657042dc",
      "metadata": {
        "id": "657042dc",
        "outputId": "abe4d943-2649-4d99-ca40-32cef752d03b"
      },
      "outputs": [
        {
          "name": "stdout",
          "output_type": "stream",
          "text": [
            "Filter nilai negatif dari list angka [1, -2, -3, 0, 4, 5, -6, 7] adalah [-2, -3, -6]\n"
          ]
        }
      ],
      "source": [
        "\"\"\" Penggunaan List Comprehension #2 \"\"\"\n",
        "\n",
        "# Inisialisasi variabel\n",
        "\n",
        "# Filter hanya angka negatif pada list\n",
        "\n",
        "# Tampilkan hasilnya\n"
      ]
    },
    {
      "cell_type": "code",
      "execution_count": null,
      "id": "8d630d43",
      "metadata": {
        "id": "8d630d43",
        "outputId": "fd938019-462f-4d45-aced-2b0fb5a3acb2"
      },
      "outputs": [
        {
          "name": "stdout",
          "output_type": "stream",
          "text": [
            "Filter nilai negatif dari list angka [1, -2, -3, 0, 4, 5, -6, 7] adalah [1, 2, 3, 0, 4, 5, 6, 7]\n"
          ]
        }
      ],
      "source": [
        "\"\"\" Penggunaan List Comprehension #3 \"\"\"\n",
        "\n",
        "# Inisialisasi variabel\n",
        "\n",
        "# Nilai multak atau absolut dari list angka\n",
        "\n",
        "# Tampilkan hasilnya\n"
      ]
    },
    {
      "cell_type": "markdown",
      "id": "c45bfe4f",
      "metadata": {
        "id": "c45bfe4f"
      },
      "source": [
        "### 8. Dictionary\n",
        "\n",
        "Dictionary adalah tipe data pada python yang berfungsi untuk menyimpan kumpulan data/nilai dengan pendekatan “key:value”.\n",
        "\n",
        "<b>Contoh :</b> {1 : 'Apple', 2 : 'One Plus'}</br>\n",
        "\n",
        "<img width = \"400\" src = \"http://www.trytoprogram.com/images/python_dictionary.jpg\">\n",
        "\n",
        "Sifat dictionary :\n",
        "<ol>\n",
        "    <li>Elemen pada dictionary dapat diubah / dapat diupdate (<i>changeable</i>)</li>\n",
        "    <li>Dictionary tidak menerima elemen yang sama / duplikat pada key namun boleh menerima elemen yang sama pada value</li>\n",
        "</ol>\n",
        "\n",
        "Untuk membuat dictionary terdapat dua cara, yakni dengan kurung kurawal {} atau dengan constructor dict()\n",
        "\n",
        "*docs : https://docs.python.org/3/tutorial/datastructures.html#dictionaries*"
      ]
    },
    {
      "cell_type": "code",
      "execution_count": null,
      "id": "b9624371",
      "metadata": {
        "id": "b9624371",
        "outputId": "23776905-1cd2-42cc-f661-8ff9a73afdda"
      },
      "outputs": [
        {
          "name": "stdout",
          "output_type": "stream",
          "text": [
            "{'Aksara': 78, 'Sendja': 90, 'Sunyi': 57, 'Antara': 98}\n"
          ]
        }
      ],
      "source": [
        "\"\"\" Membuat Dictionary dengan Simbol Kurung Kurawal \"\"\"\n",
        "\n",
        "# Inisialisasi variabel\n",
        "\n",
        "# Tampilkan hasilnya\n"
      ]
    },
    {
      "cell_type": "code",
      "execution_count": null,
      "id": "1131ac96",
      "metadata": {
        "id": "1131ac96",
        "outputId": "1aadd2b2-7bd2-4527-be7a-4386d349cfc1"
      },
      "outputs": [
        {
          "name": "stdout",
          "output_type": "stream",
          "text": [
            "{'Aksara': 78, 'Sendja': 90, 'Sunyi': 57, 'Antara': 98}\n"
          ]
        }
      ],
      "source": [
        "\"\"\" Membuat Dictionary dengan Constructor dict \"\"\"\n",
        "\n",
        "# Inisialisasi variabel\n",
        "\n",
        "# Tampilkan hasilnya\n"
      ]
    },
    {
      "cell_type": "code",
      "execution_count": null,
      "id": "3a8e5ba7",
      "metadata": {
        "id": "3a8e5ba7",
        "outputId": "8653fdf6-f44f-494d-efd0-ba0e8a5d70dc"
      },
      "outputs": [
        {
          "name": "stdout",
          "output_type": "stream",
          "text": [
            "Nilai variabel dict1 = {} dengan tipedata = <class 'dict'>\n",
            "Nilai variabel dict2 = {} dengan tipedata = <class 'dict'>\n"
          ]
        }
      ],
      "source": [
        "\"\"\" Membuat Dictionary Kosong dengan Constructor dict \"\"\"\n",
        "\n",
        "# Membuat dictionary kosong dengan simbol\n",
        "\n",
        "# Tampilkan hasilnya\n",
        "\n",
        "# Membuat dictionary kosong dengan konstruktor\n",
        "\n",
        "# Tampilkan hasilnya\n"
      ]
    },
    {
      "cell_type": "markdown",
      "id": "f80cfdc0",
      "metadata": {
        "id": "f80cfdc0"
      },
      "source": [
        "### 9. Mengakses & Mengupdate Dictionary\n",
        "\n",
        "Dictionary dapat diakses melalui kuncinya (<i>key</i>) dan jika diinginkan proses update maka dapat diupdate juga melalui <i>key</i>-nya dengan proses <i>assignment</i>"
      ]
    },
    {
      "cell_type": "code",
      "execution_count": null,
      "id": "1f4e7089",
      "metadata": {
        "id": "1f4e7089",
        "outputId": "467e7930-7b30-47eb-80bb-abd9871af92e"
      },
      "outputs": [
        {
          "name": "stdout",
          "output_type": "stream",
          "text": [
            "57\n"
          ]
        }
      ],
      "source": [
        "\"\"\" Mengakses Dictionary\"\"\"\n",
        "\n",
        "# Inisialisasi variabel\n",
        "\n",
        "# Tampilkan hasilnya\n"
      ]
    },
    {
      "cell_type": "code",
      "execution_count": null,
      "id": "38017fb8",
      "metadata": {
        "id": "38017fb8",
        "outputId": "24020c07-1e62-4d26-a45e-4f999c619fbb"
      },
      "outputs": [
        {
          "name": "stdout",
          "output_type": "stream",
          "text": [
            "Nilai IPA Kelas X = {'Aksara': 78, 'Sendja': 90, 'Sunyi': 57, 'Antara': 98}\n",
            "Nilai IPA Kelas X setelah diupdate = {'Aksara': 78, 'Sendja': 90, 'Sunyi': 47, 'Antara': 98}\n"
          ]
        }
      ],
      "source": [
        "\"\"\" Mengupdate value pada Dictionary\"\"\"\n",
        "\n",
        "# Inisialisasi variabel\n",
        "\n",
        "# Tampilkan hasilnya\n",
        "\n",
        "# Ternyata nilai Sunyi salah dalam pendefinisiannya, bukan 57 seharusnya 47\n",
        "\n",
        "# Tampilkan hasilnya\n"
      ]
    },
    {
      "cell_type": "markdown",
      "id": "93cf8fc4",
      "metadata": {
        "id": "93cf8fc4"
      },
      "source": [
        "### 10. Method pada Dictionary\n",
        "\n",
        "Sama dengan tipedata list, pada tipe data dictionary juga terdapat <i>built-in method</i> yang tersedia. Berikut beberapa method pada dictionary \n",
        "\n",
        "<img width = \"550\" src = \"https://www.engineeringbigdata.com/wp-content/uploads/python-dictionary-methods.jpg\">"
      ]
    },
    {
      "cell_type": "markdown",
      "id": "ddb0a3fd",
      "metadata": {
        "id": "ddb0a3fd"
      },
      "source": [
        "#### 10a. Method get\n",
        "\n",
        "Method get memungkinkan untuk mengakses value melalui key yang dicari. Jika ditemukan maka akan merujuk ke value yang ditunjuk, jika tidak ditemukan maka akan menghasilkan nilai None"
      ]
    },
    {
      "cell_type": "code",
      "execution_count": null,
      "id": "9b8d8835",
      "metadata": {
        "id": "9b8d8835",
        "outputId": "8d5120c7-0501-4df1-c1d0-6d1ab2649fc4"
      },
      "outputs": [
        {
          "name": "stdout",
          "output_type": "stream",
          "text": [
            "98\n"
          ]
        }
      ],
      "source": [
        "\"\"\" Penggunaan Method pada Dictionary \"\"\"\n",
        "\n",
        "# Inisialisasi variabel\n",
        "\n",
        "# Penggunaan method get\n",
        "\n",
        "\n",
        "# Tampilkan hasilnya\n"
      ]
    },
    {
      "cell_type": "code",
      "execution_count": null,
      "id": "b05b1982",
      "metadata": {
        "id": "b05b1982",
        "outputId": "3d30b108-b5fd-48ab-8172-bfe3fa486324"
      },
      "outputs": [
        {
          "name": "stdout",
          "output_type": "stream",
          "text": [
            "None\n"
          ]
        }
      ],
      "source": [
        "\"\"\" Penggunaan Method pada Dictionary \"\"\"\n",
        "\n",
        "# Inisialisasi variabel\n",
        "\n",
        "\n",
        "# Penggunaan method get\n",
        "\n",
        "\n",
        "# Tampilkan hasilnya\n"
      ]
    },
    {
      "cell_type": "markdown",
      "id": "00d3ec1b",
      "metadata": {
        "id": "00d3ec1b"
      },
      "source": [
        "#### 10b. Method update\n",
        "\n",
        "Sesuai dengan namanya method update digunakan untuk mengupdate nilai jika key ditemukan, namun jika tidak maka nilai baru akan ditambahkan"
      ]
    },
    {
      "cell_type": "code",
      "execution_count": null,
      "id": "eb1711e6",
      "metadata": {
        "id": "eb1711e6",
        "outputId": "6e27f010-d7d1-456e-a410-a766c9abc19c"
      },
      "outputs": [
        {
          "name": "stdout",
          "output_type": "stream",
          "text": [
            "{'Aksara': 69, 'Sendja': 90, 'Sunyi': 57, 'Antara': 98, 'Rayhan': 100}\n"
          ]
        }
      ],
      "source": [
        "\"\"\" Penggunaan Method pada Dictionary \"\"\"\n",
        "\n",
        "# Inisialisasi variabel\n",
        "\n",
        "# Penggunaan method update\n",
        "\n",
        "# Tampilkan hasilnya\n"
      ]
    },
    {
      "cell_type": "markdown",
      "id": "1a442f3b",
      "metadata": {
        "id": "1a442f3b"
      },
      "source": [
        "### 11. Looping pada Dictionary\n",
        "\n",
        "Dictionary juga dapat dilakukan proses perulangan. Namun untuk dapat melakukan hal tersebut method dict.items() harus dipanggil untuk mem-'bongkar' nilai pada dictionary"
      ]
    },
    {
      "cell_type": "code",
      "execution_count": null,
      "id": "c364ab65",
      "metadata": {
        "id": "c364ab65",
        "outputId": "0e6f7070-7fa5-4d24-868e-82d1adff62da"
      },
      "outputs": [
        {
          "name": "stdout",
          "output_type": "stream",
          "text": [
            "Pada kunci = Aksara mempunyai nilai = 78\n",
            "Pada kunci = Sendja mempunyai nilai = 90\n",
            "Pada kunci = Sunyi mempunyai nilai = 57\n",
            "Pada kunci = Antara mempunyai nilai = 98\n"
          ]
        }
      ],
      "source": [
        "\"\"\" Penggunaan Loop pada Dictionary \"\"\"\n",
        "\n",
        "# Inisialisasi variabel\n",
        "\n",
        "# Proses perulangan\n"
      ]
    },
    {
      "cell_type": "markdown",
      "id": "2ad2d0e1",
      "metadata": {
        "id": "2ad2d0e1"
      },
      "source": [
        "---\n",
        "<p>\n",
        "<img src=\"https://cdn.dribbble.com/users/391028/screenshots/1271630/media/79a5c590a597f28de65d11837ffa46c3.gif\" style=\"float:right;width:350px;height:225px;\">\n",
        "    <h1 style=\"font-size:5vw\">Black Box Challenge!</h1>\n",
        "    <br>\n",
        "        <br>\n",
        "            Pada akhir tahun, sebuah toko menerapkan potongan harga untuk setiap item yang ada di tokonya. Setiap item mempunyai harga dan potongan harga yang berbeda-beda tergantung pada jenis barangnya. Ketentuannya adalah sebagai berikut :\n",
        "        </br>\n",
        "        <ol>\n",
        "            <li>Baju mendapat potongan 20%</li>\n",
        "            <li>Celana mendapat potongan 25%</li>\n",
        "            <li>Item lain mendapat potongan 10%</li>\n",
        "        </ol>\n",
        "        <br>Harga pakaian dan jenisnya telah dituliskan sintaksnya seperti dibawah ini, tugasmu adalah membantu kepala toko untuk menghitung dan menampilkan nama barang, harga barang sebelum potongan, discount (dalam persen) dan harga setelah dipotong berdasarkan potongan yang ditentukan. <i>Expected output</i>-nya seperti yang tertera pada konsol\n",
        "        </br>\n",
        "    </br>\n",
        "</p>\n",
        "\n"
      ]
    },
    {
      "cell_type": "code",
      "execution_count": 8,
      "id": "758c532a",
      "metadata": {
        "id": "758c532a",
        "outputId": "502a6f13-70b2-465e-dd26-d3bcb6667170"
      },
      "outputs": [
        {
          "name": "stdout",
          "output_type": "stream",
          "text": [
            "Harga Baju Kaos yang semula Rp.75000, mendapat discount = 20% sekarang menjadi Rp.60000\n",
            "Harga Baju Lengan Panjang yang semula Rp.90000, mendapat discount = 20% sekarang menjadi Rp.72000\n",
            "Harga Celana Jeans yang semula Rp.157500, mendapat discount = 25% sekarang menjadi Rp.118125\n",
            "Harga Celana Pendek yang semula Rp.80000, mendapat discount = 25% sekarang menjadi Rp.60000\n",
            "Harga Sepatu yang semula Rp.250000, mendapat discount = 10% sekarang menjadi Rp.225000\n",
            "Harga Aksesoris yang semula Rp.50000, mendapat discount = 10% sekarang menjadi Rp.45000\n"
          ]
        }
      ],
      "source": [
        "\n",
        "# Inisialisasi variabel\n",
        "harga_pakaian = {\n",
        "    \"Baju Kaos\" : 75000,\n",
        "    \"Baju Lengan Panjang\" : 90000,\n",
        "    \"Celana Jeans\" : 157500,\n",
        "    \"Celana Pendek\" : 80000,\n",
        "    \"Sepatu\" : 250000,\n",
        "    \"Aksesoris\" : 50000\n",
        "}\n",
        "\n",
        "# Tulis kodemu secantik dan seefisien mungkin ya bestih\n",
        "for k, v in harga_pakaian.items():\n",
        "    if (k == \"Baju Kaos\"):\n",
        "        discountBajuKaos = v - (v * 20/100)\n",
        "        print(f'Harga {k} yang semula Rp.{v}, mendapat discount = 20% sekarang menjadi Rp.{int(discountBajuKaos)}')\n",
        "    elif (k == \"Baju Lengan Panjang\"):\n",
        "        discountBajuLenganPanjang = v - (v * 20/100)\n",
        "        print(f'Harga {k} yang semula Rp.{v}, mendapat discount = 20% sekarang menjadi Rp.{int(discountBajuLenganPanjang)}')\n",
        "    elif (k == \"Celana Jeans\"):\n",
        "        discountCelanaJeans = v - (v * 25/100)\n",
        "        print(f'Harga {k} yang semula Rp.{v}, mendapat discount = 25% sekarang menjadi Rp.{int(discountCelanaJeans)}')\n",
        "    elif (k == \"Celana Pendek\"):\n",
        "        discountCelanaPendek = v - (v * 25/100)\n",
        "        print(f'Harga {k} yang semula Rp.{v}, mendapat discount = 25% sekarang menjadi Rp.{int(discountCelanaPendek)}')\n",
        "    elif (k == \"Sepatu\"):\n",
        "        discountSepatu = v - (v * 10/100)\n",
        "        print(f'Harga {k} yang semula Rp.{v}, mendapat discount = 10% sekarang menjadi Rp.{int(discountSepatu)}')\n",
        "    elif (k == \"Aksesoris\"):\n",
        "        discountAksesoris = v - (v * 10/100)\n",
        "        print(f'Harga {k} yang semula Rp.{v}, mendapat discount = 10% sekarang menjadi Rp.{int(discountAksesoris)}')\n",
        "      \n",
        "    \n",
        "# Output\n",
        "# \"Harga Baju Kaos yang semula Rp.75000, mendapat discount = 20% sekarang menjadi Rp.60000\\n\",\n",
        "# \"Harga Baju Lengan Panjang yang semula Rp.90000, mendapat discount = 20% sekarang menjadi Rp.72000\\n\",\n",
        "# \"Harga Celana Jeans yang semula Rp.157500, mendapat discount = 25% sekarang menjadi Rp.118125\\n\",\n",
        "# \"Harga Celana Pendek yang semula Rp.80000, mendapat discount = 25% sekarang menjadi Rp.60000\\n\",\n",
        "# \"Harga Sepatu yang semula Rp.250000, mendapat discount = 10% sekarang menjadi Rp.225000\\n\",\n",
        "# \"Harga Aksesoris yang semula Rp.50000, mendapat discount = 10% sekarang menjadi Rp.45000\\n\"    "
      ]
    },
    {
      "cell_type": "markdown",
      "id": "8cd16bb0",
      "metadata": {
        "id": "8cd16bb0"
      },
      "source": [
        "<br><h4 align=\"right\"> to be continued : <i>Stroms Don't Last Forever - Functions</i></h4></br>\n",
        "\n",
        "---\n",
        "copyright DQLab © 2022"
      ]
    }
  ],
  "metadata": {
    "colab": {
      "provenance": []
    },
    "kernelspec": {
      "display_name": "Python 3.10.6 64-bit",
      "language": "python",
      "name": "python3"
    },
    "language_info": {
      "codemirror_mode": {
        "name": "ipython",
        "version": 3
      },
      "file_extension": ".py",
      "mimetype": "text/x-python",
      "name": "python",
      "nbconvert_exporter": "python",
      "pygments_lexer": "ipython3",
      "version": "3.10.6"
    },
    "vscode": {
      "interpreter": {
        "hash": "916dbcbb3f70747c44a77c7bcd40155683ae19c65e1c03b4aa3499c5328201f1"
      }
    }
  },
  "nbformat": 4,
  "nbformat_minor": 5
}
