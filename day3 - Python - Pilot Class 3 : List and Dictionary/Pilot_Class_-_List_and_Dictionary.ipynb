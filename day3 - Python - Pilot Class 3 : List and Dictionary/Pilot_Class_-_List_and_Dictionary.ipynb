{
 "cells": [
  {
   "cell_type": "markdown",
   "id": "d8d3413c",
   "metadata": {},
   "source": [
    "<p>\n",
    "<h1 style=\"font-size:300%;\">\n",
    "    Turbulence.\n",
    "</h1>\n",
    "<img src = \"https://i.pinimg.com/originals/f9/5d/6f/f95d6f0ea59a295ac23c66157175a0da.gif\" \n",
    "     style = \"float:right\" width=\"350\">\n",
    "\n",
    "<p style=\"font-size:160%;\">\n",
    "    Python - Pilot Class 3 : List and Dictionary\n",
    "</p>\n",
    "    <br>\n",
    "        <br>\n",
    "            <p style=\"font-size:110%;\">\n",
    "                 The Captain has turned on the fasten seat belt sign. We are now crossing a zone of turbulence in Pythonverse : List and Dictionary. Understanding this, might save you later. Please return your seats and keep your seat belts fastened. \n",
    "            </p>\n",
    "            <br>\n",
    "                 <p style=\"font-size:110%;\">\n",
    "                    This possibility won't last long, so stay safe all.\n",
    "                </p>\n",
    "            </br>\n",
    "        </br>\n",
    "    </br>\n",
    "</img>\n",
    "</p>"
   ]
  },
  {
   "cell_type": "markdown",
   "id": "d40001be",
   "metadata": {},
   "source": [
    "---"
   ]
  },
  {
   "cell_type": "markdown",
   "id": "0c819090",
   "metadata": {},
   "source": [
    "### 1. List\n",
    "\n",
    "Urutan bilangan, teks atau objek apapun yang diapit oleh kurung siku \\[ \\] dan masing-masing elemennya dipisahkan oleh tanda koma (,)\n",
    "\n",
    "<b>Contoh :</b> \\[1, 'DQSquad', True, [0.89, 'B']\\]\n",
    "\n",
    "Sifat list :\n",
    "<ol>\n",
    "    <li>Elemen pada list dapat diubah / dapat diupdate (<i>changeable</i>)</li>\n",
    "    <li>List menerima elemen yang sama / duplikat (<i>allow duplicate values</i>)</li>\n",
    "    <li>Elemen pada list terurut (<i>ordered</i>) sesuai label/index yang diberikan (bukan terurut alfabetikal atau numerikal)</li>\n",
    "</ol>\n",
    "\n",
    "Untuk membuat list terdapat dua cara, yakni dengan kurung siku atau dengan constructor list()\n",
    "\n",
    "*docs : https://docs.python.org/3/library/functions.html#func-list*"
   ]
  },
  {
   "cell_type": "code",
   "execution_count": 1,
   "id": "8a775062",
   "metadata": {},
   "outputs": [
    {
     "name": "stdout",
     "output_type": "stream",
     "text": [
      "['Antara', 'Sendja', 'Kroma']\n"
     ]
    }
   ],
   "source": [
    "\"\"\" Membuat List dengan Kurung Siku \"\"\"\n",
    "\n",
    "# Assignment list kedalam sebuah variabel\n",
    "dqsquad = ['Antara', 'Sendja', 'Kroma']\n",
    "\n",
    "# Tampilkan hasil\n",
    "print(dqsquad)"
   ]
  },
  {
   "cell_type": "code",
   "execution_count": 3,
   "id": "92276ec0",
   "metadata": {},
   "outputs": [
    {
     "name": "stdout",
     "output_type": "stream",
     "text": [
      "Nilai pada variabel dqsquad = ['Antara', 'Sendja', 'Kroma'] dengan tipe data <class 'list'>\n"
     ]
    }
   ],
   "source": [
    "\"\"\" Membuat List dengan Tanda Kurung Siku \"\"\"\n",
    "\n",
    "# Assignment list kedalam sebuah variabel\n",
    "dqsquad = ['Antara', 'Sendja', 'Kroma']\n",
    "\n",
    "# Tampilkan hasil\n",
    "print(f\"Nilai pada variabel dqsquad = {dqsquad} dengan tipe data {type(dqsquad)}\")"
   ]
  },
  {
   "cell_type": "code",
   "execution_count": 15,
   "id": "b9a877d5",
   "metadata": {},
   "outputs": [
    {
     "name": "stdout",
     "output_type": "stream",
     "text": [
      "['Antara', 'Sendja', 'Kroma']\n"
     ]
    }
   ],
   "source": [
    "\"\"\" Membuat List dengan Constructor List \"\"\"\n",
    "\n",
    "# Assignment list kedalam sebuah variabel dengan konstruktor\n",
    "dqsquad = list(('Antara', 'Sendja', 'Kroma'))\n",
    "\n",
    "# Tampilkan hasil\n",
    "print(dqsquad)"
   ]
  },
  {
   "cell_type": "code",
   "execution_count": 28,
   "id": "3825d6e5",
   "metadata": {},
   "outputs": [
    {
     "name": "stdout",
     "output_type": "stream",
     "text": [
      "Nilai x = [] dengan tipe data <class 'list'>\n",
      "Nilai y = [] dengan tipe data <class 'list'>\n"
     ]
    }
   ],
   "source": [
    "\"\"\" Membuat List tanpa Elemen (empty list) \"\"\"\n",
    "\n",
    "x = []\n",
    "print(f'Nilai x = {x} dengan tipe data {type(x)}')\n",
    "\n",
    "y = list()\n",
    "print(f'Nilai y = {y} dengan tipe data {type(y)}')"
   ]
  },
  {
   "cell_type": "code",
   "execution_count": 26,
   "id": "832307b2",
   "metadata": {},
   "outputs": [
    {
     "name": "stdout",
     "output_type": "stream",
     "text": [
      "Hasil 1 : ['a', 'n', 't', 'a', 'r', 'a']\n",
      "Hasil 2 : ['antara']\n"
     ]
    }
   ],
   "source": [
    "# DQChallenge 1 : Think bout it!\n",
    "\n",
    "\"\"\" Pendefinisian mirip mengapa hasil berbeda? \"\"\"\n",
    "\n",
    "hasil1 = list('antara')\n",
    "print(f'Hasil 1 : {hasil1}')\n",
    "\n",
    "hasil2 = ['antara']\n",
    "print(f'Hasil 2 : {hasil2}')"
   ]
  },
  {
   "cell_type": "markdown",
   "id": "7d3e5307",
   "metadata": {},
   "source": [
    "### 2. Mengakses List\n",
    "\n",
    "Setiap elemen pada list yang terbentuk, secara otomatis akan mempunyai pengenal posisi atau disebut index. \n",
    "<img width = \"450\" src = \"https://i1.faceprep.in/Companies-1/lists-in-python.png\">\n",
    "\n",
    "<ol>\n",
    "    <li>Untuk mengakses 1 elemen list pada index tertentu gunakan format <code>list[index]</code></li>\n",
    "    <li>Untuk mengakses lebih dari satu elemen (index ke-i s.d index ke-j) gunakan format <code>list[index ke-i : index ke-j+1]</code></li>\n",
    "</ol>"
   ]
  },
  {
   "cell_type": "code",
   "execution_count": 4,
   "id": "d587c182",
   "metadata": {},
   "outputs": [
    {
     "name": "stdout",
     "output_type": "stream",
     "text": [
      "Buku planner DQLab\n"
     ]
    }
   ],
   "source": [
    "\"\"\"Mengakses 1 Elemen List pada Index Tertentu\"\"\"\n",
    "\n",
    "# Inisialisasi variabel\n",
    "list_produk = ['flash disk DQLab 32GB', 'Buku planner DQLab', 'Gantungan Kunci DQlab', 'kotak pensil DQLab']\n",
    "\n",
    "# Mengakses elemen pada index ke - 1\n",
    "print(list_produk[1])"
   ]
  },
  {
   "cell_type": "code",
   "execution_count": 13,
   "id": "aeeb7f1a",
   "metadata": {},
   "outputs": [
    {
     "name": "stdout",
     "output_type": "stream",
     "text": [
      "Gantungan Kunci DQlab\n"
     ]
    }
   ],
   "source": [
    "\"\"\"Mengakses 1 Elemen List pada Index Tertentu yang Bernilai Negatif\"\"\"\n",
    "\n",
    "# Inisialisasi variabel\n",
    "list_produk = ['flash disk DQLab 32GB', 'Buku planner DQLab', 'Gantungan Kunci DQlab', 'kotak pensil DQLab']\n",
    "\n",
    "# Mengakses elemen pada index ke 2 hingga akhir \n",
    "print(list_produk[-2])"
   ]
  },
  {
   "cell_type": "code",
   "execution_count": 6,
   "id": "489b5cb2",
   "metadata": {},
   "outputs": [
    {
     "name": "stdout",
     "output_type": "stream",
     "text": [
      "['Buku planner DQLab', 'Gantungan Kunci DQlab']\n"
     ]
    }
   ],
   "source": [
    "\"\"\" Mengakses Elemen List pada Rentang Index Tertentu\"\"\"\n",
    "\n",
    "# Inisialisasi variabel\n",
    "list_produk = ['flash disk DQLab 32GB', 'Buku planner DQLab', 'Gantungan Kunci DQlab', 'kotak pensil DQLab']\n",
    "\n",
    "# Mengakses elemen pada index ke - 1 s.d 2 --> [1:2+1]\n",
    "print(list_produk[1:3])"
   ]
  },
  {
   "cell_type": "code",
   "execution_count": 10,
   "id": "e91a7b9b",
   "metadata": {},
   "outputs": [
    {
     "name": "stdout",
     "output_type": "stream",
     "text": [
      "['Gantungan Kunci DQlab', 'kotak pensil DQLab']\n"
     ]
    }
   ],
   "source": [
    "\"\"\" Mengakses Elemen List pada Rentang Index Tertentu\"\"\"\n",
    "\n",
    "# Inisialisasi variabel\n",
    "list_produk = ['flash disk DQLab 32GB', 'Buku planner DQLab', 'Gantungan Kunci DQlab', 'kotak pensil DQLab']\n",
    "\n",
    "# Mengakses elemen pada index ke 2 hingga akhir \n",
    "print(list_produk[2:])"
   ]
  },
  {
   "cell_type": "code",
   "execution_count": 9,
   "id": "756be76e",
   "metadata": {},
   "outputs": [
    {
     "name": "stdout",
     "output_type": "stream",
     "text": [
      "Nilai elemen pada index ke-3 adalah ['d', 'e']\n",
      "Nilai elemen pada index ke-3 dengan posisi subindex 1 adalah e\n"
     ]
    }
   ],
   "source": [
    "\"\"\" Mengakses Elemen List pada List (List n-dimensi) \"\"\"\n",
    "\n",
    "# Inisialisasi variabel\n",
    "list_2d = ['a', 'b', 'c', ['d', 'e']]\n",
    "\n",
    "# Akses elemen list index ke - 3\n",
    "print(f\"Nilai elemen pada index ke-3 adalah {list_2d[3]}\")\n",
    "\n",
    "# Akses elemen list index ke - 3 posisi subindex - 1 \n",
    "print(f\"Nilai elemen pada index ke-3 dengan posisi subindex 1 adalah {list_2d[3][1]}\")"
   ]
  },
  {
   "cell_type": "code",
   "execution_count": 13,
   "id": "8569da56",
   "metadata": {},
   "outputs": [
    {
     "name": "stdout",
     "output_type": "stream",
     "text": [
      "Jawaban pertama = ['E', 'F']\n",
      "Jawaban kedua = E\n"
     ]
    }
   ],
   "source": [
    "# DQChallenge 3 :\n",
    "\n",
    "# Inisialisasi variabel\n",
    "list_3d = ['A', 'B', 'C', ['D', ['E', 'F']]]\n",
    "\n",
    "# Tuliskan sebuah sintaks sehingga output yang dihasilkan adalah ['E', 'F'] (dengan mengakses elemen pada list_3d)\n",
    "print(f\"Jawaban pertama = ...\")\n",
    "\n",
    "# Tuliskan sebuah sintaks sehingga output yang dihasilkan adalah 'E' (dengan mengakses elemen pada list_3d)\n",
    "print(f\"Jawaban kedua = ...\")"
   ]
  },
  {
   "cell_type": "markdown",
   "id": "892e5a94",
   "metadata": {},
   "source": [
    "### 3. Update Elemen pada List\n",
    "\n",
    "Untuk dapat mengupdate elemen pada list, lakukan proses <i>assignment</i> pada list dengan index yang akan diupdate."
   ]
  },
  {
   "cell_type": "code",
   "execution_count": 2,
   "id": "a1fe5528",
   "metadata": {},
   "outputs": [
    {
     "name": "stdout",
     "output_type": "stream",
     "text": [
      "list pelanggan awal ['Antara', 'Sendja', 'Kroma', 1, 'Aksara']\n",
      "list pelanggan setelah diupdate ['Antara', 'Sendja', 'Kroma', 'Sunyi', 'Aksara']\n"
     ]
    }
   ],
   "source": [
    "\"\"\" Update Elemen pada List \"\"\"\n",
    "\n",
    "# Inisialisasi variabel\n",
    "list_pelanggan = ['Antara', 'Sendja', 'Kroma', 1, 'Aksara']\n",
    "\n",
    "# Tampilkan hasilnya\n",
    "print(f'list pelanggan awal {list_pelanggan}')\n",
    "\n",
    "#Update elemen dengan index ke - 3 yang bernilai 1 menjadi Sunyi\n",
    "list_pelanggan[3] = 'Sunyi'\n",
    "\n",
    "# Tampilkan hasilnya\n",
    "print(f'list pelanggan setelah diupdate {list_pelanggan}')"
   ]
  },
  {
   "cell_type": "code",
   "execution_count": null,
   "id": "79cab4b3",
   "metadata": {},
   "outputs": [],
   "source": [
    "# DQChallenge 2 : Data Cleansing\n",
    "\n",
    "# Inisialisasi variabel\n",
    "list_pelanggan = ['Antara', 'Sendja', 'Kroma', 123, '#&%421', [1], 'Aksara']\n",
    "\n",
    "# Update elemen nama list pelanggan yang tidak valid dengan 'Unvalid Name'\n",
    "list_pelanggan[...] = 'Unvalid Name'\n",
    "\n",
    "# Tampilkan hasilnya \n",
    "print(...)"
   ]
  },
  {
   "cell_type": "markdown",
   "id": "56ae8d73",
   "metadata": {},
   "source": [
    "### 3. Menggabungkan 2 List\n",
    "\n",
    "Gunakan operator tambah ' + ' untuk menggabungkan dua buah list atau lebih. List hanya bisa dioperasi gabungkan dengan sesama list.\n",
    "\n",
    "`list_gabung = list1 + list2 + ...`\n",
    "\n",
    "Untuk menghitung banyak elemen pada list dapat menggunakan fungsi `len(<list>)`\n",
    "\n",
    "*docs : https://docs.python.org/3/library/functions.html#len*"
   ]
  },
  {
   "cell_type": "code",
   "execution_count": 30,
   "id": "1f69d721",
   "metadata": {},
   "outputs": [
    {
     "name": "stdout",
     "output_type": "stream",
     "text": [
      "['Antara', 'Sendja', 'Kroma']\n"
     ]
    }
   ],
   "source": [
    "\"\"\" Menggabungkan Dua List \"\"\"\n",
    "\n",
    "dqsquad = ['Antara', 'Sendja'] + ['Kroma']\n",
    "\n",
    "print(dqsquad)"
   ]
  },
  {
   "cell_type": "code",
   "execution_count": 16,
   "id": "45783707",
   "metadata": {},
   "outputs": [
    {
     "name": "stdout",
     "output_type": "stream",
     "text": [
      "['Buku planner DQLab', 'Gantungan Kunci DQlab', 'kotak pensil DQLab', 'flash disk DQLab 32GB']\n"
     ]
    }
   ],
   "source": [
    "\"\"\" Menggabungkan Dua List \"\"\"\n",
    "\n",
    "# Inisialisasikan variabel\n",
    "list_produk = ['Buku planner DQLab','Gantungan Kunci DQlab','kotak pensil DQLab']\n",
    "produk_baru = ['flash disk DQLab 32GB']\n",
    "\n",
    "# Proses penggabungan dua buah list\n",
    "list_produk = list_produk + produk_baru\n",
    "\n",
    "# Tampilkan hasil\n",
    "print(list_produk)"
   ]
  },
  {
   "cell_type": "code",
   "execution_count": 36,
   "id": "f43ccc30",
   "metadata": {},
   "outputs": [
    {
     "name": "stdout",
     "output_type": "stream",
     "text": [
      "3\n"
     ]
    }
   ],
   "source": [
    "\"\"\" Menghitung Jumlah Elemen pada List dengan Fungsi len() \"\"\"\n",
    "\n",
    "# Inisialisasikan variabel\n",
    "list_produk = ['Buku planner DQLab','Gantungan Kunci DQlab','kotak pensil DQLab']\n",
    "\n",
    "# Tampilkan hasil perhitungan\n",
    "print(len(list_produk))"
   ]
  },
  {
   "cell_type": "markdown",
   "id": "cc1ca6ee",
   "metadata": {},
   "source": [
    "### 4. Operator Keanggotaan pada List\n",
    "\n",
    "Operator keanggotaan in dapat digunakan pada list untuk memeriksa apakah sebuah objek atau elemen merupakan sub himpunan dari sebuah list. \n",
    "\n",
    "    Contoh\n",
    "    ------\n",
    "    >>> a = 3\n",
    "    >>> b = [1, 2, 3, 4, 5]\n",
    "    >>> a in b\n",
    "    ... True\n",
    "    \n",
    "    Karena a = 3 merupakan elemen bagian dari list b = [1, 2, 3, 4, 5] maka a in b bernilai True"
   ]
  },
  {
   "cell_type": "code",
   "execution_count": 40,
   "id": "0b21dd5a",
   "metadata": {},
   "outputs": [
    {
     "name": "stdout",
     "output_type": "stream",
     "text": [
      "True\n"
     ]
    }
   ],
   "source": [
    "\"\"\" Memeriksa Anggota dari Sebuah List \"\"\"\n",
    "\n",
    "# Inisialisasi variabel\n",
    "a = 'dqlab'\n",
    "b = ['dqlab', 'mulai', 'belajar', 'data']\n",
    "\n",
    "# Periksa keanggotaannya\n",
    "c = a in b\n",
    "\n",
    "# Tampilkan hasil\n",
    "print(c)"
   ]
  },
  {
   "cell_type": "code",
   "execution_count": 42,
   "id": "217ff2e8",
   "metadata": {},
   "outputs": [
    {
     "name": "stdout",
     "output_type": "stream",
     "text": [
      "False\n"
     ]
    }
   ],
   "source": [
    "# DQChallenge 2 : Think bout it!\n",
    "\n",
    "\"\"\" Mengapa demikian? \"\"\"\n",
    "\n",
    "# Inisialisasi variabel\n",
    "list1 = [1, 2, 3]\n",
    "list2 = [1, 2, 3, 4, 5]\n",
    "\n",
    "# Cek keanggotaan dengan operator in\n",
    "cek_anggota = list1 in list2\n",
    "\n",
    "# Tampilkan hasil\n",
    "print(cek_anggota)"
   ]
  },
  {
   "cell_type": "markdown",
   "id": "eb51ba54",
   "metadata": {},
   "source": [
    "### 5. Method pada List\n",
    "\n",
    "List merupakan sebuah class pada python yang mempunyai <i>built-in method</i> (method yang tersedia). Untuk menggunakan method adalah dengan menambahkan titik pada akhir variabel dengan tipe data list lalu panggil method yang ingin digunakan. Dibawah ini merupakan beberapa method pada list\n",
    "\n",
    "<img width = \"450\" src = \"https://www.engineersgarage.com/wp-content/uploads/2019/12/Phython-08-List-methods-table-1-1024x537.jpg\">\n",
    "\n",
    "<i>docs : https://docs.python.org/3/tutorial/datastructures.html#more-on-lists</i>"
   ]
  },
  {
   "cell_type": "markdown",
   "id": "9b33fb18",
   "metadata": {},
   "source": [
    "#### 5a. Method append\n",
    "\n",
    "Method list.append(x) Menambahkan 1 atau lebih elemen pada akhir list"
   ]
  },
  {
   "cell_type": "code",
   "execution_count": 16,
   "id": "b3124f22",
   "metadata": {},
   "outputs": [
    {
     "name": "stdout",
     "output_type": "stream",
     "text": [
      "List pelanggan awal = ['Antara', 'Sendja', 'Kroma', 'Aksara']\n",
      "List pelanggan update = ['Antara', 'Sendja', 'Kroma', 'Aksara', 'Sunyi']\n"
     ]
    }
   ],
   "source": [
    "# Inisialisasi variabel\n",
    "list_pelanggan = ['Antara', 'Sendja', 'Kroma', 'Aksara']\n",
    "\n",
    "# Tampilkan hasilnya\n",
    "print(f\"List pelanggan awal = {list_pelanggan}\")\n",
    "\n",
    "# Gunakan method append untuk menambahkan Sunyi pada list pelanggan\n",
    "list_pelanggan.append('Sunyi')\n",
    "\n",
    "# Tampilkan hasilnya\n",
    "print(f\"List pelanggan update = {list_pelanggan}\")"
   ]
  },
  {
   "cell_type": "code",
   "execution_count": 17,
   "id": "64b8bfdd",
   "metadata": {},
   "outputs": [
    {
     "name": "stdout",
     "output_type": "stream",
     "text": [
      "List pelanggan awal = ['Antara', 'Sendja', 'Kroma', 'Aksara']\n",
      "List pelanggan update = ['Antara', 'Sendja', 'Kroma', 'Aksara', ['Sunyi', 'Pandu']]\n"
     ]
    }
   ],
   "source": [
    "# Inisialisasi variabel\n",
    "list_pelanggan = ['Antara', 'Sendja', 'Kroma', 'Aksara']\n",
    "\n",
    "# Tampilkan hasilnya\n",
    "print(f\"List pelanggan awal = {list_pelanggan}\")\n",
    "\n",
    "# Gunakan method append untuk menambahkan Sunyi pada list pelanggan\n",
    "list_pelanggan.append(['Sunyi', 'Pandu'])\n",
    "\n",
    "# Tampilkan hasilnya\n",
    "print(f\"List pelanggan update = {list_pelanggan}\")"
   ]
  },
  {
   "cell_type": "markdown",
   "id": "ac981baa",
   "metadata": {},
   "source": [
    "#### 5b. Method insert\n",
    "\n",
    "Method list.insert(index, x) menyisipkan 1 atau lebih elemen pada index tertentu"
   ]
  },
  {
   "cell_type": "code",
   "execution_count": 21,
   "id": "b714bd67",
   "metadata": {},
   "outputs": [
    {
     "name": "stdout",
     "output_type": "stream",
     "text": [
      "List pelanggan awal = ['Antara', 'Sendja', 'Kroma', 'Aksara']\n",
      "List pelanggan update = ['Antara', 'Sunyi', 'Sendja', 'Kroma', 'Aksara']\n"
     ]
    }
   ],
   "source": [
    "# Inisialisasi variabel\n",
    "list_pelanggan = ['Antara', 'Sendja', 'Kroma', 'Aksara']\n",
    "\n",
    "# Tampilkan hasilnya\n",
    "print(f\"List pelanggan awal = {list_pelanggan}\")\n",
    "\n",
    "# Gunakan method insert untuk menyisipkan elemen Sunyi pada index ke-1 pada list pelanggan\n",
    "list_pelanggan.insert(1, 'Sunyi')\n",
    "\n",
    "# Tampilkan hasilnya\n",
    "print(f\"List pelanggan update = {list_pelanggan}\")"
   ]
  },
  {
   "cell_type": "markdown",
   "id": "4a8cb0ea",
   "metadata": {},
   "source": [
    "#### 5c. Method remove\n",
    "\n",
    "Method list.remove(x) akan menghapus elemen pada list jika nilai elemen yang ingin dihapus pada index paling awal yang dapat ditemukan pada list"
   ]
  },
  {
   "cell_type": "code",
   "execution_count": 28,
   "id": "ee358344",
   "metadata": {},
   "outputs": [
    {
     "name": "stdout",
     "output_type": "stream",
     "text": [
      "List pelanggan awal = ['Antara', 'Sendja', 'Kroma', 'Aksara', 'Sendja']\n",
      "List pelanggan update = ['Antara', 'Kroma', 'Aksara', 'Sendja']\n"
     ]
    }
   ],
   "source": [
    "# Inisialisasi variabel\n",
    "list_pelanggan = ['Antara', 'Sendja', 'Kroma', 'Aksara', 'Sendja']\n",
    "\n",
    "# Tampilkan hasilnya\n",
    "print(f\"List pelanggan awal = {list_pelanggan}\")\n",
    "\n",
    "# Gunakan method insert untuk menyisipkan elemen Sunyi pada index ke-1 pada list pelanggan\n",
    "list_pelanggan.remove('Sendja')\n",
    "\n",
    "# Tampilkan hasilnya\n",
    "print(f\"List pelanggan update = {list_pelanggan}\")"
   ]
  },
  {
   "cell_type": "markdown",
   "id": "906b20df",
   "metadata": {},
   "source": [
    "adapun untuk method yang lain, silahkan untuk mempelajarinya secara mandiri ^^"
   ]
  },
  {
   "cell_type": "markdown",
   "id": "459304b5",
   "metadata": {},
   "source": [
    "### 6. Looping pada List\n",
    "\n",
    "Tipe data list dapat dilakukan proses pencacahan dengan perulangan (for). Perulangan (dan proses lain) pada elemen-elemen list dapat digunakan pada berbagai hal seperti proses filter elemen pada list atau yang lain"
   ]
  },
  {
   "cell_type": "code",
   "execution_count": 38,
   "id": "64e9e8b0",
   "metadata": {},
   "outputs": [
    {
     "name": "stdout",
     "output_type": "stream",
     "text": [
      "Nama pelanggan = Antara\n",
      "Nama pelanggan = Sendja\n",
      "Nama pelanggan = Kroma\n",
      "Nama pelanggan = Aksara\n",
      "Nama pelanggan = Sunyi\n"
     ]
    }
   ],
   "source": [
    "\"\"\" Penggunaan Loop pada List \"\"\"\n",
    "\n",
    "# Inisialisasi variabel\n",
    "list_pelanggan = ['Antara', 'Sendja', 'Kroma', 'Aksara', 'Sunyi']\n",
    "\n",
    "# Proses looping\n",
    "for cust in list_pelanggan:\n",
    "    print(f\"Nama pelanggan = {cust}\")"
   ]
  },
  {
   "cell_type": "code",
   "execution_count": 36,
   "id": "1e7725e4",
   "metadata": {},
   "outputs": [
    {
     "name": "stdout",
     "output_type": "stream",
     "text": [
      "List elemen dengan nilai ganjil = [1, 3, 5, 7]\n",
      "List elemen dengan nilai genap = [2, 4, 6]\n"
     ]
    }
   ],
   "source": [
    "\"\"\" Penggunaan Loop dan Kondisi pada List \"\"\"\n",
    "\n",
    "# Inisialisasi variabel\n",
    "list_angka = [1, 2, 3, 4, 5, 6, 7]\n",
    "\n",
    "# Definisikan sebuah list kosong \n",
    "# Hal ini berguna untuk memberi perintah bahwa variabel list_genap merupakan sebuah list\n",
    "list_genap = list()\n",
    "list_ganjil = list()\n",
    "\n",
    "# Proses looping dan conditions untuk mendapatkan list \n",
    "for i in list_angka:\n",
    "    if(i % 2 == 0):\n",
    "        list_genap.append(i)\n",
    "    else:\n",
    "        list_ganjil.append(i)\n",
    "\n",
    "# Tampilkan hasilnya\n",
    "print(f'List elemen dengan nilai ganjil = {list_ganjil}')\n",
    "print(f'List elemen dengan nilai genap = {list_genap}')"
   ]
  },
  {
   "cell_type": "markdown",
   "id": "d841efa6",
   "metadata": {},
   "source": [
    "### 7. List Comprehension\n",
    "\n",
    "Proses looping (for) dan atau tanpa proses pengkondisian (if) pada list dapat dituliskan dalam satu baris dengan format sebagai berikut :\n",
    "\n",
    "List comprehension tanpa kondisi\n",
    "<br><code>nama_variabel = [result1 <b>for</b> x <b>in</b> list_name <b>]</br>\n",
    "\n",
    "List comprehension dengan 1 kondisi\n",
    "<br><code>nama_variabel = [result1 <b>for</b> x <b>in</b> list_name <b>if</b> (condition1)]</code></br>\n",
    "\n",
    "List comprehension dengan 1 kondisi dan 1 kondisi default jika kondisi awal tidak terpenuhi\n",
    "<br><code>nama_variabel = [result1 <b>if</b> (condition1) <b>else</b> result2 <b>for</b> x <b>in</b> list_name]</code></br>\n",
    "\n",
    "*docs : https://docs.python.org/3/tutorial/datastructures.html#list-comprehensions*"
   ]
  },
  {
   "cell_type": "code",
   "execution_count": 48,
   "id": "214acbcf",
   "metadata": {},
   "outputs": [
    {
     "name": "stdout",
     "output_type": "stream",
     "text": [
      "Hasil pangkat 2 dari list angka [1, -2, -3, 0, 4, 5, -6, 7] adalah [1, 4, 9, 0, 16, 25, 36, 49]\n"
     ]
    }
   ],
   "source": [
    "\"\"\" Penggunaan List Comprehension #1 \"\"\"\n",
    "\n",
    "# Inisialisasi variabel\n",
    "list_angka = [1, -2, -3, 0, 4, 5, -6, 7]\n",
    "\n",
    "# Pangkat dua pada seluruh elemen pada list\n",
    "list_pangkat = [i**2 for i in list_angka]\n",
    "\n",
    "# Tampilkan hasilnya\n",
    "print(f\"Hasil pangkat 2 dari list angka {list_angka} adalah {list_positif}\")"
   ]
  },
  {
   "cell_type": "code",
   "execution_count": 49,
   "id": "5eb343f7",
   "metadata": {},
   "outputs": [
    {
     "name": "stdout",
     "output_type": "stream",
     "text": [
      "Filter nilai negatif dari list angka [1, -2, -3, 0, 4, 5, -6, 7] adalah [-2, -3, -6]\n"
     ]
    }
   ],
   "source": [
    "\"\"\" Penggunaan List Comprehension #2 \"\"\"\n",
    "\n",
    "# Inisialisasi variabel\n",
    "list_angka = [1, -2, -3, 0, 4, 5, -6, 7]\n",
    "\n",
    "# Filter hanya angka negatif pada list\n",
    "list_negatif = [i for i in list_angka if (i < 0)]\n",
    "\n",
    "# Tampilkan hasilnya\n",
    "print(f\"Filter nilai negatif dari list angka {list_angka} adalah {list_negatif}\")"
   ]
  },
  {
   "cell_type": "code",
   "execution_count": 51,
   "id": "aea1fb72",
   "metadata": {},
   "outputs": [
    {
     "name": "stdout",
     "output_type": "stream",
     "text": [
      "Filter nilai negatif dari list angka [1, -2, -3, 0, 4, 5, -6, 7] adalah [1, 2, 3, 0, 4, 5, 6, 7]\n"
     ]
    }
   ],
   "source": [
    "\"\"\" Penggunaan List Comprehension #3 \"\"\"\n",
    "\n",
    "# Inisialisasi variabel\n",
    "list_angka = [1, -2, -3, 0, 4, 5, -6, 7]\n",
    "\n",
    "# Nilai multak atau absolut dari list angka\n",
    "list_abs = [-1 * i if (i < 0) else i for i in list_angka]\n",
    "\n",
    "# Tampilkan hasilnya\n",
    "print(f\"Filter nilai negatif dari list angka {list_angka} adalah {list_abs}\")"
   ]
  },
  {
   "cell_type": "markdown",
   "id": "4bbd7837",
   "metadata": {},
   "source": [
    "### 8. Dictionary\n",
    "\n",
    "Dictionary adalah tipe data pada python yang berfungsi untuk menyimpan kumpulan data/nilai dengan pendekatan “key:value”.\n",
    "\n",
    "<b>Contoh :</b> {1 : 'Apple', 2 : 'One Plus'}</br>\n",
    "\n",
    "<img width = \"400\" src = \"http://www.trytoprogram.com/images/python_dictionary.jpg\">\n",
    "\n",
    "Sifat dictionary :\n",
    "<ol>\n",
    "    <li>Elemen pada dictionary dapat diubah / dapat diupdate (<i>changeable</i>)</li>\n",
    "    <li>Dictionary tidak menerima elemen yang sama / duplikat pada key namun boleh menerima elemen yang sama pada value</li>\n",
    "</ol>\n",
    "\n",
    "Untuk membuat dictionary terdapat dua cara, yakni dengan kurung kurawal {} atau dengan constructor dict()\n",
    "\n",
    "*docs : https://docs.python.org/3/tutorial/datastructures.html#dictionaries*"
   ]
  },
  {
   "cell_type": "code",
   "execution_count": 52,
   "id": "e8b7bbfc",
   "metadata": {},
   "outputs": [
    {
     "name": "stdout",
     "output_type": "stream",
     "text": [
      "{'Aksara': 78, 'Sendja': 90, 'Sunyi': 57, 'Antara': 98}\n"
     ]
    }
   ],
   "source": [
    "\"\"\" Membuat Dictionary dengan Simbol Kurung Kurawal \"\"\"\n",
    "\n",
    "# Inisialisasi variabel\n",
    "nilai_ipa = {\n",
    "    \"Aksara\" : 78,\n",
    "    \"Sendja\" : 90,\n",
    "    \"Sunyi\"  : 57,\n",
    "    \"Antara\" : 98\n",
    "}\n",
    "\n",
    "# Tampilkan hasilnya\n",
    "print(nilai_ipa)"
   ]
  },
  {
   "cell_type": "code",
   "execution_count": 53,
   "id": "421fe288",
   "metadata": {},
   "outputs": [
    {
     "name": "stdout",
     "output_type": "stream",
     "text": [
      "{'Aksara': 78, 'Sendja': 90, 'Sunyi': 57, 'Antara': 98}\n"
     ]
    }
   ],
   "source": [
    "\"\"\" Membuat Dictionary dengan Constructor dict \"\"\"\n",
    "\n",
    "# Inisialisasi variabel\n",
    "nilai_ipa = dict(\n",
    "    Aksara = 78,\n",
    "    Sendja = 90,\n",
    "    Sunyi  = 57,\n",
    "    Antara = 98\n",
    ")\n",
    "\n",
    "# Tampilkan hasilnya\n",
    "print(nilai_ipa)"
   ]
  },
  {
   "cell_type": "code",
   "execution_count": 55,
   "id": "639c9f36",
   "metadata": {},
   "outputs": [
    {
     "name": "stdout",
     "output_type": "stream",
     "text": [
      "Nilai variabel dict1 = {} dengan tipedata = <class 'dict'>\n",
      "Nilai variabel dict2 = {} dengan tipedata = <class 'dict'>\n"
     ]
    }
   ],
   "source": [
    "\"\"\" Membuat Dictionary Kosong dengan Constructor dict \"\"\"\n",
    "\n",
    "# Membuat dictionary kosong dengan simbol\n",
    "dict1 = {}\n",
    "\n",
    "# Tampilkan hasilnya\n",
    "print(f\"Nilai variabel dict1 = {dict1} dengan tipedata = {type(dict1)}\")\n",
    "\n",
    "# Membuat dictionary kosong dengan konstruktor\n",
    "dict2 = dict()\n",
    "\n",
    "# Tampilkan hasilnya\n",
    "print(f\"Nilai variabel dict2 = {dict2} dengan tipedata = {type(dict2)}\")"
   ]
  },
  {
   "cell_type": "markdown",
   "id": "95b2001e",
   "metadata": {},
   "source": [
    "### 9. Mengakses & Mengupdate Dictionary\n",
    "\n",
    "Dictionary dapat diakses melalui kuncinya (<i>key</i>) dan jika diinginkan proses update maka dapat diupdate juga melalui <i>key</i>-nya dengan proses <i>assignment</i>"
   ]
  },
  {
   "cell_type": "code",
   "execution_count": 60,
   "id": "0c8467dd",
   "metadata": {},
   "outputs": [
    {
     "name": "stdout",
     "output_type": "stream",
     "text": [
      "57\n"
     ]
    }
   ],
   "source": [
    "\"\"\" Mengakses Dictionary\"\"\"\n",
    "\n",
    "# Inisialisasi variabel\n",
    "nilai_ipa = {\n",
    "    \"Aksara\" : 78,\n",
    "    \"Sendja\" : 90,\n",
    "    \"Sunyi\"  : 57,\n",
    "    \"Antara\" : 98\n",
    "}\n",
    "\n",
    "# Tampilkan hasilnya\n",
    "print(nilai_ipa['Sunyi'])"
   ]
  },
  {
   "cell_type": "code",
   "execution_count": 63,
   "id": "c00c0964",
   "metadata": {},
   "outputs": [
    {
     "name": "stdout",
     "output_type": "stream",
     "text": [
      "Nilai IPA Kelas X = {'Aksara': 78, 'Sendja': 90, 'Sunyi': 57, 'Antara': 98}\n",
      "Nilai IPA Kelas X setelah diupdate = {'Aksara': 78, 'Sendja': 90, 'Sunyi': 47, 'Antara': 98}\n"
     ]
    }
   ],
   "source": [
    "\"\"\" Mengupdate value pada Dictionary\"\"\"\n",
    "\n",
    "# Inisialisasi variabel\n",
    "nilai_ipa = {\n",
    "    \"Aksara\" : 78,\n",
    "    \"Sendja\" : 90,\n",
    "    \"Sunyi\"  : 57,\n",
    "    \"Antara\" : 98\n",
    "}\n",
    "\n",
    "# Tampilkan hasilnya\n",
    "print(f\"Nilai IPA Kelas X = {nilai_ipa}\")\n",
    "\n",
    "# Ternyata nilai Sunyi salah dalam pendefinisiannya, bukan 57 seharusnya 47\n",
    "nilai_ipa[\"Sunyi\"] = 47\n",
    "\n",
    "# Tampilkan hasilnya\n",
    "print(f\"Nilai IPA Kelas X setelah diupdate = {nilai_ipa}\")"
   ]
  },
  {
   "cell_type": "markdown",
   "id": "fc334984",
   "metadata": {},
   "source": [
    "### 10. Method pada Dictionary\n",
    "\n",
    "Sama dengan tipedata list, pada tipe data dictionary juga terdapat <i>built-in method</i> yang tersedia. Berikut beberapa method pada dictionary \n",
    "\n",
    "<img width = \"550\" src = \"https://www.engineeringbigdata.com/wp-content/uploads/python-dictionary-methods.jpg\">"
   ]
  },
  {
   "cell_type": "markdown",
   "id": "8454bfb7",
   "metadata": {},
   "source": [
    "#### 10a. Method get\n",
    "\n",
    "Method get memungkinkan untuk mengakses value melalui key yang dicari. Jika ditemukan maka akan merujuk ke value yang ditunjuk, jika tidak ditemukan maka akan menghasilkan nilai None"
   ]
  },
  {
   "cell_type": "code",
   "execution_count": 64,
   "id": "27bced92",
   "metadata": {},
   "outputs": [
    {
     "name": "stdout",
     "output_type": "stream",
     "text": [
      "98\n"
     ]
    }
   ],
   "source": [
    "\"\"\" Penggunaan Method pada Dictionary \"\"\"\n",
    "\n",
    "# Inisialisasi variabel\n",
    "nilai_ipa = {\n",
    "    \"Aksara\" : 78,\n",
    "    \"Sendja\" : 90,\n",
    "    \"Sunyi\"  : 57,\n",
    "    \"Antara\" : 98\n",
    "}\n",
    "\n",
    "# Penggunaan method get\n",
    "nilai_ipa_antara = nilai_ipa.get(\"Antara\")\n",
    "\n",
    "# Tampilkan hasilnya\n",
    "print(nilai_ipa_antara)"
   ]
  },
  {
   "cell_type": "code",
   "execution_count": 65,
   "id": "541fad94",
   "metadata": {},
   "outputs": [
    {
     "name": "stdout",
     "output_type": "stream",
     "text": [
      "None\n"
     ]
    }
   ],
   "source": [
    "\"\"\" Penggunaan Method pada Dictionary \"\"\"\n",
    "\n",
    "# Inisialisasi variabel\n",
    "nilai_ipa = {\n",
    "    \"Aksara\" : 78,\n",
    "    \"Sendja\" : 90,\n",
    "    \"Sunyi\"  : 57,\n",
    "    \"Antara\" : 98\n",
    "}\n",
    "\n",
    "# Penggunaan method get\n",
    "nilai_ipa_rayhan = nilai_ipa.get(\"Rayhan\")\n",
    "\n",
    "# Tampilkan hasilnya\n",
    "print(nilai_ipa_rayhan)"
   ]
  },
  {
   "cell_type": "markdown",
   "id": "41c0010b",
   "metadata": {},
   "source": [
    "#### 10b. Method update\n",
    "\n",
    "Sesuai dengan namanya method update digunakan untuk mengupdate nilai jika key ditemukan, namun jika tidak maka nilai baru akan ditambahkan"
   ]
  },
  {
   "cell_type": "code",
   "execution_count": 69,
   "id": "67252ab0",
   "metadata": {},
   "outputs": [
    {
     "name": "stdout",
     "output_type": "stream",
     "text": [
      "{'Aksara': 69, 'Sendja': 90, 'Sunyi': 57, 'Antara': 98, 'Rayhan': 100}\n"
     ]
    }
   ],
   "source": [
    "\"\"\" Penggunaan Method pada Dictionary \"\"\"\n",
    "\n",
    "# Inisialisasi variabel\n",
    "nilai_ipa = {\n",
    "    \"Aksara\" : 78,\n",
    "    \"Sendja\" : 90,\n",
    "    \"Sunyi\"  : 57,\n",
    "    \"Antara\" : 98\n",
    "}\n",
    "\n",
    "# Penggunaan method update\n",
    "nilai_ipa.update(\n",
    "    {\n",
    "        \"Rayhan\" : 100,\n",
    "        \"Aksara\" : 69\n",
    "    }\n",
    ")\n",
    "\n",
    "# Tampilkan hasilnya\n",
    "print(nilai_ipa)"
   ]
  },
  {
   "cell_type": "markdown",
   "id": "98b88ea9",
   "metadata": {},
   "source": [
    "### 11. Looping pada Dictionary\n",
    "\n",
    "Dictionary juga dapat dilakukan proses perulangan. Namun untuk dapat melakukan hal tersebut method dict.items() harus dipanggil untuk mem-'bongkar' nilai pada dictionary"
   ]
  },
  {
   "cell_type": "code",
   "execution_count": 68,
   "id": "a3f26e2e",
   "metadata": {},
   "outputs": [
    {
     "name": "stdout",
     "output_type": "stream",
     "text": [
      "Pada kunci = Aksara mempunyai nilai = 78\n",
      "Pada kunci = Sendja mempunyai nilai = 90\n",
      "Pada kunci = Sunyi mempunyai nilai = 57\n",
      "Pada kunci = Antara mempunyai nilai = 98\n"
     ]
    }
   ],
   "source": [
    "\"\"\" Penggunaan Loop pada Dictionary \"\"\"\n",
    "\n",
    "# Inisialisasi variabel\n",
    "nilai_ipa = {\n",
    "    \"Aksara\" : 78,\n",
    "    \"Sendja\" : 90,\n",
    "    \"Sunyi\"  : 57,\n",
    "    \"Antara\" : 98\n",
    "}\n",
    "\n",
    "# Proses perulangan\n",
    "for key, value in nilai_ipa.items():\n",
    "    print(f'Pada kunci = {key} mempunyai nilai = {value}')"
   ]
  },
  {
   "cell_type": "markdown",
   "id": "dab95fce",
   "metadata": {},
   "source": [
    "---\n",
    "<p>\n",
    "<img src=\"https://cdn.dribbble.com/users/391028/screenshots/1271630/media/79a5c590a597f28de65d11837ffa46c3.gif\" style=\"float:right;width:350px;height:225px;\">\n",
    "    <h1 style=\"font-size:5vw\">Black Box Challenge!</h1>\n",
    "    <br>\n",
    "        <br>\n",
    "            Pada akhir tahun, sebuah toko menerapkan potongan harga untuk setiap item yang ada di tokonya. Setiap item mempunyai harga dan potongan harga yang berbeda-beda tergantung pada jenis barangnya. Ketentuannya adalah sebagai berikut :\n",
    "        </br>\n",
    "        <ol>\n",
    "            <li>Baju mendapat potongan 20%</li>\n",
    "            <li>Celana mendapat potongan 25%</li>\n",
    "            <li>Item lain mendapat potongan 10%</li>\n",
    "        </ol>\n",
    "        <br>Harga pakaian dan jenisnya telah dituliskan sintaksnya seperti dibawah ini, tugasmu adalah membantu kepala toko untuk menghitung dan menampilkan nama barang, harga barang sebelum potongan, discount (dalam persen) dan harga setelah dipotong berdasarkan potongan yang ditentukan. <i>Expected output</i>-nya seperti yang tertera pada konsol\n",
    "        </br>\n",
    "    </br>\n",
    "</p>\n",
    "\n"
   ]
  },
  {
   "cell_type": "code",
   "execution_count": 78,
   "id": "316fceb4",
   "metadata": {},
   "outputs": [
    {
     "name": "stdout",
     "output_type": "stream",
     "text": [
      "Harga Baju Kaos yang semula Rp.75000, mendapat discount = 20% sekarang menjadi Rp.60000\n",
      "Harga Baju Lengan Panjang yang semula Rp.90000, mendapat discount = 20% sekarang menjadi Rp.72000\n",
      "Harga Celana Jeans yang semula Rp.157500, mendapat discount = 25% sekarang menjadi Rp.118125\n",
      "Harga Celana Pendek yang semula Rp.80000, mendapat discount = 25% sekarang menjadi Rp.60000\n",
      "Harga Sepatu yang semula Rp.250000, mendapat discount = 10% sekarang menjadi Rp.225000\n",
      "Harga Aksesoris yang semula Rp.50000, mendapat discount = 10% sekarang menjadi Rp.45000\n"
     ]
    }
   ],
   "source": [
    "# Inisialisasi variabel\n",
    "harga_pakaian = {\n",
    "    \"Baju Kaos\" : 75000,\n",
    "    \"Baju Lengan Panjang\" : 90000,\n",
    "    \"Celana Jeans\" : 157500,\n",
    "    \"Celana Pendek\" : 80000,\n",
    "    \"Sepatu\" : 250000,\n",
    "    \"Aksesoris\" : 50000\n",
    "}\n",
    "\n",
    "# Tulis kodemu secantik dan seefisien mungkin ya bestih\n",
    "for ... in ...:\n",
    "    ...\n",
    "    print(...)"
   ]
  },
  {
   "cell_type": "markdown",
   "id": "483ff24d",
   "metadata": {},
   "source": [
    "<br><h4 align=\"right\"> to be continued : <i>Stroms Don't Last Forever - Functions</i></h4></br>\n",
    "\n",
    "---\n",
    "copyright DQLab © 2022"
   ]
  }
 ],
 "metadata": {
  "kernelspec": {
   "display_name": "Python 3 (ipykernel)",
   "language": "python",
   "name": "python3"
  },
  "language_info": {
   "codemirror_mode": {
    "name": "ipython",
    "version": 3
   },
   "file_extension": ".py",
   "mimetype": "text/x-python",
   "name": "python",
   "nbconvert_exporter": "python",
   "pygments_lexer": "ipython3",
   "version": "3.9.7"
  }
 },
 "nbformat": 4,
 "nbformat_minor": 5
}
