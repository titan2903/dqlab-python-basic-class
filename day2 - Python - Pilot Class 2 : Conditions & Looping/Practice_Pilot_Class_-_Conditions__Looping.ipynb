{
 "cells": [
  {
   "cell_type": "markdown",
   "id": "346d1841",
   "metadata": {},
   "source": [
    "<img src = \"https://cdn.dribbble.com/users/442518/screenshots/2500896/media/2efecad22aa6c6003955b8fa74ad1809.gif\" \n",
    "     style = \"float:right; width:400px; height:300px;\">\n",
    "    <h1 style=\"font-size:300%;\">\n",
    "        The Sky is the Limit!\n",
    "    </h1>\n",
    "    <p style=\"font-size:160%;\">\n",
    "        Python - Pilot Class 2 : Conditions & Looping\n",
    "    </p>\n",
    "    <br>\n",
    "        <br>\n",
    "            <p style=\"font-size:110%;\">\n",
    "                Dear passengers, our plane has flown across the world of input-output, variable and datatype. In the moment, we will currently cruising at an altitude of 20% of the whole event at an airspeed of 400 miles per hour. The weather looks good and with the tailwind on our side to continue our journey of exploring the matter of conditions and looping in Pythonverse. Occasionally, turbulence may occur during a flight and we predict some turbulence will happen later. Stay safe and take care of your self conditions.\n",
    "            </p>\n",
    "            <br>\n",
    "                <p style=\"font-size:110%;\">\n",
    "                     I'll talk to you again before we reach our destination. \n",
    "                </p>\n",
    "                 <p style=\"font-size:110%;\">\n",
    "    Until then, sit back, relax and enjoy the rest of the flight.\n",
    "                </p>\n",
    "            </br>\n",
    "        </br>\n",
    "    </br>\n",
    "</img>\n",
    "\n",
    "---"
   ]
  },
  {
   "cell_type": "markdown",
   "id": "0b96cef8",
   "metadata": {},
   "source": [
    "### 1. Struktur Kondisi\n",
    "\n",
    "Condition statement dalam pemrograman adalah proses penentuan keputusan. Pada dasarnya konsep percabangan untuk memerintahkan komputer melakukan suatu aksi tertentu berdasarkan kondisi yang terpenuhi atau tidak terpenuhi. \n",
    "\n",
    "Kondisi yang dieksekusi adalah sebuah pernyataan boolean (pernyataan yang bernilai benar \\[True\\] atau salah \\[False\\])\n",
    "\n",
    "<img src=\"https://codeforwin.org/wp-content/uploads/2017/08/if-else-statement-flow-chart.png\">\n",
    "\n",
    "Suatu kondisi / statement akan diperiksa terlebih dahulu. Jika memenuhi maka sebuah pernyataan akan dieksekusi, jika tidak maka akan diperiksa kondisi setelahnya dan seterusnya. Untuk membuat sebuah pernyataan boolean, pada umumnya akan digunakan operator pembanding"
   ]
  },
  {
   "cell_type": "markdown",
   "id": "810e3173",
   "metadata": {},
   "source": [
    "### 2. Operator Pembanding\n",
    "\n",
    "Operator pembanding digunakan untuk membandingkan antara 2 nilai untuk menghasilkan nilai logika (<i>logical value</i>). Nilai logika yaitu sebuah nilai <b>True</b> atau <b>False</b> (benar atau salah) atau dalam keadaan tertentu dapat diubah menjadi 1 saat True dan 0 saat False. \n",
    "\n",
    "<img width=\"530\" height=\"250\" src=\"https://www.devopsschool.com/blog/wp-content/uploads/2020/08/relational-operator-in-python.png\">\n",
    "\n",
    "Pada bahasa pemrograman python kondisi benar disimbolkan dengan <b>True</b> (dengan huruf kapital diawal) dan kondisi salah disimbolkan dengan <b>False</b> (dengan huruf kapital diawal)\n",
    "\n",
    "nb : simbol '=' (sama dengan) digunakan untuk assignment sebuah nilai pada variabel sedangkan simbol '==' digunakan untuk membandingkan atau memeriksa apakah dua variabel mempunyai nilai yang sama"
   ]
  },
  {
   "cell_type": "code",
   "execution_count": 2,
   "id": "cc57f09e",
   "metadata": {},
   "outputs": [
    {
     "name": "stdout",
     "output_type": "stream",
     "text": [
      "False\n"
     ]
    }
   ],
   "source": [
    "# Inisialisasikan variabel\n",
    "\n",
    "# Cetak hasilnya\n"
   ]
  },
  {
   "cell_type": "code",
   "execution_count": 4,
   "id": "2520ee33",
   "metadata": {},
   "outputs": [
    {
     "name": "stdout",
     "output_type": "stream",
     "text": [
      "True\n"
     ]
    }
   ],
   "source": [
    "# Inisialisasikan variabel\n",
    "\n",
    "# Cetak hasilnya\n"
   ]
  },
  {
   "cell_type": "code",
   "execution_count": 9,
   "id": "9643c167",
   "metadata": {},
   "outputs": [
    {
     "name": "stdout",
     "output_type": "stream",
     "text": [
      "Apakah aku sama dengan kamu? Ternyata False\n"
     ]
    }
   ],
   "source": [
    "# Inisialisasikan variabel\n",
    "\n",
    "# Hasil dari perbandingan dapat disimpan pada sebuah variabel\n",
    "\n",
    "# Cetak hasilnya\n"
   ]
  },
  {
   "cell_type": "markdown",
   "id": "ba6c39f9",
   "metadata": {},
   "source": [
    "Kadang kala kondisi yang kita periksa merupakan gabungan atau kombinasi dari berbagai pernyataan untuk itu perlu sebuah opearator yang dapat mengkombinasikan beberapa pernyataan tersebut"
   ]
  },
  {
   "cell_type": "markdown",
   "id": "6dac5824",
   "metadata": {},
   "source": [
    "### 3. Operator Logika\n",
    "\n",
    "Operator logika digunakan untuk mengkombinasi dan membandingkan 2 atau lebih pernyataan / kondisi boolean.  \n",
    "\n",
    "<img width=\"530\" height=\"250\" src=\"https://qph.cf2.quoracdn.net/main-qimg-b21874c7e7bdbefd344ad820798e6ab1\">\n",
    "\n",
    "Dengan ketentuan :\n",
    "<ol>\n",
    "    <li>\n",
    "        Kondisi <b>and</b> akan bernilai True jika semua kondisi boolean bernilai benar. Jika hanya ada satu saja kondisi bernilai salah (<i>False condition</i>) maka akan dihasilkan nilai False\n",
    "    </li>\n",
    "    <li>\n",
    "        Kondisi <b>or</b> akan bernilai True jika minimal satu kondisi boolean bernilai benar. Jika semua kondisi bernilai salah, maka barulah kondisi or menghasilkan nilai False\n",
    "    </li>\n",
    "    <li>\n",
    "        Kondisi <b>not</b> akan menegasikan / membalik kondisi sebenarnya (True menjadi False atau sebaliknya)\n",
    "    </li>\n",
    "</ol>"
   ]
  },
  {
   "cell_type": "code",
   "execution_count": 22,
   "id": "cdf11db1",
   "metadata": {},
   "outputs": [
    {
     "name": "stdout",
     "output_type": "stream",
     "text": [
      "Apakah x = 10 memenuhi kondisi y? False\n"
     ]
    }
   ],
   "source": [
    "# Inisialisasikan variabel\n",
    "\n",
    "# Tampilkan hasilnya\n"
   ]
  },
  {
   "cell_type": "code",
   "execution_count": 21,
   "id": "9c2642be",
   "metadata": {},
   "outputs": [
    {
     "name": "stdout",
     "output_type": "stream",
     "text": [
      "Apakah x = 10 memenuhi kondisi y? True\n"
     ]
    }
   ],
   "source": [
    "# Inisialisasikan variabel\n",
    "\n",
    "# Tampilkan hasilnya\n"
   ]
  },
  {
   "cell_type": "code",
   "execution_count": 20,
   "id": "66b95248",
   "metadata": {},
   "outputs": [
    {
     "name": "stdout",
     "output_type": "stream",
     "text": [
      "Kondisi x = True, maka negasinya adalah kondisi y = False\n"
     ]
    }
   ],
   "source": [
    "# Inisialisasikan variabel\n",
    "\n",
    "# Tampilkan hasilnya\n"
   ]
  },
  {
   "cell_type": "markdown",
   "id": "d857ddc4",
   "metadata": {},
   "source": [
    "### 4. Operator Keanggotaan \n",
    "\n",
    "Operator keanggotaan digunakan untuk menguji apakah urutan disajikan dalam suatu objek. Operator keanggotaan pada python dapat menggunakan perintah <b>in</b> untuk pengujian keanggotaan dan <b>not in</b> untuk pengujian non - keanggotaan."
   ]
  },
  {
   "cell_type": "code",
   "execution_count": 11,
   "id": "fa44dfe2",
   "metadata": {},
   "outputs": [
    {
     "name": "stdout",
     "output_type": "stream",
     "text": [
      "True\n"
     ]
    }
   ],
   "source": [
    "# Memeriksa substring pada suatu string yang diberikan\n",
    "\n",
    "# Tampilkan hasilnya\n"
   ]
  },
  {
   "cell_type": "code",
   "execution_count": 13,
   "id": "585c4ff2",
   "metadata": {},
   "outputs": [
    {
     "name": "stdout",
     "output_type": "stream",
     "text": [
      "False\n"
     ]
    }
   ],
   "source": [
    "# Memeriksa substring pada suatu string yang diberikan\n",
    "\n",
    "\n",
    "# Tampilkan hasilnya\n"
   ]
  },
  {
   "cell_type": "code",
   "execution_count": 14,
   "id": "d525863f",
   "metadata": {},
   "outputs": [
    {
     "name": "stdout",
     "output_type": "stream",
     "text": [
      "True\n"
     ]
    }
   ],
   "source": [
    "# Memeriksa substring pada suatu string yang diberikan\n",
    "\n",
    "# Tampilkan hasilnya\n"
   ]
  },
  {
   "cell_type": "code",
   "execution_count": 38,
   "id": "b12e7cb2",
   "metadata": {},
   "outputs": [
    {
     "ename": "TypeError",
     "evalue": "'in <string>' requires string as left operand, not int",
     "output_type": "error",
     "traceback": [
      "\u001b[1;31m---------------------------------------------------------------------------\u001b[0m",
      "\u001b[1;31mTypeError\u001b[0m                                 Traceback (most recent call last)",
      "\u001b[1;32m~\\AppData\\Local\\Temp/ipykernel_2248/2669328401.py\u001b[0m in \u001b[0;36m<module>\u001b[1;34m\u001b[0m\n\u001b[0;32m      6\u001b[0m \u001b[1;33m\u001b[0m\u001b[0m\n\u001b[0;32m      7\u001b[0m \u001b[1;31m# Periksa kondisi keanggotaan\u001b[0m\u001b[1;33m\u001b[0m\u001b[1;33m\u001b[0m\u001b[0m\n\u001b[1;32m----> 8\u001b[1;33m \u001b[0mz\u001b[0m \u001b[1;33m=\u001b[0m \u001b[0mx\u001b[0m \u001b[1;32min\u001b[0m \u001b[0my\u001b[0m\u001b[1;33m\u001b[0m\u001b[1;33m\u001b[0m\u001b[0m\n\u001b[0m\u001b[0;32m      9\u001b[0m \u001b[1;33m\u001b[0m\u001b[0m\n\u001b[0;32m     10\u001b[0m \u001b[1;31m# Tampilkan hasilnya\u001b[0m\u001b[1;33m\u001b[0m\u001b[1;33m\u001b[0m\u001b[0m\n",
      "\u001b[1;31mTypeError\u001b[0m: 'in <string>' requires string as left operand, not int"
     ]
    }
   ],
   "source": [
    "# DQChallenge 1 :  Diagnosa kesalahan (error)! \n",
    "\n",
    "# Inisialisasi variabel\n",
    "x = 123\n",
    "y = '123456'\n",
    "\n",
    "# Periksa kondisi keanggotaan\n",
    "z = x in y\n",
    "\n",
    "# Tampilkan hasilnya\n",
    "print(z)"
   ]
  },
  {
   "cell_type": "markdown",
   "id": "bd4248f7",
   "metadata": {},
   "source": [
    "### 5. Statement if - elif - else\n",
    "\n",
    "Fungsi <b>if</b> merupakan kondisi yang digunakan untuk menentukan tindakan apa yang dilakukan sesuai dengan keadaan tertentu. Bentuk umum fungsi if adalah sebagai berikut :\n",
    "\n",
    "<b>if</b> (<i>kondisi pertama</i>):\n",
    "<br>&emsp; &emsp; pernyataan yang akan dieksekusi jika kondisi terpenuhi</br>\n",
    "<b>elif</b> (<i>kondisi kedua</i>):\n",
    "<br>&emsp; &emsp; pernyataan yang akan dieksekusi jika kondisi terpenuhi </br>\n",
    " ...\n",
    " \n",
    "<b>else:</b>\n",
    "<br>&emsp; &emsp; pernyataan default akan dieksekusi jika tidak ada pernyataan diatas yang terpenuhi</br>\n",
    "\n",
    "Statement <b>if</b> diletakkan paling awal dan akan selalu dieksekusi jika dipanggil. Ketika sebuah kondisi terpenuhi, maka kondisi setelahnya tidak akan diperiksa namun jika tidak maka akan diperiksa kondisi setelahnya dan seterusnya sampai semua kondisi tidak memenuhi maka kondisi <b>else</b> (kondisi default) akan dieksekusi. Hal ini berlaku secara sequensial\n",
    "\n",
    "Penggunaan fungsi <b>if</b> - <b>elif</b> - <b>else</b> dapat menyesuaikan sesuai kondisi yang diinginkan.   \n"
   ]
  },
  {
   "cell_type": "code",
   "execution_count": 5,
   "id": "95e8499a",
   "metadata": {},
   "outputs": [
    {
     "name": "stdout",
     "output_type": "stream",
     "text": [
      "Nilai a = 4 merupakan bilangan genap\n"
     ]
    }
   ],
   "source": [
    "\"\"\"Satu kondisi\"\"\" \n",
    "\n",
    "# Inisialisasi variabel\n",
    "\n",
    "# Buat 1 kondisi\n"
   ]
  },
  {
   "cell_type": "code",
   "execution_count": 4,
   "id": "85b8e405",
   "metadata": {},
   "outputs": [
    {
     "name": "stdout",
     "output_type": "stream",
     "text": [
      "Nilai a = 5 merupakan bilangan ganjil\n"
     ]
    }
   ],
   "source": [
    "\"\"\"Satu kondisi dengan satu kondisi default\"\"\" \n",
    "\n",
    "# Inisialisasi variabel\n",
    "\n",
    "# Buat 2 kondisi\n"
   ]
  },
  {
   "cell_type": "code",
   "execution_count": 23,
   "id": "58ed140b",
   "metadata": {},
   "outputs": [
    {
     "name": "stdout",
     "output_type": "stream",
     "text": [
      "b lebih besar nilainya daripada a\n"
     ]
    }
   ],
   "source": [
    "\"\"\"Dua kondisi dengan satu kondisi default\"\"\" \n",
    "\n",
    "# Inisialisasi variabel\n",
    "\n",
    "# Kondisi percabangan\n"
   ]
  },
  {
   "cell_type": "code",
   "execution_count": 6,
   "id": "0630f8d0",
   "metadata": {},
   "outputs": [
    {
     "name": "stdout",
     "output_type": "stream",
     "text": [
      "Masukan nilai a : -5\n",
      "Masukan nilai b : 4\n",
      "\n",
      "Nilai b = 4.0 lebih besar nilainya daripada a = -5.0\n"
     ]
    }
   ],
   "source": [
    "\"\"\"Dua kondisi dengan satu kondisi default\"\"\" \n",
    "\n",
    "# Input user pada variabel\n",
    "a = input('Masukan nilai a : ')\n",
    "b = input('Masukan nilai b : ')\n",
    "\n",
    "# Pastikan type data variabel input benar --> konversi tipe data!\n",
    "a = float(a)\n",
    "b = float(b)\n",
    "\n",
    "# Kondisi percabangan\n",
    "if (b > a):\n",
    "    print(f'\\nNilai b = {b} lebih besar nilainya daripada a = {a}')\n",
    "elif (b < a):\n",
    "    print(f'\\nNilai b = {b} lebih kecil nilainya daripada a = {a}')\n",
    "else:\n",
    "    print(f'\\nNilai b = {b} sama dengan nilai a = {a}')"
   ]
  },
  {
   "cell_type": "code",
   "execution_count": 8,
   "id": "21cdb6fe",
   "metadata": {},
   "outputs": [
    {
     "name": "stdout",
     "output_type": "stream",
     "text": [
      "Anda perlu melakukan perbaikan pada salah satu pelajaran\n"
     ]
    }
   ],
   "source": [
    "\"\"\" Penggunaan Operator Logika \"\"\"\n"
   ]
  },
  {
   "cell_type": "code",
   "execution_count": null,
   "id": "f3a457f7",
   "metadata": {},
   "outputs": [],
   "source": [
    "# DQChallenge 2 : Fill the blank!\n",
    "\n",
    "# Lengkapi kondisi berikut untuk memeriksa apakah y merupakan faktor dari x\n",
    "\n",
    "x = input('Masukan nilai x')\n",
    "y = input('Masukan nilai y')\n",
    "\n",
    "# Pastikan x dan y bertipe data angka\n",
    "x = ...\n",
    "y = ...\n",
    "\n",
    "# Periksa kondisi\n",
    "if(...):\n",
    "    print(f\"Nilai y = {y} dapat membagi x = {x} maka {y} merupakan faktor dari x\")\n",
    "...\n",
    "    print(f\"Nilai y = {y} tidak dapat membagi x = {x} maka {y} bukan merupakan faktor dari x\")"
   ]
  },
  {
   "cell_type": "markdown",
   "id": "3887752f",
   "metadata": {},
   "source": [
    "### 6. Nested if\n",
    "\n",
    "Nested if merupakan penggunaan kondisi setelah sebuah kondisi terpenuhi (kondisi didalam kondisi). Bentuk umum nested if adalah sebagai berikut :\n",
    "\n",
    "\n",
    "<b>if</b> (<i>kondisi pertama</i>):\n",
    "<br>&emsp; &emsp; &emsp; <b>if</b> (<i>kondisi 1 setelah kondisi pertama terpenuhi</i>):</br>\n",
    "&emsp; &emsp; &emsp; &emsp; &emsp; &emsp;pernyataan yang akan dieksekusi jika kondisi terpenuhi\n",
    "<br>&emsp; &emsp; &emsp; <b>elif</b> (<i>kondisi 2 setelah kondisi pertama terpenuhi</i>):</br>\n",
    "&emsp; &emsp; &emsp; &emsp; &emsp; &emsp; pernyataan yang akan dieksekusi jika kondisi terpenuhi\n",
    "<br>&emsp; &emsp; &emsp; &emsp; &emsp; &emsp; ...</br>\n",
    "<br>&emsp; &emsp; &emsp; <b>else:</b></br>\n",
    "&emsp; &emsp; &emsp; &emsp; &emsp; &emsp;pernyataan yang akan dieksekusi jika kondisi terpenuhi\n",
    "\n",
    "<b>elif</b> (<i>kondisi kedua</i>):\n",
    "<br>&emsp; &emsp; pernyataan yang akan dieksekusi jika kondisi terpenuhi </br>\n",
    " ...\n",
    " \n",
    "<b>else:</b>\n",
    "<br>&emsp; &emsp; pernyataan default akan dieksekusi jika tidak ada pernyataan diatas yang terpenuhi</br>\n"
   ]
  },
  {
   "cell_type": "code",
   "execution_count": 7,
   "id": "9f8b7c82",
   "metadata": {},
   "outputs": [
    {
     "name": "stdout",
     "output_type": "stream",
     "text": [
      "Masukan nilai a : 3\n",
      "Masukan nilai b : 2\n",
      "Masukan nilai c : 5\n",
      "\n",
      "Urutan nilai dari yang terkecil hingga terbesar 2.0, 3.0, 5.0\n"
     ]
    }
   ],
   "source": [
    "\"\"\" Penggunaan Nested if \"\"\"\n",
    "\n",
    "# Input variabel\n",
    "a = input('Masukan nilai a : ')\n",
    "b = input('Masukan nilai b : ')\n",
    "c = input('Masukan nilai c : ')\n",
    "\n",
    "# Pastikan type data variabel input benar --> konversi tipe data!\n",
    "a = float(a)\n",
    "b = float(b)\n",
    "c = float(c)\n",
    "\n",
    "print('\\nUrutan nilai dari yang terkecil hingga terbesar', end = ' ')\n",
    "\n",
    "if (a <= b):\n",
    "    if (b <= c):\n",
    "        print(f'{a}, {b}, {c}')\n",
    "    elif(a <= c):\n",
    "        print(f'{a}, {c}, {b}')\n",
    "    else:\n",
    "        print(f'{c}, {a}, {b}')\n",
    "else:\n",
    "    if (a <= c):\n",
    "        print(f'{b}, {a}, {c}')\n",
    "    elif(b <= c):\n",
    "        print(f'{b}, {c}, {a}')\n",
    "    else:\n",
    "        print(f'{c}, {b}, {a}')"
   ]
  },
  {
   "cell_type": "markdown",
   "id": "d90c726a",
   "metadata": {},
   "source": [
    "### 7. Struktur Perulangan\n",
    "\n",
    "Perulangan atau juga sering dikenal dengan <i>looping</i> merupakan pernyataan atau instruksi yang diberikan kepada komputer agar ia mau melakukan sesuatu secara berulang. Perulangan pada python dapat menggunakan perintah <b>for</b> maupun <b>while</b> (namun pada kali ini hanya akan mempelajari struktur for). Bentuk umum kondisi perulangan dengan for pada python adalah sebagai berikut :\n",
    "\n",
    "\n",
    "<img width=\"400\" height=\"200\" src=https://www.techfor.id/wp-content/uploads/2021/02/loop.png>\n",
    "\n",
    "Sebelum menggunakan perintah perulangan, perlu diketahui terlebih dahulu <i>built-in function <b>range()</b></i> pada python\n"
   ]
  },
  {
   "cell_type": "markdown",
   "id": "d7af1be1",
   "metadata": {},
   "source": [
    "### 8. Range\n",
    "\n",
    "Fungsi <b><i>range()</i></b> digunakan ketika user ingin mencacah atau membuat baris bilangan (barisan aritmatika) dengan kriteria tertentu. Keluaran (*return*) dari fungsi <b><i>range()</i></b> adalah sebuah baris bilangan dengan format range.\n",
    "\n",
    "<i><b>range</b></i>(<i>[start, stop[,step]</i>)\n",
    "    \n",
    "    Deskripsi\n",
    "    ---------\n",
    "    Fungsi range memungkinkan user untuk membuat sebuah baris bilangan\n",
    "    \n",
    "    Parameter\n",
    "    ---------\n",
    "    start : int, default = 0 (opsional)\n",
    "        Nilai awal baris bilangan. Jika tidak didefinisikan,\n",
    "        maka secara default bernilai 0\n",
    "    \n",
    "    stop : int (mandatory)\n",
    "        Nilai satu langkah dari nilai akhir baris bilangan\n",
    "    \n",
    "    step : int, default = 1 (opsional)\n",
    "        Panjang langkah atau selisih antar elemen pada barisan. Jika tidak didefinisikan,\n",
    "        maka secara default bernilai 1\n",
    "    \n",
    "    Contoh\n",
    "    ------\n",
    "    1. Sebuah baris bilangan maju dimulai dari 0 diakhiri dengan 2 dengan step = 1 maka dituliskan range(0, 3, 1)\n",
    "    2. Sebuah baris bilangan maju dimulai dari 3 diakhiri dengan 10 dengan step = 2 maka dituliskan range(3, 11, 2)\n",
    "    3. Sebuah baris bilangan mundur dimulai dari 5 diakhiri dengan 1 dengan step = 1 maka dituliskan range(5, 0, -1)\n",
    "    \n",
    "    Return\n",
    "    ------\n",
    "    Sebuah baris bilangan dengan format range\n",
    "    \n",
    "*docs : https://docs.python.org/3/library/functions.html#func-range*"
   ]
  },
  {
   "cell_type": "code",
   "execution_count": 10,
   "id": "9d475745",
   "metadata": {},
   "outputs": [
    {
     "name": "stdout",
     "output_type": "stream",
     "text": [
      "<class 'range'>\n"
     ]
    }
   ],
   "source": [
    "# Definisikan range\n",
    "\n",
    "\n",
    "# Memeriksa tipe \n"
   ]
  },
  {
   "cell_type": "code",
   "execution_count": 16,
   "id": "977e0ee2",
   "metadata": {},
   "outputs": [
    {
     "name": "stdout",
     "output_type": "stream",
     "text": [
      "True\n"
     ]
    }
   ],
   "source": [
    "# Memeriksa keanggotaan pada range\n",
    "\n",
    "# Tampilkan hasilnya\n"
   ]
  },
  {
   "cell_type": "code",
   "execution_count": 21,
   "id": "a1edd1d7",
   "metadata": {},
   "outputs": [
    {
     "name": "stdout",
     "output_type": "stream",
     "text": [
      "Nilai i saat ini 0\n",
      "Nilai i saat ini 1\n",
      "Nilai i saat ini 2\n",
      "Nilai i saat ini 3\n",
      "Nilai i saat ini 4\n",
      "Nilai i saat ini 5\n"
     ]
    }
   ],
   "source": [
    "\"\"\" Menggunakan Fungsi range() untuk Perulangan \"\"\"\n",
    "\n",
    "# Range 0 - 5 dengan step = 1\n"
   ]
  },
  {
   "cell_type": "code",
   "execution_count": 26,
   "id": "615619f4",
   "metadata": {},
   "outputs": [
    {
     "name": "stdout",
     "output_type": "stream",
     "text": [
      "Nilai i saat ini 0\n",
      "Nilai i saat ini 2\n",
      "Nilai i saat ini 4\n"
     ]
    }
   ],
   "source": [
    "# Range 0 - 5 dengan step = 2\n"
   ]
  },
  {
   "cell_type": "code",
   "execution_count": 27,
   "id": "b4c2065f",
   "metadata": {},
   "outputs": [
    {
     "name": "stdout",
     "output_type": "stream",
     "text": [
      "Nilai i saat ini 5\n",
      "Nilai i saat ini 4\n",
      "Nilai i saat ini 3\n",
      "Nilai i saat ini 2\n"
     ]
    }
   ],
   "source": [
    "# Range 1 - 5 dengan step = -1\n"
   ]
  },
  {
   "cell_type": "code",
   "execution_count": 35,
   "id": "2c96e32c",
   "metadata": {},
   "outputs": [
    {
     "name": "stdout",
     "output_type": "stream",
     "text": [
      "Nilai i = 0\n",
      "\tNilai j = 0 --> (i,j) = (0, 0)\n",
      "\tNilai j = 1 --> (i,j) = (0, 1)\n",
      "\tNilai j = 2 --> (i,j) = (0, 2)\n",
      "\tNilai j = 3 --> (i,j) = (0, 3)\n",
      "Nilai i = 1\n",
      "\tNilai j = 0 --> (i,j) = (1, 0)\n",
      "\tNilai j = 1 --> (i,j) = (1, 1)\n",
      "\tNilai j = 2 --> (i,j) = (1, 2)\n",
      "\tNilai j = 3 --> (i,j) = (1, 3)\n",
      "Nilai i = 2\n",
      "\tNilai j = 0 --> (i,j) = (2, 0)\n",
      "\tNilai j = 1 --> (i,j) = (2, 1)\n",
      "\tNilai j = 2 --> (i,j) = (2, 2)\n",
      "\tNilai j = 3 --> (i,j) = (2, 3)\n"
     ]
    }
   ],
   "source": [
    "# Nested For \n"
   ]
  },
  {
   "cell_type": "code",
   "execution_count": 45,
   "id": "5a3d1294",
   "metadata": {},
   "outputs": [
    {
     "name": "stdout",
     "output_type": "stream",
     "text": [
      "Nilai i = 1 merupakan bilangan ganjil\n",
      "Nilai i = 2 merupakan bilangan genap\n",
      "Nilai i = 3 merupakan bilangan ganjil\n",
      "Nilai i = 4 merupakan bilangan genap\n",
      "Nilai i = 5 merupakan bilangan ganjil\n"
     ]
    }
   ],
   "source": [
    "\"\"\" Gabungan antara Perulangan dan Kondisi \"\"\"\n"
   ]
  },
  {
   "cell_type": "markdown",
   "id": "9f2bc3f5",
   "metadata": {},
   "source": [
    "---\n",
    "<p>\n",
    "    <h1 style=\"font-size:5vw\">Black Box Challenge #1!</h1>\n",
    "    <br>\n",
    "        <br>\n",
    "            Salah satu algoritma Machine Learning dengan metode klasifikasi adalah algoritma  <a href=\"https://scikit-learn.org/stable/modules/tree.html\">Decision Tree</a> atau pohon keputusan. Sebuah data di-<i>training</i> dengan konsep <i>supervised learning</i> lalu output akhir adalah sebuah diagram pohon dimana node paling atas (<i>root</i>) merupakan keputusan awal yang harus dibuat lalu bercabang - cabang menjadi node yang lebih spesifik.\n",
    "        </br>\n",
    "        <br>    \n",
    "            Dari sebuah data dibuatlah sebuah model klasifikasi menggunakan decision tree sehingga diperoleh tree sebagai berikut. \n",
    "        </br>\n",
    "    </br>\n",
    "</p>\n",
    "\n",
    "<img width=\"400\" height=\"200\" position = \"center\" src=\"https://365datascience.com/resources/blog/59utffqewug-decision-trees-image2.png\">\n",
    "\n",
    "Buatlah sebuah program untuk memeriksa klasifikasi sebuah inputan bebas dari kondisi tersebut. Anda dapat mengikuti sintaks dibawah ini sebagai referensi atau <i>for sure</i> anda dapat bebas berkreasi sesuai imajinasi liar anda."
   ]
  },
  {
   "cell_type": "code",
   "execution_count": 8,
   "id": "a67b7a90",
   "metadata": {},
   "outputs": [
    {
     "name": "stdout",
     "output_type": "stream",
     "text": [
      "Tawaran diterima atau ditolak?\n",
      "ditolak\n"
     ]
    }
   ],
   "source": [
    "\"\"\" Black Box Challenge #1 \"\"\"\n",
    "\n",
    "# Input nilai pada variabel\n",
    "salary   = input('Masukan salary yang ditawarkan ')\n",
    "distance = input('Apakah kantor baru dekat dari rumah?')\n",
    "remote   = input('Apakah kantor baru memungkinkan untuk bekerja secara remote?')\n",
    "\n",
    "# Buat struktur pengkondisian\n",
    "offered = []\n",
    "if(int(salary) == 20000000):\n",
    "    offered.append(\"yes\")\n",
    "elif (distance == \"2km\"):\n",
    "    offered.append(\"yes\")\n",
    "elif (remote == \"yes\"):\n",
    "    offered.append(\"yes\")\n",
    "\n",
    "print('Tawaran diterima atau ditolak?')\n",
    "if len(offered) > 0:\n",
    "    print(\"diterima\")\n",
    "else:\n",
    "    print(\"ditolak\")"
   ]
  },
  {
   "cell_type": "markdown",
   "id": "437ffd4d",
   "metadata": {},
   "source": [
    "<p>\n",
    "<img src = \"https://i.gifer.com/6Hd.gif\" style=\"float:left;width:350px;height:250px;\">\n",
    "    <h1 style=\"font-size:5vw\">Black Box Challenge #2!</h1>\n",
    "    <br>\n",
    "        <br>\n",
    "           Barisan Fibonnaci adalah sebuah barisan dengan suku pertama dan suku keduanya merupakan sebuah sembarang bilangan bulat lalu untuk suku ketiga merupakan hasil jumlah dari suku pertama dan kedua, suku keempat merupakan hasil jumlah dari suku kedua dan suku ketiga, dst. Buatlah sebuah barisan bilangan Fibonnaci input berupa suku awal, suku kedua dan banyak barisan yang ingin ditampilkan. (<a href = \"http://blogaritmaa.blogspot.com/2014/06/fakta-unik-bilangan-fibonnica.html\">fakta unik barisan Fibonnaci</a>)\n",
    "\n",
    "<b>Contoh :</b>\n",
    "Misalkan user menginputkan nilai suku pertama = 4 dan suku kedua = 2 dan banyak barisan yang ingin ditampilkan = 5 maka output yang muncul adalah 4, 2, 6, 8, 14           \n",
    "        </br>\n",
    "    </br>\n",
    "</p>"
   ]
  },
  {
   "cell_type": "code",
   "execution_count": 4,
   "id": "b0a47762",
   "metadata": {},
   "outputs": [
    {
     "name": "stdout",
     "output_type": "stream",
     "text": [
      "[2, 3, 4, 5]\n"
     ]
    }
   ],
   "source": [
    "\"\"\" Black Box Challenge #2 \"\"\"\n",
    "\n",
    "suku_pertama = 4\n",
    "suku_kedua = 2\n",
    "banyak_barisan = 6\n",
    "\n",
    "sequence = []\n",
    "for num in range(suku_kedua, banyak_barisan):\n",
    "    sequence.append(num)\n",
    "...\n",
    "\n",
    "print(sequence)"
   ]
  },
  {
   "cell_type": "markdown",
   "id": "2e70997e",
   "metadata": {},
   "source": [
    "<br><h4 align=\"right\"> to be continued : <i>Turbulence. - Functions</i></h4></br>\n",
    "\n",
    "---\n",
    "copyright DQLab © 2022"
   ]
  }
 ],
 "metadata": {
  "kernelspec": {
   "display_name": "Python 3.10.6 64-bit",
   "language": "python",
   "name": "python3"
  },
  "language_info": {
   "codemirror_mode": {
    "name": "ipython",
    "version": 3
   },
   "file_extension": ".py",
   "mimetype": "text/x-python",
   "name": "python",
   "nbconvert_exporter": "python",
   "pygments_lexer": "ipython3",
   "version": "3.10.6"
  },
  "vscode": {
   "interpreter": {
    "hash": "916dbcbb3f70747c44a77c7bcd40155683ae19c65e1c03b4aa3499c5328201f1"
   }
  }
 },
 "nbformat": 4,
 "nbformat_minor": 5
}
