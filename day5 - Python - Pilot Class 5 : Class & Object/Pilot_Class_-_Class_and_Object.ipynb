{
 "cells": [
  {
   "cell_type": "markdown",
   "id": "b20d9ab7",
   "metadata": {},
   "source": [
    "\n",
    "<img src = \"https://cdn.dribbble.com/users/1434359/screenshots/3773763/media/d2119778382ed8ad13f22bcdacfa3f3a.gif\" \n",
    "     style = \"float:right\" width=\"450px\">\n",
    "<h1 style=\"font-size:300%;\">\n",
    "    I'm Home.\n",
    "</h1>\n",
    "<p style=\"font-size:160%;\">\n",
    "    Python - Pilot Class 5 : Class & Object\n",
    "</p>\n",
    "    <br>\n",
    "        <br>\n",
    "            <p style=\"font-size:110%;\">\n",
    "            Welcome to the Pythonverse. In the moment, you will arrive at your final destination. Make sure your passion and determination stay on as you explore the world you've learned before.\n",
    "            </p>\n",
    "            <br>\n",
    "                <p style = \"font-size:110%;\">\n",
    "                On behalf of The Pilot Class and the entire crew, I’d like to thank you for joining us on this trip. We are looking forward to seeing you on board again in the near future. Have a nice day and.again.welcome home.dqsquad!\n",
    "                </p>\n",
    "            </br>\n",
    "        </br>\n",
    "    </br>\n",
    "</img>\n",
    "</p>"
   ]
  },
  {
   "cell_type": "markdown",
   "id": "ebcec91a",
   "metadata": {},
   "source": [
    "### 1. Intro : OOP\n",
    "\n",
    "Python adalah bahasa pemrograman yang mendukung lebih dari satu aliran/paradigma/gaya pemrograman. Salah satunya adalah Object Oriented Programming. Object Oriented Programming (OOP) atau Pemrograman Berorientasi Objek adalah suatu paradigma pemrograman dimana program dapat distrukturkan dalam kumpulan object. Sebuah object memiliki dua karakteristik utama yakni <i>attribute</i> dan <i>behavior</i>. Perhatikan contoh berikut :\n",
    "\n",
    "    class DQSquad():\n",
    "    \n",
    "        def __init__(self, nama):\n",
    "            self.name = nama\n",
    "    \n",
    "        def skill_wajib(self, bidang): \n",
    "            if(bidang == 'data analyst'):\n",
    "                skill = 'SQL'\n",
    "            elif(bidang == 'data scientist'):\n",
    "                skill = 'Machine Learning'\n",
    "            elif(bidang == 'data engineer'):\n",
    "                skill = 'ETL'\n",
    "            else:\n",
    "                skill = 'Domain Knowledge'\n",
    "                \n",
    "            print(f'{self.name} perlu untuk kuasai {skill}')\n",
    "\n",
    "Sebuah class diberi nama DQSquad yang mempunyai <i>attribute</i> : <b>nama</b> dan <i>behavior</i> : <b>skill_wajib</b>."
   ]
  },
  {
   "cell_type": "markdown",
   "id": "9c90b6ed",
   "metadata": {},
   "source": [
    "### 2. Membuat Class\n",
    "\n",
    "Kita mendefinisikan sebuah kelas dengan menggunakan kata kunci class diikuti oleh nama kelas tersebut. Nama kelas pada Python umumnya dibuat menggunakan <a href = \"https://realpython.com/python-pep8/\">CamelCase</a>.\n",
    "\n",
    "    class ClassName():\n",
    "        ...\n",
    "        <code>\n",
    "        ...\n",
    "        "
   ]
  },
  {
   "cell_type": "markdown",
   "id": "6408ac61",
   "metadata": {},
   "source": [
    "### 3. Konstruktor __init__\n",
    "\n",
    "konstruktor bertugas untuk menginisialisasi (menetapkan nilai) ke anggota data kelas ketika objek kelas dibuat. Metode ini berguna untuk melakukan inisialisasi apa pun yang ingin Anda lakukan dengan objek Anda. Konstruktor __init__ akan dijalankan segera setelah objek kelas digunakan.\n",
    "\n",
    "    class ClassName():\n",
    "        \n",
    "        def __init__(self, argumen1, argumen2, ...):\n",
    "            ...\n",
    "\n",
    "self merupakan sintaks wajib pada konstruktor init. Dengan menggunakan \"self\" kita dapat mengakses atribut dan method kelas dengan python. \"self\" betugas untuk mengikat atribut dengan argumen yang diberikan"
   ]
  },
  {
   "cell_type": "code",
   "execution_count": 26,
   "id": "b1a2b9d0",
   "metadata": {},
   "outputs": [],
   "source": [
    "\"\"\" Membuat Class beserta Konstruktornya \"\"\"\n",
    "\n",
    "#Buat class dengan nama Person\n",
    "class Person():\n",
    " \n",
    "    # Konstruktor init\n",
    "    def __init__(self, name, age):\n",
    "        self.name = name\n",
    "        self.age = age\n",
    "        self.spesies = 'Homo sapiens'\n",
    "        kingdom = 'Animalia'"
   ]
  },
  {
   "cell_type": "markdown",
   "id": "7bc258c8",
   "metadata": {},
   "source": [
    "<h3 style=\"color:green\"> Tugas 1 </h3>\n",
    "\n",
    "Buatlah sebuah class dengan nama Car, lalu buat konstruktor __init__ dengan argumen nama mobil, warna, tahun keluar. Buat argumen self pada setiap argumen didalam konstruktor init"
   ]
  },
  {
   "cell_type": "code",
   "execution_count": null,
   "id": "a51a6e99",
   "metadata": {},
   "outputs": [],
   "source": [
    "# Tugas 1 : Show your best code below here!\n"
   ]
  },
  {
   "cell_type": "markdown",
   "id": "2e6b5d13",
   "metadata": {},
   "source": [
    "### 4. Membuat Object\n",
    "\n",
    "Untuk membuat object, pertama buat sebuah variabel lalu inisialisasikan Class dan atributnya (jika ada) ke dalam variabel tersebut. "
   ]
  },
  {
   "cell_type": "code",
   "execution_count": 33,
   "id": "e673ee60",
   "metadata": {},
   "outputs": [],
   "source": [
    "\"\"\" Membuat Class beserta Konstruktornya \"\"\"\n",
    "\n",
    "#Buat class dengan nama Person\n",
    "class Person():\n",
    " \n",
    "    # Konstruktor init\n",
    "    def __init__(self, name, age):\n",
    "        self.name = name\n",
    "        self.age = age\n",
    "        self.spesies = 'Homo sapiens'\n",
    "        kingdom = 'Animalia'"
   ]
  },
  {
   "cell_type": "code",
   "execution_count": 32,
   "id": "21b05631",
   "metadata": {},
   "outputs": [
    {
     "name": "stdout",
     "output_type": "stream",
     "text": [
      "<__main__.Person object at 0x000002B2512DAF40>\n"
     ]
    }
   ],
   "source": [
    "\"\"\" Membuat object dari Class yang telah dibuat \"\"\"\n",
    "\n",
    "# Buat sebuah objek\n",
    "person1 = Person(name = 'Shiva', age = 5)\n",
    "\n",
    "# Cetak object\n",
    "print(person1)"
   ]
  },
  {
   "cell_type": "markdown",
   "id": "47866b32",
   "metadata": {},
   "source": [
    "<h3 style=\"color:green\"> Tugas 2 </h3>\n",
    "\n",
    "<ol>\n",
    "    <li>Buatlah sebuah class dengan nama Car, lalu buat konstruktor __init__ dengan argumen nama mobil, warna, tahun keluar. Buat argumen self pada setiap argumen didalam konstruktor init.</li>\n",
    "    <li>Buat object dari class yang dibuat dengan menginisialisasikan nama mobil = 'esemka', warna = 'putih', tahun keluar = 2019</li>\n",
    "    <li>Tampilkan objek yang telah dibuat pada konsol</li>\n",
    "</ol>"
   ]
  },
  {
   "cell_type": "code",
   "execution_count": null,
   "id": "3e65b088",
   "metadata": {},
   "outputs": [],
   "source": [
    "# Tugas 2 : Show your best code below here!\n"
   ]
  },
  {
   "cell_type": "markdown",
   "id": "da7e921c",
   "metadata": {},
   "source": [
    "### 5. Mengakses Attribute\n",
    "\n",
    "Atribut pada konstruktor __init__ dapat diakses (jika atribut bersifat <i>public</i>) dengan cara menambahkan titik ' . ' di akhir object lalu tuliskan atributnya secara eksplisit"
   ]
  },
  {
   "cell_type": "code",
   "execution_count": 34,
   "id": "d0323830",
   "metadata": {},
   "outputs": [],
   "source": [
    "\"\"\" Membuat Class beserta Konstruktornya \"\"\"\n",
    "\n",
    "#Buat class dengan nama Person\n",
    "class Person():\n",
    " \n",
    "    # Konstruktor init\n",
    "    def __init__(self, name, age):\n",
    "        self.name = name\n",
    "        self.age = age\n",
    "        self.spesies = 'Homo sapiens'\n",
    "        kingdom = 'Animalia'"
   ]
  },
  {
   "cell_type": "code",
   "execution_count": 35,
   "id": "7444127a",
   "metadata": {},
   "outputs": [
    {
     "name": "stdout",
     "output_type": "stream",
     "text": [
      "Shiva\n"
     ]
    }
   ],
   "source": [
    "\"\"\" Membuat object dari Class yang telah dibuat dan cara akses attribute\"\"\"\n",
    "\n",
    "# Buat sebuah objek\n",
    "person1 = Person(name = 'Shiva', age = 5)\n",
    "\n",
    "# Akses atribut name pada objek\n",
    "print(person1.name)"
   ]
  },
  {
   "cell_type": "code",
   "execution_count": 30,
   "id": "92e12fde",
   "metadata": {},
   "outputs": [
    {
     "data": {
      "text/plain": [
       "'Homo sapiens'"
      ]
     },
     "execution_count": 30,
     "metadata": {},
     "output_type": "execute_result"
    }
   ],
   "source": [
    "# Buat sebuah objek\n",
    "person1 = Person(name = 'Shiva', age = 5)\n",
    "\n",
    "# Akses atribut spesies pada objek\n",
    "print(person1.spesies)"
   ]
  },
  {
   "cell_type": "code",
   "execution_count": 36,
   "id": "7ab0b4e1",
   "metadata": {},
   "outputs": [
    {
     "ename": "AttributeError",
     "evalue": "'Person' object has no attribute 'kingdom'",
     "output_type": "error",
     "traceback": [
      "\u001b[1;31m---------------------------------------------------------------------------\u001b[0m",
      "\u001b[1;31mAttributeError\u001b[0m                            Traceback (most recent call last)",
      "Input \u001b[1;32mIn [36]\u001b[0m, in \u001b[0;36m<cell line: 5>\u001b[1;34m()\u001b[0m\n\u001b[0;32m      2\u001b[0m person1 \u001b[38;5;241m=\u001b[39m Person(name \u001b[38;5;241m=\u001b[39m \u001b[38;5;124m'\u001b[39m\u001b[38;5;124mShiva\u001b[39m\u001b[38;5;124m'\u001b[39m, age \u001b[38;5;241m=\u001b[39m \u001b[38;5;241m5\u001b[39m)\n\u001b[0;32m      4\u001b[0m \u001b[38;5;66;03m# Akses atribut kingdom pada objek\u001b[39;00m\n\u001b[1;32m----> 5\u001b[0m \u001b[43mperson1\u001b[49m\u001b[38;5;241;43m.\u001b[39;49m\u001b[43mkingdom\u001b[49m\n",
      "\u001b[1;31mAttributeError\u001b[0m: 'Person' object has no attribute 'kingdom'"
     ]
    }
   ],
   "source": [
    "# Buat sebuah objek\n",
    "person1 = Person(name = 'Shiva', age = 5)\n",
    "    \n",
    "# Akses atribut kingdom pada objek\n",
    "person1.kingdom"
   ]
  },
  {
   "cell_type": "markdown",
   "id": "fd624f76",
   "metadata": {},
   "source": [
    "Perhatikan contoh diatas tersebut, konstruktor __init__ dapat memuat satu atau lebih argumen (pada kelas Person, argumen di konstruktor __init__ adalah name dan age) lalu didalam konstruktor __init__ didefinisikan sebuah atribut self.name dan atribut self.age yang nilainya sama dengan argumen awal diberikan, lalu terdapat self.spesies merupakan atribut yang didefinisikan secara default dan variabel kingdom yang nilainya tidak bisa diakses keluar dari konstruktor __init__"
   ]
  },
  {
   "cell_type": "markdown",
   "id": "d09ba016",
   "metadata": {},
   "source": [
    "<h3 style=\"color:green\"> Tugas 3 </h3>\n",
    "\n",
    "<ol>\n",
    "    <li>Buatlah sebuah class dengan nama Car, lalu buat konstruktor __init__ dengan argumen nama mobil, warna, tahun keluar. Buat argumen self pada setiap argumen didalam konstruktor init.</li>\n",
    "    <li>Buat object dari class yang dibuat dengan menginisialisasikan nama mobil = 'esemka', warna = 'putih', tahun keluar = 2019</li>\n",
    "    <li>Tampilkan setiap atribut yang ada pada objek yang telah dibuat</li>\n",
    "</ol>"
   ]
  },
  {
   "cell_type": "code",
   "execution_count": null,
   "id": "874b8a55",
   "metadata": {},
   "outputs": [],
   "source": [
    "# Tugas 3 : Show your best code below here!\n"
   ]
  },
  {
   "cell_type": "markdown",
   "id": "17c730a2",
   "metadata": {},
   "source": [
    "### 6. Encapsulation\n",
    "\n",
    "Enkapsulasi merupakan mekanisme membungkus informasi sehingga dapat menyembunyikan informasi (<i>private</i>) yang seharusnya disembunyikan atau tidak. Pada Python, enkapsulasi dapat digunakan pada atribut dan method.\n",
    "\n",
    "Gunakan tanda awal __ (<i>underscore</i> 2 kali) untuk membuat atribut atau method menjadi <i>private</i>. Private artinya atribut atau method tersebut hanya bisa digunakan didalam Class tersebut, tidak dapat diakses pada diluar kelas (<i>script Class</i>)"
   ]
  },
  {
   "cell_type": "code",
   "execution_count": 13,
   "id": "6dd84e07",
   "metadata": {},
   "outputs": [],
   "source": [
    "#Buat class dengan nama Person\n",
    "class Person():\n",
    " \n",
    "    # Konstruktor init\n",
    "    def __init__(self, name, age):\n",
    "        # Public attribute (atribut yang dapat diakses bebas)\n",
    "        self.name = name\n",
    "        self.age = age\n",
    "        # Private attribut (attribute yang hanya bisa diakses dalam script Class)\n",
    "        self.__spesies = 'Homo sapiens'\n",
    "        # Bukan attribute namun variabel biasa\n",
    "        kingdom = 'Animalia'"
   ]
  },
  {
   "cell_type": "code",
   "execution_count": 38,
   "id": "ce267881",
   "metadata": {},
   "outputs": [
    {
     "name": "stdout",
     "output_type": "stream",
     "text": [
      "Shiva\n"
     ]
    }
   ],
   "source": [
    "# Buat sebuah objek\n",
    "person1 = Person(name = 'Shiva', age = 5)\n",
    "\n",
    "# Akses atribut name pada objek\n",
    "print(person1.name)"
   ]
  },
  {
   "cell_type": "code",
   "execution_count": 42,
   "id": "1c8f96fa",
   "metadata": {},
   "outputs": [
    {
     "ename": "AttributeError",
     "evalue": "'Person' object has no attribute 'spesies'",
     "output_type": "error",
     "traceback": [
      "\u001b[1;31m---------------------------------------------------------------------------\u001b[0m",
      "\u001b[1;31mAttributeError\u001b[0m                            Traceback (most recent call last)",
      "Input \u001b[1;32mIn [42]\u001b[0m, in \u001b[0;36m<cell line: 5>\u001b[1;34m()\u001b[0m\n\u001b[0;32m      2\u001b[0m person1 \u001b[38;5;241m=\u001b[39m Person(name \u001b[38;5;241m=\u001b[39m \u001b[38;5;124m'\u001b[39m\u001b[38;5;124mShiva\u001b[39m\u001b[38;5;124m'\u001b[39m, age \u001b[38;5;241m=\u001b[39m \u001b[38;5;241m5\u001b[39m)\n\u001b[0;32m      4\u001b[0m \u001b[38;5;66;03m# Akses atribut spesies pada objek\u001b[39;00m\n\u001b[1;32m----> 5\u001b[0m \u001b[38;5;28mprint\u001b[39m(\u001b[43mperson1\u001b[49m\u001b[38;5;241;43m.\u001b[39;49m\u001b[43mspesies\u001b[49m)\n",
      "\u001b[1;31mAttributeError\u001b[0m: 'Person' object has no attribute 'spesies'"
     ]
    }
   ],
   "source": [
    "# Buat sebuah objek\n",
    "person1 = Person(name = 'Shiva', age = 5)\n",
    "\n",
    "# Akses atribut spesies pada objek\n",
    "print(person1.spesies)"
   ]
  },
  {
   "cell_type": "code",
   "execution_count": 43,
   "id": "047875da",
   "metadata": {},
   "outputs": [
    {
     "ename": "AttributeError",
     "evalue": "'Person' object has no attribute '__spesies'",
     "output_type": "error",
     "traceback": [
      "\u001b[1;31m---------------------------------------------------------------------------\u001b[0m",
      "\u001b[1;31mAttributeError\u001b[0m                            Traceback (most recent call last)",
      "Input \u001b[1;32mIn [43]\u001b[0m, in \u001b[0;36m<cell line: 5>\u001b[1;34m()\u001b[0m\n\u001b[0;32m      2\u001b[0m person1 \u001b[38;5;241m=\u001b[39m Person(name \u001b[38;5;241m=\u001b[39m \u001b[38;5;124m'\u001b[39m\u001b[38;5;124mShiva\u001b[39m\u001b[38;5;124m'\u001b[39m, age \u001b[38;5;241m=\u001b[39m \u001b[38;5;241m5\u001b[39m)\n\u001b[0;32m      4\u001b[0m \u001b[38;5;66;03m# Akses atribut spesies pada objek\u001b[39;00m\n\u001b[1;32m----> 5\u001b[0m \u001b[38;5;28mprint\u001b[39m(\u001b[43mperson1\u001b[49m\u001b[38;5;241;43m.\u001b[39;49m\u001b[43m__spesies\u001b[49m)\n",
      "\u001b[1;31mAttributeError\u001b[0m: 'Person' object has no attribute '__spesies'"
     ]
    }
   ],
   "source": [
    "# Buat sebuah objek\n",
    "person1 = Person(name = 'Shiva', age = 5)\n",
    "\n",
    "# Akses atribut spesies pada objek\n",
    "print(person1.__spesies)"
   ]
  },
  {
   "cell_type": "markdown",
   "id": "4365d78d",
   "metadata": {},
   "source": [
    "<h3 style=\"color:green\"> Tugas 4 </h3>\n",
    "\n",
    "<ol>\n",
    "    <li>Buatlah sebuah class dengan nama Car, lalu buat konstruktor __init__ dengan argumen nama mobil, warna, tahun keluar. Buat argumen self pada setiap argumen didalam konstruktor init. <b>Dengan ketentuan semua atribut bersifat publik kecuali tahun keluar bersifat private</b></li>\n",
    "    <li>Buat object dari class yang dibuat dengan menginisialisasikan nama mobil = 'esemka', warna = 'putih', tahun keluar = 2019</li>\n",
    "    <li>Tampilkan setiap atribut yang ada pada objek yang telah dibuat baik publik maupun private</li>\n",
    "</ol>"
   ]
  },
  {
   "cell_type": "code",
   "execution_count": null,
   "id": "707af033",
   "metadata": {},
   "outputs": [],
   "source": [
    "# Tugas 4 : Show your best code below here!\n"
   ]
  },
  {
   "cell_type": "markdown",
   "id": "2510cabb",
   "metadata": {},
   "source": [
    "Perhatikan bahwa pada Class Person, terdapat atribut yang ditulis secara eksplisit yakni spesies namun karena penamaannya dimulai dengan __spesies maka atribut spesies menjadi private sehingga ketika object dibuat atribut tersebut tidak dapat diakses"
   ]
  },
  {
   "cell_type": "code",
   "execution_count": 21,
   "id": "86af36b7",
   "metadata": {},
   "outputs": [
    {
     "name": "stdout",
     "output_type": "stream",
     "text": [
      "Nama awal : Shiva\n",
      "\n",
      "Nama update : Shivu\n"
     ]
    }
   ],
   "source": [
    "\"\"\" Attribut dari sebuah class dapat diupdate nilainya \"\"\"\n",
    "\n",
    "# Buat sebuah objek\n",
    "person1 = Person(name = 'Shiva', age = 5)\n",
    "\n",
    "# Akses atribut spesies pada objek\n",
    "print(f\"Nama awal : {person1.name}\")\n",
    "\n",
    "# Update atribut nama\n",
    "person1.name = 'Shivu'\n",
    "\n",
    "# Akses atribut spesies pada objek\n",
    "print(f\"\\nNama update : {person1.name}\")"
   ]
  },
  {
   "cell_type": "markdown",
   "id": "98b927db",
   "metadata": {},
   "source": [
    "### 7. Method (behavior)\n",
    "\n",
    "Method hampir sama dengan function pada Python, hanya saja method merupakan fungsi yang berada di dalam class dan bisa saling terhubung. Untuk memanggil method pada sebuah Class, haruslah membuat objek dari kelas tersebut. Dengan bantuan objek ini, Anda dapat mengakses metode kelas apa pun."
   ]
  },
  {
   "cell_type": "code",
   "execution_count": 6,
   "id": "d0acdbd9",
   "metadata": {},
   "outputs": [],
   "source": [
    "#Buat class dengan nama Person\n",
    "class Person():\n",
    " \n",
    "    # Konstruktor init\n",
    "    def __init__(self, name, age):\n",
    "        self.name = name\n",
    "        self.age = age\n",
    "        self.__spesies = 'Homo sapiens'\n",
    "        kingdom = 'Animalia'\n",
    "    \n",
    "    # Buat method tanpa argumen\n",
    "    def say_hello(self):\n",
    "        print(f'Hallo, panggil aku {self.name}! Umurku {self.age} tahun')\n",
    "        print(f'Aku merupakan makhluk hidup dengan kingdom Animalia dan jenis spesies {self.__spesies}')"
   ]
  },
  {
   "cell_type": "code",
   "execution_count": 7,
   "id": "c571b29b",
   "metadata": {},
   "outputs": [
    {
     "name": "stdout",
     "output_type": "stream",
     "text": [
      "Hallo, panggil aku Shiva! Umurku 5 tahun\n",
      "Aku merupakan makhluk hidup dengan kingdom Animalia dan jenis spesies Homo sapiens\n"
     ]
    }
   ],
   "source": [
    "# Buat sebuah objek\n",
    "person1 = Person(name = 'Shiva', age = 5)\n",
    "\n",
    "# Akses atribut spesies pada objek\n",
    "person1.say_hello()"
   ]
  },
  {
   "cell_type": "code",
   "execution_count": 11,
   "id": "061ddca8",
   "metadata": {},
   "outputs": [],
   "source": [
    "#Buat class dengan nama Person\n",
    "class Person():\n",
    " \n",
    "    # Konstruktor init\n",
    "    def __init__(self, name, age):\n",
    "        self.name = name\n",
    "        self.age = age\n",
    "        self.__spesies = 'Homo sapiens'\n",
    "        kingdom = 'Animalia'\n",
    "    \n",
    "    # Buat method tanpa argumen\n",
    "    def say_hello(self):\n",
    "        print(f'Hallo, panggil aku {self.name}! Umurku {self.age} tahun')\n",
    "        print(f'Aku merupakan makhluk hidup dengan kingdom Animalia dan jenis spesies {self.__spesies}')\n",
    "    \n",
    "    # Buat method dengan argumen\n",
    "    def say_hello_to_neighbour(self, neighbourname):\n",
    "        print(f'Hallo. Panggil aku {self.name}, kak {neighbourname}! Umurku {self.age} tahun')\n",
    "        print(f'Aku merupakan makhluk hidup dengan kingdom Animalia dan jenis spesies {self.__spesies}')"
   ]
  },
  {
   "cell_type": "code",
   "execution_count": 12,
   "id": "973af3c9",
   "metadata": {},
   "outputs": [
    {
     "name": "stdout",
     "output_type": "stream",
     "text": [
      "Hallo. Panggil aku Shiva, kak Jill! Umurku 5 tahun\n",
      "Aku merupakan makhluk hidup dengan kingdom Animalia dan jenis spesies Homo sapiens\n"
     ]
    }
   ],
   "source": [
    "# Buat sebuah objek\n",
    "person1 = Person(name = 'Shiva', age = 5)\n",
    "\n",
    "# Akses atribut spesies pada objek\n",
    "person1.say_hello_to_neighbour(neighbourname = 'Jill')"
   ]
  },
  {
   "cell_type": "code",
   "execution_count": 1,
   "id": "138a4d97",
   "metadata": {},
   "outputs": [],
   "source": [
    "#Buat class dengan nama Person\n",
    "class Person():\n",
    " \n",
    "    # Konstruktor init\n",
    "    def __init__(self, name, age):\n",
    "        self.name = name\n",
    "        self.age = age\n",
    "        self.__spesies = 'Homo sapiens'\n",
    "        kingdom = 'Animalia'\n",
    "    \n",
    "    # Buat Class tanpa argumen\n",
    "    def say_hello(self):\n",
    "        print(f'Hallo, panggil aku {self.name}! Umurku {self.age} tahun')\n",
    "        print(f'Aku merupakan makhluk hidup dengan kingdom Animalia dan jenis spesies {self.__spesies}')\n",
    "    \n",
    "    # Buat method dengan argumen\n",
    "    def say_hello_to_neighbour(self, neighbourname):\n",
    "        print(f'Hallo. Panggil aku {self.name}, kak {neighbourname}! Umurku {self.age} tahun')\n",
    "        print(f'Aku merupakan makhluk hidup dengan kingdom Animalia dan jenis spesies {self.__spesies}')\n",
    "    \n",
    "    # Buat method dengan argumen dan dengan return non-self\n",
    "    def usiaku_sekian_tahun_lagi(self, tambahusia):\n",
    "        usia = self.age + tambahusia\n",
    "        return(usia)\n",
    "    \n",
    "    # Buat method dengan argumen dan dengan return self\n",
    "    def tambah_nama_belakang(self, nama_belakang):\n",
    "        self.fullname = self.name + ' ' + nama_belakang\n",
    "        return(self)"
   ]
  },
  {
   "cell_type": "code",
   "execution_count": 38,
   "id": "de32b52b",
   "metadata": {},
   "outputs": [],
   "source": [
    "# Buat sebuah objek\n",
    "person1 = Person(name = 'Shiva', age = 5)"
   ]
  },
  {
   "cell_type": "code",
   "execution_count": 24,
   "id": "1ebe6c36",
   "metadata": {},
   "outputs": [
    {
     "name": "stdout",
     "output_type": "stream",
     "text": [
      "Hallo, panggil aku Shiva! Umurku 5 tahun\n",
      "Aku merupakan makhluk hidup dengan kingdom Animalia dan jenis spesies Homo sapiens\n"
     ]
    }
   ],
   "source": [
    "# Panggil method say_hello (method tanpa argumen tanpa return)\n",
    "person1.say_hello()"
   ]
  },
  {
   "cell_type": "code",
   "execution_count": 31,
   "id": "63701b0b",
   "metadata": {},
   "outputs": [
    {
     "name": "stdout",
     "output_type": "stream",
     "text": [
      "Hallo. Panggil aku Shiva, kak Jill! Umurku 5 tahun\n",
      "Aku merupakan makhluk hidup dengan kingdom Animalia dan jenis spesies Homo sapiens\n"
     ]
    }
   ],
   "source": [
    "# Panggil method say_hello_to_neighbour (method dengan argumen tanpa return)\n",
    "person1.say_hello_to_neighbour(neighbourname = 'Jill')"
   ]
  },
  {
   "cell_type": "code",
   "execution_count": 27,
   "id": "6a27bf85",
   "metadata": {},
   "outputs": [
    {
     "name": "stdout",
     "output_type": "stream",
     "text": [
      "14\n"
     ]
    }
   ],
   "source": [
    "# Panggil method usiaku_sekian_tahun_lagi (method dengan argumen dengan return)\n",
    "usia_tambah = person1.usiaku_sekian_tahun_lagi(tambahusia = 9)\n",
    "print(usia_tambah)"
   ]
  },
  {
   "cell_type": "code",
   "execution_count": 39,
   "id": "70b50d0c",
   "metadata": {},
   "outputs": [
    {
     "name": "stdout",
     "output_type": "stream",
     "text": [
      "<__main__.Person object at 0x0000023BD9EECCD0>\n"
     ]
    }
   ],
   "source": [
    "# Panggil method nama_lengkap (method dengan argumen dengan return self)\n",
    "nama_panjang = person1.tambah_nama_belakang(nama_belakang = 'Vrindavan')\n",
    "\n",
    "print(nama_panjang)"
   ]
  },
  {
   "cell_type": "code",
   "execution_count": 40,
   "id": "862144c9",
   "metadata": {},
   "outputs": [
    {
     "name": "stdout",
     "output_type": "stream",
     "text": [
      "Shiva Vrindavan\n"
     ]
    }
   ],
   "source": [
    "nama_panjang = person1.tambah_nama_belakang(nama_belakang = 'Vrindavan')\n",
    "\n",
    "print(nama_panjang.fullname)"
   ]
  },
  {
   "cell_type": "markdown",
   "id": "fbd4668b",
   "metadata": {},
   "source": [
    "<h3 style=\"color:green\"> Tugas 5 </h3>\n",
    "\n",
    "<ol>\n",
    "    <li>Buatlah sebuah class dengan nama Car, lalu buat konstruktor __init__ dengan argumen nama mobil, warna, tahun keluar. Buat argumen self pada setiap argumen didalam konstruktor init. <b>Dengan ketentuan semua atribut bersifat publik kecuali tahun keluar bersifat private</b></li>\n",
    "    <li>Buat satu argumen tambahan pada konstruktor __init__ bernama harga lalu inisialisasikan sebagai <b>self.harga_tahun_keluar = 100000000</b> </li>\n",
    "    <li>Buat 1 buah method tanpa argumen apapun bernama tampilkan_data_mobil lalu tampilkan setiap data detail dari mobil tersebut (output bebas)</li>\n",
    "    <li>Buat 1 buah method lain dengan argumen tahun_sekarang dengan nama harga_sekarang lalu hitung harga mobil dengan ketentuan setiap tahun harga mobil naik 2 % dari tahun sebelumnya</li>\n",
    "    <li>Buat object dari class yang dibuat dengan menginisialisasikan nama mobil = 'esemka', warna = 'putih', tahun keluar = 2019</li>\n",
    "    <li>Tampilkan data mobil dengan memanggil method tampilkan_data_mobil</li>\n",
    "    <li>Dengan object yang sama, panggil method harga_sekarang dengan input argumen tahun_sekarang = 2022, tampilkan hasilnya</li>\n",
    "</ol>\n",
    "\n",
    "<h5 style=\"color:orange\"> <i>Expected Output</i> </h5>\n",
    "    \n",
    "    >>> mobil = Car(nama_mobil = 'esemka', warna = 'putih', tahun_keluar = 2019)\n",
    "    >>> mobil.tampilkan_data_mobil()\n",
    "    ... Nama mobil = esemka\n",
    "    ... Warna mobil = putih\n",
    "    ... Tahun mobil dikeluarkan = 2019\n",
    "    \n",
    "    >>> mobil.harga_sekarang(tahun_sekarang = 2022)\n",
    "    ... Harga mobil esemka warna putih pada tahun 2022 adalah Rp. 106120800\n",
    "    "
   ]
  },
  {
   "cell_type": "markdown",
   "id": "7127dd4f",
   "metadata": {},
   "source": [
    "<img src = \"https://cdn.dribbble.com/users/2178578/screenshots/7154873/media/effabc632f4322acde3d501a29e82dde.gif\">"
   ]
  },
  {
   "cell_type": "markdown",
   "id": "62498a95",
   "metadata": {},
   "source": [
    "<br><h4 align=\"right\"> to be continued : <i>Enjoy your next journey on Pythonverse</i></h4></br>\n",
    "\n",
    "---\n",
    "copyright DQLab © 2022"
   ]
  }
 ],
 "metadata": {
  "kernelspec": {
   "display_name": "Python 3.10.6 64-bit",
   "language": "python",
   "name": "python3"
  },
  "language_info": {
   "codemirror_mode": {
    "name": "ipython",
    "version": 3
   },
   "file_extension": ".py",
   "mimetype": "text/x-python",
   "name": "python",
   "nbconvert_exporter": "python",
   "pygments_lexer": "ipython3",
   "version": "3.10.6"
  },
  "vscode": {
   "interpreter": {
    "hash": "916dbcbb3f70747c44a77c7bcd40155683ae19c65e1c03b4aa3499c5328201f1"
   }
  }
 },
 "nbformat": 4,
 "nbformat_minor": 5
}
