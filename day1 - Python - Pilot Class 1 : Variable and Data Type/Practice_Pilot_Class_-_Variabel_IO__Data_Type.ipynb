{
 "cells": [
  {
   "cell_type": "markdown",
   "id": "e0ee2777",
   "metadata": {},
   "source": [
    "<img src = \"https://cdn.dribbble.com/users/537878/screenshots/14460329/media/c24ef002dd434140b73afda430f31baa.gif\" \n",
    "     style = \"float:right; width:400px; height:300px;\">\n",
    "    <h1 style=\"font-size:300%;\">\n",
    "        Welcome, DQSquad!\n",
    "    </h1>\n",
    "    <p style=\"font-size:160%;\">\n",
    "        Python - Pilot Class 1 : Variable, I/O and Data Type\n",
    "    </p>\n",
    "    <br>\n",
    "        <br>\n",
    "            <p style=\"font-size:110%;\">\n",
    "                Ladies and gentlemen, welcome onboard Flight <b>Python - Pilot Class</b> \n",
    "                with service from DQSquad to Data Practitioner. \n",
    "                We ask that you please fasten your determination at this time and secure all disturbance around you. \n",
    "                This time, to start your first flight, you will fly through the world of variables and its datatype, input -   \n",
    "                output (I/O) and many more in Pythonverse. \n",
    "                So, please turn on all personal laptops, pc or tablet and make sure that you have internet connection.\n",
    "            </p>\n",
    "            <br>\n",
    "                <p style=\"font-size:110%;\">\n",
    "                     Thank you for choosing Pilot Class with DQlab.\n",
    "                     Enjoy your flight!\n",
    "                </p>\n",
    "            </br>\n",
    "        </br>\n",
    "    </br>\n",
    "</img>\n",
    "\n",
    "---"
   ]
  },
  {
   "cell_type": "markdown",
   "id": "cf295bb7",
   "metadata": {},
   "source": [
    "### 1. Input\n",
    "\n",
    "Fungsi <b><i>input()</i></b> digunakan ketika user ingin memasukan sebuah nilai secara bebas ke dalam sebuah variabel. Keluaran (*return*) dari fungsi <b><i>input()</i></b> adalah nilai yang dimasukan user dengan format string (*str*).\n",
    "\n",
    "Bentuk umum penggunaan input pada python: `nama_variabel = input('<teks>')`\n",
    "\n",
    "<b><i>input</i></b> ([prompt])\n",
    "    \n",
    "    Deskripsi\n",
    "    ---------\n",
    "    Fungsi input memungkinkan user untuk memasukan sebuah nilai pada program\n",
    "    \n",
    "    Parameter\n",
    "    ---------\n",
    "    prompt : str (opsional)\n",
    "        Jika argumen pada parameter prompt ada atau terdefinisi, \n",
    "        maka akan muncul pada output tanpa baris baru (newline) \n",
    "    \n",
    "    Contoh\n",
    "    ------\n",
    "    >>> dqsquad = input('Input nama dqsquad : ') \n",
    "    \n",
    "    Return\n",
    "    ------\n",
    "    nilai yang dimasukan user dalam bentuk atau format string\n",
    "    \n",
    "*docs : https://docs.python.org/3/library/functions.html#input*"
   ]
  },
  {
   "cell_type": "code",
   "execution_count": 3,
   "id": "2598f0a6",
   "metadata": {},
   "outputs": [
    {
     "data": {
      "text/plain": [
       "'Jhonny'"
      ]
     },
     "execution_count": 3,
     "metadata": {},
     "output_type": "execute_result"
    }
   ],
   "source": [
    "input('Input nama dqsquad: ')"
   ]
  },
  {
   "cell_type": "markdown",
   "id": "006f84c2",
   "metadata": {},
   "source": [
    "### 2. Output\n",
    "Untuk menampikan suatu objek pada python dapat menggunakan fungsi <b><i>print()</i></b>. Fungsi print memiliki beberapa parameter baik parameter mandatory (yang wajib ada) seperti teks atau objek yang ingin ditampilkan, maupun parameter opsional (boleh diinisialisasi maupun tidak) seperti sep, end, file dan flush.\n",
    "\n",
    "***print*** *(\\*objects, sep = ' ', end = '\\n', file = sys.stdout, flush = False)*\n",
    "    \n",
    "    Deskripsi\n",
    "    ---------\n",
    "    \n",
    "    Mencetak atau menampilkan objek/variabel/teks yang dipisahkan \n",
    "    oleh parameter sep dan diakhiri oleh parameter end. \n",
    "    \n",
    "    Parameter\n",
    "    ---------\n",
    "    *object : str (mandatory)\n",
    "        Parameter *objects mewakili sejumlah argumen/teks yang berubah-ubah. \n",
    "        Ini memungkinkan untuk memanggil fungsi print() sejumlah input\n",
    "        yang diinisialisasikan oleh user\n",
    "    \n",
    "    sep : str, default = '' (opsional)\n",
    "        Parameter pemisah sep bertindak sebagai pemisah jika fungsi print()\n",
    "        dipanggil dengan beberapa nilai. Secara default, ini disetel string kosong, ' '.\n",
    "    \n",
    "    end : str, default = '\\n' (opsional)\n",
    "        Parameter end menentukan string/karakter di mana nilai yang dicetak berakhir.\n",
    "        Secara default, ini adalah jeda baris (newline / enter) dengan simbol '\\n'.\n",
    "        \n",
    "    file : object dengan write(str) method, default = sys.stdout (opsional)\n",
    "        Parameter file menentukan ke mana fungsi print() mengirimkan output. \n",
    "        Gunakan file.write(...) jika ingin mengganti setelan default\n",
    "        Secara default, ia mengirimkan output ke konsol.\n",
    "    \n",
    "    flush : bool, default = False (opsional)\n",
    "        Flushing dengan Python berarti mem-flush buffer aliran keluaran. \n",
    "        Jika user ingin mem-flush aliran keluaran saat mencetak, \n",
    "        Anda perlu menyetel argumen flush = True dalam pemanggilan fungsi print()\n",
    "    \n",
    "    Contoh\n",
    "    ------\n",
    "    >>> print('Hello, DQSquad!)\n",
    "    ... Hello, DQSquad!\n",
    "    \n",
    "    >>> print(1, 2, 3)\n",
    "    ... 1 2 3\n",
    "    \n",
    "    >>> print(1, 2, 3, sep = '-')\n",
    "    ... 1-2-3\n",
    "    \n",
    "    >>> print('DQSquad')\n",
    "    >>> print('ini langkah awal yang hebat')\n",
    "    ... DQSquad\n",
    "    ... ini langkah awal yang hebat\n",
    "    \n",
    "    >>> print('DQSquad', end = ' ')\n",
    "    >>> print('ini langkah awal yang hebat')\n",
    "    ... DQSquad ini langkah awal yang hebat!\n",
    "        \n",
    "    Return\n",
    "    ------\n",
    "    None\n",
    "\"\"\"\n",
    "\n",
    "*docs : https://docs.python.org/3/library/functions.html#print*"
   ]
  },
  {
   "cell_type": "code",
   "execution_count": 4,
   "id": "aa6b04c9",
   "metadata": {},
   "outputs": [
    {
     "name": "stdout",
     "output_type": "stream",
     "text": [
      "Hello DQWorld!\n"
     ]
    }
   ],
   "source": [
    "# Mencetak 1 objek\n",
    "print('Hello DQWorld!')\n"
   ]
  },
  {
   "cell_type": "code",
   "execution_count": 5,
   "id": "abc29e2f",
   "metadata": {},
   "outputs": [
    {
     "name": "stdout",
     "output_type": "stream",
     "text": [
      "Langkah awal untuk memulai semangatmu, coba keluarkan kalimat ini!\n"
     ]
    }
   ],
   "source": [
    "# DQChallange 1 : Mencetak dan menampilkan teks pada konsol \n",
    "print('Langkah awal untuk memulai semangatmu, coba keluarkan kalimat ini!')"
   ]
  },
  {
   "cell_type": "code",
   "execution_count": 7,
   "id": "89e0c68e",
   "metadata": {},
   "outputs": [
    {
     "name": "stdout",
     "output_type": "stream",
     "text": [
      "Hello DQWorld! 2022\n"
     ]
    }
   ],
   "source": [
    "# Mencetak beberapa objek\n",
    "print('Hello', 'DQWorld!', '2022')"
   ]
  },
  {
   "cell_type": "code",
   "execution_count": 9,
   "id": "3a2ced44",
   "metadata": {},
   "outputs": [
    {
     "name": "stdout",
     "output_type": "stream",
     "text": [
      "Hello-DQWorld!-2022\n"
     ]
    }
   ],
   "source": [
    "# Mencetak beberapa objek\n",
    "print('Hello', 'DQWorld!', '2022', sep = '-')"
   ]
  },
  {
   "cell_type": "markdown",
   "id": "89d6aaa8",
   "metadata": {},
   "source": [
    "### 3. Variabel\n",
    "\n",
    "Variabel adalah wadah untuk menyimpan nilai data. Variabel dibuat saat pertama kali ditetapkan nilai padanya.\n",
    "Variabel yang dibuat pertama kali perlu untuk diinisialisasi nilainya atau biasa disebut proses *assignment*.\n",
    "Proses assignment dapat langsung diinisialisasi pada sintaks atau bisa juga dengan menggunakan fungsi input() jika user menginginkan nilai variabel yang bersifat bebas.\n",
    "\n",
    "Bentuk umum *assignment* pada variabel adalah `nama_variabel = nilai_variabel`\n",
    "\n",
    "Operator *assignment* dilambangkan dengan simbol sama dengan ( = ).\n",
    "Simbol ( = ) adalah operator yang digunakan untuk menetapkan nilai ke variabel pada Python\n",
    "dengan pembacaan dari kanan ke kiri.\n",
    "\n",
    "Variabel dapat diberi nilai (<i>assignment</i>) sebuah angka, huruf/kata, True/False (nilai boolean) atau yang lainnya.\n",
    "\n",
    "Untuk menampilkan/mencetak nilai pada sebuah variabel dapat menggunakan fungsi <b><i>print()</i></b>"
   ]
  },
  {
   "cell_type": "code",
   "execution_count": 12,
   "id": "1559dc51",
   "metadata": {},
   "outputs": [],
   "source": [
    "# Inisialisasi langsung nilai pada variabel\n",
    "x = 1"
   ]
  },
  {
   "cell_type": "code",
   "execution_count": 13,
   "id": "7840a8a2",
   "metadata": {},
   "outputs": [
    {
     "name": "stdout",
     "output_type": "stream",
     "text": [
      "1\n"
     ]
    }
   ],
   "source": [
    "# Mencetak nilai variabel dengan fungsi print\n",
    "print(x)"
   ]
  },
  {
   "cell_type": "code",
   "execution_count": 14,
   "id": "bfa07399",
   "metadata": {},
   "outputs": [
    {
     "name": "stdout",
     "output_type": "stream",
     "text": [
      "Nilai x adalah:  1\n"
     ]
    }
   ],
   "source": [
    "# Opsi 1 : Mencetak nilai variabel dengan fungsi print diiringi dengan teks\n",
    "print('Nilai x adalah: ', x)"
   ]
  },
  {
   "cell_type": "code",
   "execution_count": 15,
   "id": "f39b007b",
   "metadata": {},
   "outputs": [
    {
     "name": "stdout",
     "output_type": "stream",
     "text": [
      "Nilai x adalah: 1\n"
     ]
    }
   ],
   "source": [
    "# Opsi 2 : Mencetak nilai variabel dengan fungsi print diiringi dengan teks dengan formatted string literal\n",
    "print(f\"Nilai x adalah: {x}\")"
   ]
  },
  {
   "cell_type": "code",
   "execution_count": 16,
   "id": "9324f400",
   "metadata": {},
   "outputs": [
    {
     "name": "stdout",
     "output_type": "stream",
     "text": [
      "Nilai x adalah: 1\n"
     ]
    }
   ],
   "source": [
    "# Opsi 3 : Mencetak nilai variabel dengan fungsi print diiringi dengan teks\n",
    "print(\"Nilai x adalah: {}\".format(x))"
   ]
  },
  {
   "cell_type": "code",
   "execution_count": 20,
   "id": "929313e0",
   "metadata": {},
   "outputs": [
    {
     "name": "stdout",
     "output_type": "stream",
     "text": [
      "Masukan sebuah nilai : DQLab\n",
      "Nilai yang anda input adalah DQLab\n"
     ]
    }
   ],
   "source": [
    "# Assignment variabel dengan fungsi input()\n"
   ]
  },
  {
   "cell_type": "code",
   "execution_count": 12,
   "id": "0e3f6e50",
   "metadata": {},
   "outputs": [
    {
     "name": "stdout",
     "output_type": "stream",
     "text": [
      "Nilai x adalah 1 sedangkan nilai y adalah 2\n"
     ]
    }
   ],
   "source": [
    "# Mencetak dua variabel secara langsung\n"
   ]
  },
  {
   "cell_type": "code",
   "execution_count": 18,
   "id": "f6c6fb9f",
   "metadata": {},
   "outputs": [
    {
     "name": "stdout",
     "output_type": "stream",
     "text": [
      "Nilai x adalah 1 sedangkan nilai y adalah 2\n"
     ]
    }
   ],
   "source": [
    "# Mencetak dua variabel secara langsung\n"
   ]
  },
  {
   "cell_type": "code",
   "execution_count": 9,
   "id": "ad166cc0",
   "metadata": {},
   "outputs": [
    {
     "name": "stdout",
     "output_type": "stream",
     "text": [
      "1 titik, 2 koma\n",
      "Mau belajar data analitik? DQLab pilihannya\n"
     ]
    }
   ],
   "source": [
    "# Mencetak dua variabel secara langsung\n"
   ]
  },
  {
   "cell_type": "markdown",
   "id": "488a2581",
   "metadata": {},
   "source": [
    "Proses <i>assignment</i> juga dapat dilakukan untuk memberi nilai pada variabel lain."
   ]
  },
  {
   "cell_type": "code",
   "execution_count": 14,
   "id": "55ee7b25",
   "metadata": {},
   "outputs": [
    {
     "name": "stdout",
     "output_type": "stream",
     "text": [
      "Nilai x = 1 dan y = 1\n"
     ]
    }
   ],
   "source": [
    "# Assignment sebuah variabel ke variabel lain\n"
   ]
  },
  {
   "cell_type": "code",
   "execution_count": 17,
   "id": "9094ca4a",
   "metadata": {},
   "outputs": [
    {
     "ename": "NameError",
     "evalue": "name 'b' is not defined",
     "output_type": "error",
     "traceback": [
      "\u001b[1;31m---------------------------------------------------------------------------\u001b[0m",
      "\u001b[1;31mNameError\u001b[0m                                 Traceback (most recent call last)",
      "\u001b[1;32m~\\AppData\\Local\\Temp/ipykernel_9912/433060591.py\u001b[0m in \u001b[0;36m<module>\u001b[1;34m\u001b[0m\n\u001b[0;32m      1\u001b[0m \u001b[1;31m# DQChallenge 2 : Error diagnosis!\u001b[0m\u001b[1;33m\u001b[0m\u001b[1;33m\u001b[0m\u001b[0m\n\u001b[0;32m      2\u001b[0m \u001b[0ma\u001b[0m \u001b[1;33m=\u001b[0m \u001b[1;36m1\u001b[0m\u001b[1;33m\u001b[0m\u001b[1;33m\u001b[0m\u001b[0m\n\u001b[1;32m----> 3\u001b[1;33m \u001b[0ma\u001b[0m \u001b[1;33m=\u001b[0m \u001b[0mb\u001b[0m\u001b[1;33m\u001b[0m\u001b[1;33m\u001b[0m\u001b[0m\n\u001b[0m\u001b[0;32m      4\u001b[0m \u001b[1;33m\u001b[0m\u001b[0m\n\u001b[0;32m      5\u001b[0m \u001b[0mprint\u001b[0m\u001b[1;33m(\u001b[0m\u001b[1;34mf'Nilai x = {a} dan y = {b}'\u001b[0m\u001b[1;33m)\u001b[0m\u001b[1;33m\u001b[0m\u001b[1;33m\u001b[0m\u001b[0m\n",
      "\u001b[1;31mNameError\u001b[0m: name 'b' is not defined"
     ]
    }
   ],
   "source": [
    "# DQChallenge 2 : Diagnosa kesalahan (error)!\n",
    "a = 1\n",
    "a = b\n",
    "\n",
    "print(f'Nilai x = {a} dan y = {b}')"
   ]
  },
  {
   "cell_type": "code",
   "execution_count": 2,
   "id": "05301c8d",
   "metadata": {},
   "outputs": [
    {
     "name": "stdout",
     "output_type": "stream",
     "text": [
      "Masukan nilai x = 22/7\n",
      "Nilai x yang diinputkan adalah x = 22/7\n"
     ]
    }
   ],
   "source": [
    "# DQChallenge 3 : Fill the blank to get same output!\n",
    "\n",
    "... = ...('Masukan nilai ... = ')\n",
    "print(f'Nilai ... yang diinputkan adalah ... = {...}')"
   ]
  },
  {
   "cell_type": "markdown",
   "id": "2b15a5fb",
   "metadata": {},
   "source": [
    "### 4. Tipe Data\n",
    "\n",
    "Tipe data (<i>data type</i>) adalah sebuah pengklasifikasian data berdasarkan jenis data tersebut. Tipe data dibutuhkan agar kompiler dapat mengetahui bagaimana sebuah data akan digunakan atau dioperasikan.\n",
    "\n",
    "Tipe data pada python dibagi menjadi dua :\n",
    "1. <b>Tipe Data Dasar</b>\n",
    "    <br>Tipe data numerik (<i>integer</i>, <i>float</i>, dsb), boolean (<i>True</i> atau <i>False</i>), karakter (<i>string</i>) atau bilangan kompleks (<i>complex</i>) merupakan tipe data dasar pada bahasa pemrograman python</br>\n",
    "2. <b>Tipe Data Sequential</b>\n",
    "    <br>Tipe data ini digunakan untuk menyimpan data dalam sebuah wadah dalam bahasa Python, contoh : <i>list, dictionary, tuple dan set</i></br>\n",
    " \n",
    "Untuk memeriksa tipe data pada sebuah variabel dapat menggunakan fungsi <i><b>type('\\<nama_variabel\\>')</b></i>"
   ]
  },
  {
   "cell_type": "code",
   "execution_count": 10,
   "id": "03fd8b97",
   "metadata": {},
   "outputs": [
    {
     "name": "stdout",
     "output_type": "stream",
     "text": [
      "<class 'str'>\n"
     ]
    }
   ],
   "source": [
    "# Menginisialisasi nilai pada variabel x\n",
    "\n",
    "\n",
    "# Periksa tipe data variabel x\n"
   ]
  },
  {
   "cell_type": "code",
   "execution_count": 8,
   "id": "803519b1",
   "metadata": {},
   "outputs": [
    {
     "name": "stdout",
     "output_type": "stream",
     "text": [
      "Tipe data variabel m = 3 adalah : <class 'int'>\n"
     ]
    }
   ],
   "source": [
    "#Tipe data 1 : Integer (bilangan bulat) \n"
   ]
  },
  {
   "cell_type": "code",
   "execution_count": 9,
   "id": "843a6ccd",
   "metadata": {},
   "outputs": [
    {
     "name": "stdout",
     "output_type": "stream",
     "text": [
      "Tipe data variabel n = 3.0 adalah : <class 'float'>\n"
     ]
    }
   ],
   "source": [
    "#Tipe data 2 : Float (bilangan real) \n"
   ]
  },
  {
   "cell_type": "code",
   "execution_count": 13,
   "id": "c2e76af9",
   "metadata": {},
   "outputs": [
    {
     "name": "stdout",
     "output_type": "stream",
     "text": [
      "Tipe data variabel o = 0.00035 adalah : <class 'float'>\n"
     ]
    }
   ],
   "source": [
    "#Tipe data 2 : Float (bilangan real - dengan notasi basis 10) \n"
   ]
  },
  {
   "cell_type": "code",
   "execution_count": 11,
   "id": "3ffcf959",
   "metadata": {},
   "outputs": [
    {
     "name": "stdout",
     "output_type": "stream",
     "text": [
      "Tipe data variabel p = 3 adalah : <class 'str'>\n"
     ]
    }
   ],
   "source": [
    "#Tipe data 3 : String (susunan dari beberapa karakter)\n",
    "#String selalu diapit oleh tanda petik\n"
   ]
  },
  {
   "cell_type": "code",
   "execution_count": 12,
   "id": "c4e2542e",
   "metadata": {},
   "outputs": [
    {
     "name": "stdout",
     "output_type": "stream",
     "text": [
      "Tipe data variabel q = (3+4j) adalah : <class 'complex'>\n"
     ]
    }
   ],
   "source": [
    "#Tipe data 4 : Complex (bilangan kompleks, a + bj dengan j = sqrt(-1)) \n"
   ]
  },
  {
   "cell_type": "code",
   "execution_count": null,
   "id": "43baebcb",
   "metadata": {},
   "outputs": [],
   "source": [
    "# DQChallenge 4 : Periksa tipe data dari hasil user-input!\n",
    "... = input(...)\n",
    "print(f'Tipe data variabel ... = {...} adalah : {...}')"
   ]
  },
  {
   "cell_type": "markdown",
   "id": "d90e66bc",
   "metadata": {},
   "source": [
    "### 5. Konversi Tipe Data\n",
    "\n",
    "Tipe data pada sebuah variabel dapat diubah dari aslinya dengan syarat variabel yang akan di konversi tipe datanya sesuai. Untuk mengubah suatu variabel dengan tipe data tertentu menjadi tipe data yang diinginkan gunakan fungsi berikut :\n",
    "\n",
    "1. int('\\<nama_variabel\\>')   : untuk mengubah tipe data variabel menjadi integer / bil. bulat\n",
    "<br><i>docs : https://docs.python.org/3/library/functions.html#int</i></br>\n",
    "2. float('\\<nama_variabel\\>') : untuk mengubah tipe data variabel menjadi float / bil. real\n",
    "<br><i>docs : https://docs.python.org/3/library/functions.html#float</i></br>\n",
    "3. str('\\<nama_variabel\\>')   : untuk mengubah tipe data variabel menjadi string\n",
    "<br><i>docs : https://docs.python.org/3/library/functions.html#func-str</i></br>\n",
    "4. bool('\\<nama_variabel\\>')   : untuk mengubah tipe data variabel menjadi boolean\n",
    "<br><i>docs : https://docs.python.org/3/library/functions.html#bool</i></br>\n",
    "\n",
    "Namun, yang perlu diperhatikan adalah tidak semua variabel dengan tipe data tertentu dapat dengan mudah diubah tipe datanya.\n"
   ]
  },
  {
   "cell_type": "code",
   "execution_count": 3,
   "id": "151f2d83",
   "metadata": {},
   "outputs": [
    {
     "name": "stdout",
     "output_type": "stream",
     "text": [
      "Nilai x = 3 dengan tipe data awal <class 'str'>\n",
      "Nilai x = 3 dengan tipe data yang telah diubah <class 'int'>\n"
     ]
    }
   ],
   "source": [
    "#Inisialisasi variabel dengan tipe data awal string\n",
    "\n",
    "\n",
    "#Konversi tipe data awal menjadi integer\n"
   ]
  },
  {
   "cell_type": "code",
   "execution_count": 4,
   "id": "9b3fc12c",
   "metadata": {},
   "outputs": [
    {
     "name": "stdout",
     "output_type": "stream",
     "text": [
      "Nilai y = 3.14 dengan tipe data awal <class 'float'>\n",
      "Nilai y_konversi = 3.14 dengan tipe data yang telah diubah <class 'str'>\n"
     ]
    }
   ],
   "source": [
    "#Inisialisasi variabel dengan tipe data awal float\n",
    "\n",
    "\n",
    "#Konversi tipe data awal menjadi string\n"
   ]
  },
  {
   "cell_type": "markdown",
   "id": "74ac9486",
   "metadata": {},
   "source": [
    "### 5. Operasi pada Variabel\n",
    "\n",
    "Variabel dapat juga dilakukan proses operasi baik operasi perhitungan maupun operasi yang lain. Berikut merupakan operasi variabel yang valid atau dapat dilakukan pada bahasa pemrograman Python\n",
    "\n",
    "1. Operasi Aritmatika\n",
    "<br> Operasi aritmatika hanya berlaku pada satu atau lebih variabel dengan tipe data numerik seperti float, int maupun bilangan kompleks.</br>\n",
    "\n",
    "<img src=\"http://lam-programming.weebly.com/uploads/2/3/3/2/23323570/screenshot-2018-12-11-11-57-08_orig.png\" alt=\"alternatetext\">\n"
   ]
  },
  {
   "cell_type": "code",
   "execution_count": 13,
   "id": "10ec6170",
   "metadata": {},
   "outputs": [
    {
     "name": "stdout",
     "output_type": "stream",
     "text": [
      "Hasil dari 5 * 3 = 15\n"
     ]
    }
   ],
   "source": [
    "# Inisialisasi variabel\n",
    "\n",
    "\n",
    "# Cetak hasilnya\n"
   ]
  },
  {
   "cell_type": "code",
   "execution_count": 18,
   "id": "66a4f6de",
   "metadata": {},
   "outputs": [
    {
     "name": "stdout",
     "output_type": "stream",
     "text": [
      "Hasil dari mod(11, 3) = 2\n"
     ]
    }
   ],
   "source": [
    "# Inisialisasi variabel\n",
    "\n",
    "# Cetak hasilnya\n"
   ]
  },
  {
   "cell_type": "code",
   "execution_count": 20,
   "id": "fb66c6da",
   "metadata": {},
   "outputs": [
    {
     "ename": "ZeroDivisionError",
     "evalue": "division by zero",
     "output_type": "error",
     "traceback": [
      "\u001b[1;31m---------------------------------------------------------------------------\u001b[0m",
      "\u001b[1;31mZeroDivisionError\u001b[0m                         Traceback (most recent call last)",
      "\u001b[1;32m~\\AppData\\Local\\Temp/ipykernel_4112/876201961.py\u001b[0m in \u001b[0;36m<module>\u001b[1;34m\u001b[0m\n\u001b[0;32m      1\u001b[0m \u001b[0ma\u001b[0m \u001b[1;33m=\u001b[0m \u001b[1;36m1\u001b[0m\u001b[1;33m\u001b[0m\u001b[1;33m\u001b[0m\u001b[0m\n\u001b[0;32m      2\u001b[0m \u001b[0mb\u001b[0m \u001b[1;33m=\u001b[0m \u001b[1;33m-\u001b[0m\u001b[1;36m3\u001b[0m\u001b[1;33m\u001b[0m\u001b[1;33m\u001b[0m\u001b[0m\n\u001b[1;32m----> 3\u001b[1;33m \u001b[0mc\u001b[0m \u001b[1;33m=\u001b[0m \u001b[1;33m(\u001b[0m\u001b[0ma\u001b[0m\u001b[1;33m+\u001b[0m\u001b[0mb\u001b[0m\u001b[1;33m)\u001b[0m\u001b[1;33m/\u001b[0m\u001b[1;33m(\u001b[0m\u001b[0mb\u001b[0m\u001b[1;33m+\u001b[0m\u001b[1;36m3\u001b[0m\u001b[1;33m*\u001b[0m\u001b[0ma\u001b[0m\u001b[1;33m)\u001b[0m\u001b[1;33m\u001b[0m\u001b[1;33m\u001b[0m\u001b[0m\n\u001b[0m",
      "\u001b[1;31mZeroDivisionError\u001b[0m: division by zero"
     ]
    }
   ],
   "source": [
    "# DQChallenge : True Syntax, but error?\n",
    "\n",
    "# Inisialisasi parameter\n",
    "a = 1\n",
    "b = -3\n",
    "\n",
    "# Hitung nilai c dengan rumus berikut\n",
    "c = (a+b)/(b+3*a)\n",
    "\n",
    "# Cetak hasilnya\n",
    "print(f\"Hasil dari perhitungan adalah {c}\")"
   ]
  },
  {
   "cell_type": "markdown",
   "id": "dbb04837",
   "metadata": {},
   "source": [
    "2. Operasi String\n",
    "<br>String hanya dapat dioperasikan dengan sesama string menggunakan operator ( + ) untuk menggabung (<i>concatenate</i>) satu string dengan yang lain atau dapat juga dioperasikan dengan integer menggunakan operator ( * ) untuk melipatgandakan string sebanyak bilangan integer yang diinisialisasikan</br>"
   ]
  },
  {
   "cell_type": "code",
   "execution_count": 1,
   "id": "7b5c10bb",
   "metadata": {},
   "outputs": [
    {
     "name": "stdout",
     "output_type": "stream",
     "text": [
      "PilotClass\n"
     ]
    }
   ],
   "source": [
    "# Inisialisasi variabel\n",
    "\n",
    "\n",
    "# Tampilkan hasil\n"
   ]
  },
  {
   "cell_type": "code",
   "execution_count": 16,
   "id": "02362554",
   "metadata": {},
   "outputs": [
    {
     "name": "stdout",
     "output_type": "stream",
     "text": [
      "PythonPilotClasswithDQLab\n"
     ]
    }
   ],
   "source": [
    "# Inisialisasi variabel\n",
    "\n",
    "# Tampilkan hasil\n"
   ]
  },
  {
   "cell_type": "code",
   "execution_count": 6,
   "id": "67ac20cd",
   "metadata": {},
   "outputs": [
    {
     "name": "stdout",
     "output_type": "stream",
     "text": [
      "PilotPilotPilotPilotPilot\n"
     ]
    }
   ],
   "source": [
    "# Inisialisasi variabel\n",
    "\n",
    "\n",
    "# Tampilkan hasil\n"
   ]
  },
  {
   "cell_type": "markdown",
   "id": "6f3d4059",
   "metadata": {},
   "source": [
    "---\n",
    "<p>\n",
    "<img src=\"https://cdn.dribbble.com/users/1166566/screenshots/3861413/media/ec79ff3bd10f1da54104a86313c6fcbd.gif\" style=\"float:right;width:300px;height:225px;\">\n",
    "    <h1 style=\"font-size:5vw\">Black Box Challenge #1!</h1>\n",
    "    <br>\n",
    "        <br>\n",
    "            Definisikan sebuah variabel (misalkan nama variabelnya <i>pi</i>) dan inisialisasikan nilainya menjadi 22/7. \n",
    "            Lalu tampilkan nilai variabel tersebut pada konsol, maka output yang mungkin keluar adalah 3,142857142857143.\n",
    "        </br>\n",
    "        <br>    \n",
    "            Namun dapatkah kamu menampilkan nilai variabel tersebut dengan mengontrol banyak angka dibelakang koma? \n",
    "            misal hanya menampilkan 2 angka dibelakang koma saja menjadi 3,14?\n",
    "        </br>\n",
    "    </br>\n",
    "</p>"
   ]
  },
  {
   "cell_type": "code",
   "execution_count": 10,
   "id": "5e802f50",
   "metadata": {},
   "outputs": [
    {
     "name": "stdout",
     "output_type": "stream",
     "text": [
      "Nilai dari pi = 3.142857142857143\n"
     ]
    }
   ],
   "source": [
    "# Inisialisasikan variabel\n",
    "pi = 22/7\n",
    "\n",
    "# Tampilkan hasilnya\n",
    "print(f\"Nilai dari pi = {pi}\")"
   ]
  },
  {
   "cell_type": "code",
   "execution_count": 11,
   "id": "bdfc3e1a",
   "metadata": {},
   "outputs": [
    {
     "name": "stdout",
     "output_type": "stream",
     "text": [
      "3.14\n"
     ]
    }
   ],
   "source": [
    "# Expected output : Tampilkan 2 angka dibelakang koma pada variabel yang telah diinisialisasi\n",
    "print(\"%.2f\" % pi) "
   ]
  },
  {
   "cell_type": "markdown",
   "id": "0bc94834",
   "metadata": {},
   "source": [
    "\n",
    "<p>\n",
    "<img src = \"https://i.graphicmama.com/blog/wp-content/uploads/2016/12/06085800/fast_company_lab.gif\" style=\"float:left;width:400px;height:300px;\">\n",
    "    <h1 style=\"font-size:5vw\">Black Box Challenge #2!</h1>\n",
    "    <br>\n",
    "        <br>\n",
    "           Buatlah sebuah program, dimana user menginputkan sembarang bilangan bulat positif dimana hasil inputan merupakan representasi dari detik, lalu konversikan hasil input menjadi format jam - menit - detik.           \n",
    "        </br>\n",
    "    </br>\n",
    "</p>"
   ]
  },
  {
   "cell_type": "code",
   "execution_count": 2,
   "id": "3aa973fb",
   "metadata": {},
   "outputs": [
    {
     "name": "stdout",
     "output_type": "stream",
     "text": [
      "Hasil konversi 30 detik adalah 2 jam 28 menit 30 detik\n"
     ]
    }
   ],
   "source": [
    "seconds = input('...')\n",
    "\n",
    "seconds = int(seconds) % (24 * 3600)\n",
    "hour = seconds // 3600\n",
    "seconds %= 3600\n",
    "minutes = seconds // 60\n",
    "seconds %= 60\n",
    "\n",
    "time = \"%d:%02d:%02d\" % (hour, minutes, seconds) \n",
    "timeSpilited = time.split(\":\")\n",
    "...\n",
    "\n",
    "print(f'Hasil konversi {seconds} detik adalah {timeSpilited[0]} jam {timeSpilited[1]} menit {timeSpilited[2]} detik')"
   ]
  },
  {
   "cell_type": "markdown",
   "id": "1ec414f5",
   "metadata": {},
   "source": [
    "<br><h4 align=\"right\"> to be continued : <i>The Sky is the Limit - Conditions and Loops</i></h4></br>\n",
    "\n",
    "---\n",
    "copyright DQLab © 2022"
   ]
  }
 ],
 "metadata": {
  "kernelspec": {
   "display_name": "Python 3.10.6 64-bit",
   "language": "python",
   "name": "python3"
  },
  "language_info": {
   "codemirror_mode": {
    "name": "ipython",
    "version": 3
   },
   "file_extension": ".py",
   "mimetype": "text/x-python",
   "name": "python",
   "nbconvert_exporter": "python",
   "pygments_lexer": "ipython3",
   "version": "3.10.6"
  },
  "vscode": {
   "interpreter": {
    "hash": "916dbcbb3f70747c44a77c7bcd40155683ae19c65e1c03b4aa3499c5328201f1"
   }
  }
 },
 "nbformat": 4,
 "nbformat_minor": 5
}
