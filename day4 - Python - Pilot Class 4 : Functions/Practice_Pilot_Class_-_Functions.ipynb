{
 "cells": [
  {
   "cell_type": "markdown",
   "id": "37b9a88f",
   "metadata": {},
   "source": [
    "<p>\n",
    "<h1 style=\"font-size:300%;\">\n",
    "    Storms Don't Last Forever\n",
    "</h1>\n",
    "<img src = \"https://cdn.dribbble.com/users/424937/screenshots/5386057/media/2baf59f1e5a72fe6db8bce36d2f854ff.gif\" \n",
    "     style = \"float:right\" width=\"400\">\n",
    "\n",
    "<p style=\"font-size:160%;\">\n",
    "    Python - Pilot Class 4 : Functions\n",
    "</p>\n",
    "    <br>\n",
    "        <br>\n",
    "            <p style=\"font-size:110%;\">\n",
    "            Dear passenger, now we have survived the turbulence. The plane is in good condition and all components are still <b>function</b>ing properly. In a moment, we'll arrive at our final destination : Pythonverse, a beautiful place to live and explore. Keep calm and take a deep breath because the adventure is just about to begin. \n",
    "            </p>\n",
    "            <br>\n",
    "            <p style = \"font-size:110%;\">\n",
    "                    Once again, keep calm and get ready! \n",
    "                </p>\n",
    "            </br>\n",
    "        </br>\n",
    "    </br>\n",
    "</img>\n",
    "</p>"
   ]
  },
  {
   "cell_type": "markdown",
   "id": "02ec6bd1",
   "metadata": {},
   "source": [
    "---"
   ]
  },
  {
   "cell_type": "markdown",
   "id": "de10c75e",
   "metadata": {},
   "source": [
    "### 1. Fungsi\n",
    "\n",
    "Fungsi adalah blok kode yang terorganisir dan dapat digunakan kembali yang digunakan untuk melakukan satu tindakan terkait. Fungsi memberikan modularitas yang lebih baik untuk program dan penggunaan ulang kode tingkat tinggi.\n",
    "\n",
    "Bentuk umum fungsi :    \n",
    "\n",
    "```\n",
    "def nama_fungsi(argumen):\n",
    "    isi_fungsi \n",
    "    return (hasil)\n",
    "```\n",
    "\n",
    "argumen dan <i>return</i> (nilai kembalian) salah satu atau keduanya bersifat opsional. \n",
    "\n",
    "<ol>\n",
    "<li>argumen : digunakan sebagai variabel bebas yang bisa diinisialisasikan oleh user sifatnya wajib dipanggil saat tidak disetting defaultnya</li>\n",
    "<li>return  : digunakan sebagai nilai kembalian (fungsi menghasilkan sebuah objek / nilai)</li>\n",
    "</ol>\n",
    "\n",
    "Notes :\n",
    "<li>Sebuah fungsi dapat dipanggil berulang kali</li>\n",
    "<li>Penamaan fungsi mirip dengan aturan penamaan variabel</li>"
   ]
  },
  {
   "cell_type": "code",
   "execution_count": 7,
   "id": "099ac8ed",
   "metadata": {},
   "outputs": [
    {
     "name": "stdout",
     "output_type": "stream",
     "text": [
      "Welcome, DQSquad!\n",
      "-----------------\n"
     ]
    }
   ],
   "source": [
    "\"\"\" Fungsi Tanpa Argumen & Tanpa Return \"\"\"\n",
    "\n",
    "# Definisikan fungsi\n",
    "\n",
    "\n",
    "# Panggil fungsi yang dibuat\n"
   ]
  },
  {
   "cell_type": "code",
   "execution_count": 11,
   "id": "8d76221a",
   "metadata": {},
   "outputs": [
    {
     "name": "stdout",
     "output_type": "stream",
     "text": [
      "Nama pelanggan = Aksara Sunyi\n"
     ]
    }
   ],
   "source": [
    "\"\"\" Fungsi Dengan Argumen & Tanpa Return \"\"\"\n",
    "\n",
    "# Definisikan fungsi\n",
    "\n",
    "# Panggil fungsi yang dibuat\n"
   ]
  },
  {
   "cell_type": "code",
   "execution_count": 14,
   "id": "2845c71c",
   "metadata": {},
   "outputs": [
    {
     "name": "stdout",
     "output_type": "stream",
     "text": [
      "9\n"
     ]
    }
   ],
   "source": [
    "\"\"\" Fungsi Dengan Argumen & Dengan Return \"\"\"\n",
    "\n",
    "# Definisikan fungsi\n",
    "\n",
    "\n",
    "# Panggil fungsi yang dibuat\n",
    "\n",
    "\n",
    "# Tampilkan hasilnya\n"
   ]
  },
  {
   "cell_type": "code",
   "execution_count": 35,
   "id": "6442f8f6",
   "metadata": {},
   "outputs": [
    {
     "name": "stdout",
     "output_type": "stream",
     "text": [
      "1\n",
      "4\n",
      "9\n"
     ]
    }
   ],
   "source": [
    "\"\"\" Sebuah fungsi dapat dipanggil berulang kali \"\"\"\n",
    "\n",
    "# Definisikan fungsi\n",
    "\n",
    "# Panggil fungsi yang dibuat - 1\n",
    "\n",
    "# Panggil fungsi yang dibuat - 2\n",
    "\n",
    "# Panggil fungsi yang dibuat - 3\n"
   ]
  },
  {
   "cell_type": "code",
   "execution_count": 36,
   "id": "9871773e",
   "metadata": {},
   "outputs": [
    {
     "name": "stdout",
     "output_type": "stream",
     "text": [
      "Hasil kuadrat dari 0 adalah 0\n",
      "Hasil kuadrat dari 1 adalah 1\n",
      "Hasil kuadrat dari 2 adalah 4\n",
      "Hasil kuadrat dari 3 adalah 9\n",
      "Hasil kuadrat dari 4 adalah 16\n",
      "Hasil kuadrat dari 5 adalah 25\n"
     ]
    }
   ],
   "source": [
    "\"\"\" Sebuah fungsi dapat dipanggil berulang kali dengan kriteria loop \"\"\"\n",
    "\n",
    "# Definisikan fungsi\n",
    "\n",
    "\n",
    "# Penggunaan loop pada fungsi\n",
    "\n"
   ]
  },
  {
   "cell_type": "markdown",
   "id": "9919e436",
   "metadata": {},
   "source": [
    "### 2. Argumen pada Fungsi\n",
    "\n",
    "Sebuah fungsi yang didefinisikan dengan argumen eksplisit, terdapat variasi saat pemanggilan fungsi. \n",
    "\n",
    "Misal diberikan sebuah fungsi berikut \n",
    "\n",
    "```\n",
    "    def gabungkan_nama(nama_depan, nama_belakang):\n",
    "        nama_lengkap = nama_depan + ' ' + nama_belakang\n",
    "        return(nama_lengkap)\n",
    "```\n",
    "\n",
    "Pada fungsi <b>gabungkan_nama</b>() terdapat dua argumen yakni nama_depan dan nama_belakang dengan nilai <i>return</i>-nya adalah hasil penggabungan nama_depan + spasi + nama_belakang. Saat dipanggil, variasi pemanggilannya adalah sebagai berikut :\n",
    "\n",
    "<ol>\n",
    "    <li>Melampirkan argumen sesuai dengan urutan pendefinisian dan tidak memberi assignment pada parameter secara explisit</li>\n",
    "        nama_lengkap = <b>gabungkan_nama</b>('Aksara', 'Sunyi')\n",
    "    <li>Melampirkan argumen sesuai dengan urutan pendefinisian dan memberikan assignment pada parameter secara explisit</li>\n",
    "        nama_lengkap = <b>gabungkan_nama</b>(nama_depan = 'Aksara', nama_belakang = 'Sunyi')\n",
    "    <li>Melampirkan parameter tidak sesuai dengan urutan pendefinisian namun memberikan assignment pada parameter secara explisit</li>\n",
    "        nama_lengkap = <b>gabungkan_nama</b>(nama_belakang = 'Sunyi', nama_depan = 'Aksara')\n",
    "</ol>\n",
    "\n",
    "Ketiga pemanggilan fungsi diatas valid dan akan menghasilkan nilai <i>return</i> yang sama yakni nama_lengkap = 'Aksara Sunyi'"
   ]
  },
  {
   "cell_type": "code",
   "execution_count": 16,
   "id": "a685c5a0",
   "metadata": {},
   "outputs": [],
   "source": [
    "# Definisikan fungsi\n"
   ]
  },
  {
   "cell_type": "code",
   "execution_count": 17,
   "id": "cf18f96c",
   "metadata": {},
   "outputs": [
    {
     "name": "stdout",
     "output_type": "stream",
     "text": [
      "Aksara Sunyi\n"
     ]
    }
   ],
   "source": [
    "\"\"\" Pemanggilan Fungsi Dengan Parameter Tipe 1\"\"\"\n",
    "\n",
    "# Assignment hasil pemanggilan fungsi ke dalam sebuah variabel\n",
    "\n",
    "# Tampilkan hasilnya\n"
   ]
  },
  {
   "cell_type": "code",
   "execution_count": 18,
   "id": "d958e23d",
   "metadata": {},
   "outputs": [
    {
     "name": "stdout",
     "output_type": "stream",
     "text": [
      "Aksara Sunyi\n"
     ]
    }
   ],
   "source": [
    "\"\"\" Pemanggilan Fungsi Dengan Parameter Tipe 2\"\"\"\n",
    "\n",
    "# Assignment hasil pemanggilan fungsi ke dalam sebuah variabel\n",
    "\n",
    "# Tampilkan hasilnya\n"
   ]
  },
  {
   "cell_type": "code",
   "execution_count": 19,
   "id": "5d9f3b19",
   "metadata": {},
   "outputs": [
    {
     "name": "stdout",
     "output_type": "stream",
     "text": [
      "Aksara Sunyi\n"
     ]
    }
   ],
   "source": [
    "\"\"\" Pemanggilan Fungsi Dengan Parameter Tipe 3\"\"\"\n",
    "\n",
    "# Assignment hasil pemanggilan fungsi ke dalam sebuah variabel\n",
    "\n",
    "# Tampilkan hasilnya\n"
   ]
  },
  {
   "cell_type": "markdown",
   "id": "9c88b0e0",
   "metadata": {},
   "source": [
    "Argumen pada python, tidak hanya menerima argumen dengan tipe data dasar. Tipe data <i>sequential</i> seperti list, dict, dst pun bisa menjadi argumen"
   ]
  },
  {
   "cell_type": "code",
   "execution_count": 44,
   "id": "ce3d7331",
   "metadata": {},
   "outputs": [],
   "source": [
    "\n",
    "\n",
    "# Notes : str.lower() sebuah method pada string untuk mengubah string menjadi lowercase"
   ]
  },
  {
   "cell_type": "code",
   "execution_count": 46,
   "id": "579ba066",
   "metadata": {},
   "outputs": [
    {
     "name": "stdout",
     "output_type": "stream",
     "text": [
      "['Ayam Goreng', 'Gorengan', 'Nasi Goreng']\n"
     ]
    }
   ],
   "source": []
  },
  {
   "cell_type": "code",
   "execution_count": 30,
   "id": "1dfa7a7d",
   "metadata": {},
   "outputs": [
    {
     "ename": "SyntaxError",
     "evalue": "invalid syntax (Temp/ipykernel_7060/1420867605.py, line 21)",
     "output_type": "error",
     "traceback": [
      "\u001b[1;36m  File \u001b[1;32m\"C:\\Users\\Lenovo\\AppData\\Local\\Temp/ipykernel_7060/1420867605.py\"\u001b[1;36m, line \u001b[1;32m21\u001b[0m\n\u001b[1;33m    DEF bintang_segitiga(panjangtumpukan)\u001b[0m\n\u001b[1;37m        ^\u001b[0m\n\u001b[1;31mSyntaxError\u001b[0m\u001b[1;31m:\u001b[0m invalid syntax\n"
     ]
    }
   ],
   "source": [
    "# DQChallenge 1 : Perbaiki sintaks\n",
    "\n",
    "\"\"\"\n",
    "    Fungsi dibawah ini digunakan untuk membuat tumpukan bintang\n",
    "    yang membentuk segitiga siku-siku dengan banyak bintang ter-\n",
    "    urut ke-bawah.\n",
    "    \n",
    "    Contoh : \n",
    "    \n",
    "    Ketika dipanggil bintang_segitiga(4) maka output yang keluar adalah\n",
    "    \n",
    "    *\n",
    "    **\n",
    "    ***\n",
    "    ****\n",
    "    \n",
    "    Problem : Masalah yang dihadapi adalah sintaks yang ditulis dibawah ini masih ada bagian yang kurang tepat, \n",
    "    Help us to try to fix this!\n",
    "\"\"\"\n",
    "\n",
    "DEF bintang_segitiga(panjangtumpukan)\n",
    "    for i in range(panjangtumpukan)\n",
    "        for j in range(panjangtumpukan)\n",
    "            if(i >= j):\n",
    "            print('*', end = '')\n",
    "        print('\\n')\n",
    "            \n",
    "bintang_segitiga(5)    "
   ]
  },
  {
   "cell_type": "markdown",
   "id": "f5067324",
   "metadata": {},
   "source": [
    "### 3. Default Argumen\n",
    "\n",
    "Argumen pada sebuah fungsi dapat diatur secara default. Argumen ini ketika tidak di-assignment maka nilai default akan digunakan. Jika di assignment maka nilai default akan tergantikan. \n",
    "\n",
    "Misalkan diberikan fungsi sebagai berikut :\n",
    "\n",
    "```\n",
    "def tampilkan_data(nama = 'Shiva', umur = 5):\n",
    "    data = f\"Panggil aku {nama}, paman! Umurku {umur} tahun \"\n",
    "    return (data)\n",
    "```\n",
    "\n",
    "Sebuah fungsi dengan argumen nama dan umur diatur dengan default nama = 'Shiva' dan umur = 5. Jika fungsi tampilkan_data() dipanggil maka argumen nama dan umur tidak lagi bersifat mandatory, statusnya berganti menjadi opsional."
   ]
  },
  {
   "cell_type": "code",
   "execution_count": 23,
   "id": "48daba54",
   "metadata": {},
   "outputs": [],
   "source": [
    "# Definisikan fungsi\n"
   ]
  },
  {
   "cell_type": "code",
   "execution_count": 24,
   "id": "febf4d05",
   "metadata": {},
   "outputs": [
    {
     "name": "stdout",
     "output_type": "stream",
     "text": [
      "Panggil aku Shiva, paman! Umurku 5 tahun \n"
     ]
    }
   ],
   "source": [
    "\"\"\" Jika tidak ada assignment argumen saat fungsi dipanggil, maka argumen akan menampilkan setting defaultnya \"\"\"\n",
    "\n",
    "# Assignment hasil pemanggilan fungsi ke dalam sebuah variabel\n",
    "\n",
    "\n",
    "# Tampilkan hasil\n"
   ]
  },
  {
   "cell_type": "code",
   "execution_count": 26,
   "id": "278f5f05",
   "metadata": {},
   "outputs": [
    {
     "name": "stdout",
     "output_type": "stream",
     "text": [
      "Panggil aku Bambang, paman! Umurku 5 tahun \n"
     ]
    }
   ],
   "source": [
    "\"\"\" Jika terdapat satu atau lebih assignment pada argumen tertentu, maka nilai argumen akan berubah sesuai assignmentnya \"\"\"\n",
    "\n",
    "# Assignment hasil pemanggilan fungsi ke dalam sebuah variabel\n",
    "\n",
    "\n",
    "# Tampilkan hasil\n"
   ]
  },
  {
   "cell_type": "code",
   "execution_count": 27,
   "id": "5ae8cf69",
   "metadata": {},
   "outputs": [
    {
     "name": "stdout",
     "output_type": "stream",
     "text": [
      "Panggil aku Mawar, paman! Umurku 17 tahun \n"
     ]
    }
   ],
   "source": [
    "\"\"\" Memanggil fungsi dengan assignment argumen \"\"\"\n",
    "\n",
    "# Assignment hasil pemanggilan fungsi ke dalam sebuah variabel\n",
    "\n",
    "\n",
    "# Tampilkan hasil\n"
   ]
  },
  {
   "cell_type": "markdown",
   "id": "a52349f9",
   "metadata": {},
   "source": [
    "### 4. Multiple Return\n",
    "\n",
    "Python mendukung banyak nilai pengembalian pada sebuah fungsi (<i>multiple return</i>). Artinya tidak hanya satu nilai <i>return</i> namun bisa lebih dari satu. Untuk mengakses <i>return</i> yang lebih dari satu maka assignment variabel juga harus menyesuaikan. Perhatikan contoh berikut"
   ]
  },
  {
   "cell_type": "code",
   "execution_count": 37,
   "id": "82d4963f",
   "metadata": {},
   "outputs": [],
   "source": [
    "# Definsikan sebuah fungsi \n"
   ]
  },
  {
   "cell_type": "code",
   "execution_count": 39,
   "id": "25cc08e8",
   "metadata": {},
   "outputs": [
    {
     "name": "stdout",
     "output_type": "stream",
     "text": [
      "Nilai x = 17 dan nilai y = 32\n"
     ]
    }
   ],
   "source": [
    "# Assignment variabel saat pemanggilan fungsi\n",
    "\n",
    "# Tampilkan hasilnya\n"
   ]
  },
  {
   "cell_type": "markdown",
   "id": "4744ed56",
   "metadata": {},
   "source": [
    "### 5. Fungsi Lambda\n",
    "\n",
    "Fungsi lambda merupakan fungsi anonim (fungsi tanpa diawali <i>def</i>) dengan tujuan menyingkat barisan kode ke biasa ditulis kebawah dalam satu baris kode (<i>case</i> ini berlaku untuk perhitungan fungsi yang tidak terlalu kompleks). Fungsi lambda sering digunakan dalam paradigma <a href=\"https://realpython.com/python-functional-programming/\"><i>functional programming</i></a> seperti penggunaan notasi <b>filter</b>, <b>map</b>, <b>reduce</b>, dsb. Contoh :\n",
    "\n",
    "```\n",
    "def fungsi_kubik(list_angka):\n",
    "    hasil = list()\n",
    "    for angka in list_angka:\n",
    "        pangkat_tiga = angka ** 3\n",
    "        hasil.append(pangkat_tiga)\n",
    "    return (hasil)\n",
    "```\n",
    "\n",
    "Sebuah fungsi dinamakan fungsi kubik dimana hasil kembaliannya adalah berupa pangkat tiga dari variabel input bertipe data list. Notasi lambda dapat dituliskan\n",
    "\n",
    "```\n",
    "    list(map(lambda x : x**3, list_angka))\n",
    "```\n",
    "\n",
    "Fungsi <a href=\"https://docs.python.org/3/library/functions.html#map\"><i>map</i></a> digunakan untuk memetakan sebuah variabel sequential ke sebuah fungsi yang didefinisikan. Dengan fungsi lambda jauh lebih singkat dan mengefisiensi barisan kode yang panjang. \n",
    "\n",
    "Bentuk umum fungsi lambda :\n",
    "<img width = \"500\" src = \"https://www.softwaretestinghelp.com/wp-content/qa/uploads/2021/02/fig1_lambda-expression.jpg\">\n",
    "\n",
    "Kegunaan fungsi lambda : \n",
    "<img width = \"500\" src = \"https://miro.medium.com/max/720/1*lqk_tWTr13ncxgYfetdexg.png\">\n",
    "\n",
    "*Baca tentang fungsi lambda selengkapnya : https://www.petanikode.com/python-lambda/*\n"
   ]
  },
  {
   "cell_type": "code",
   "execution_count": 13,
   "id": "eed74175",
   "metadata": {},
   "outputs": [
    {
     "name": "stdout",
     "output_type": "stream",
     "text": [
      "Pangkat tiga dari [-2, -1, 0, 1, 2] adalah [-8, -1, 0, 1, 8]\n"
     ]
    }
   ],
   "source": [
    "\"\"\" Perbandingan fungsi biasa dan fungsi lambda \"\"\"\n",
    "\n",
    "# Definsikan sebuah fungsi\n",
    "def fungsi_kubik(list_angka):\n",
    "    hasil = list()\n",
    "    for angka in list_angka:\n",
    "        pangkat_tiga = angka ** 3\n",
    "        hasil.append(pangkat_tiga)\n",
    "    return (hasil)\n",
    "\n",
    "# Buat daftar angka\n",
    "daftar_angka = [-2, -1, 0, 1, 2]\n",
    "\n",
    "# Panggil fungsi\n",
    "daftar_angka_pangkat_tiga = fungsi_kubik(daftar_angka)\n",
    "\n",
    "# Tampilkan hasil\n",
    "print(f'Pangkat tiga dari {daftar_angka} adalah {daftar_angka_pangkat_tiga}')"
   ]
  },
  {
   "cell_type": "code",
   "execution_count": 14,
   "id": "3abcb691",
   "metadata": {},
   "outputs": [
    {
     "name": "stdout",
     "output_type": "stream",
     "text": [
      "Pangkat tiga dari [-2, -1, 0, 1, 2] adalah [-8, -1, 0, 1, 8]\n"
     ]
    }
   ],
   "source": [
    "# Buat sebuah fungsi lambda dan assign nilainya ke sebuah variabel\n",
    "daftar_angka_pangkat_tiga = list(map(lambda x : x ** 3, [-2, -1, 0, 1, 2]))\n",
    "\n",
    "# Tampilkan hasilnya\n",
    "print(f'Pangkat tiga dari {daftar_angka} adalah {daftar_angka_pangkat_tiga}')"
   ]
  },
  {
   "cell_type": "markdown",
   "id": "445ff395",
   "metadata": {},
   "source": [
    "Sama halnya fungsi biasa, fungsi lambda juga dapat dipanggil berulang kali bahkan penamaannya bisa kita sesuaikan dan dapat kita ubah - ubah secara dinamis (tidak seperti pendefinisian fungsi yang bersifat statis)"
   ]
  },
  {
   "cell_type": "code",
   "execution_count": null,
   "id": "d11cb585",
   "metadata": {},
   "outputs": [],
   "source": [
    "# Definsikan fungsi lambda\n",
    "hitung_pangkat_tiga = lambda x : x ** 3"
   ]
  },
  {
   "cell_type": "code",
   "execution_count": 15,
   "id": "ce4d02b4",
   "metadata": {},
   "outputs": [
    {
     "name": "stdout",
     "output_type": "stream",
     "text": [
      "Pangkat tiga dari [-2, -1, 0, 1, 2] adalah [-8, -1, 0, 1, 8]\n"
     ]
    }
   ],
   "source": [
    "\"\"\" Aplikasikan fungsi lambda yang sudah didefinisikan \"\"\"\n",
    "\n",
    "daftar_angka = [-2, -1, 0, 1, 2]\n",
    "\n",
    "list_angka_pangkat_tiga = list(map(hitung_pangkat_tiga, daftar_angka))\n",
    "\n",
    "print(f'Pangkat tiga dari {daftar_angka} adalah {list_angka_pangkat_tiga}')"
   ]
  },
  {
   "cell_type": "code",
   "execution_count": 10,
   "id": "6f03e610",
   "metadata": {},
   "outputs": [
    {
     "data": {
      "text/plain": [
       "64"
      ]
     },
     "execution_count": 10,
     "metadata": {},
     "output_type": "execute_result"
    }
   ],
   "source": [
    "# Jika tanpa fungsi map, maka dapat pula digunakan sebagai fungsi dengan input non-iterable\n",
    "hitung_pangkat_tiga(4)"
   ]
  },
  {
   "cell_type": "code",
   "execution_count": 12,
   "id": "2c7f3553",
   "metadata": {},
   "outputs": [
    {
     "data": {
      "text/plain": [
       "125"
      ]
     },
     "execution_count": 12,
     "metadata": {},
     "output_type": "execute_result"
    }
   ],
   "source": [
    "# Bahkan penamaan fungsi dapat dialokasikan ke nama yang lain\n",
    "cubic_func = hitung_pangkat_tiga"
   ]
  },
  {
   "cell_type": "code",
   "execution_count": 16,
   "id": "c3e32918",
   "metadata": {},
   "outputs": [
    {
     "name": "stdout",
     "output_type": "stream",
     "text": [
      "Pangkat tiga dari [-2, -1, 0, 1, 2] adalah [-8, -1, 0, 1, 8]\n"
     ]
    }
   ],
   "source": [
    "\"\"\" Aplikasikan fungsi lambda yang sudah diubah namanya \"\"\"\n",
    "\n",
    "daftar_angka = [-2, -1, 0, 1, 2]\n",
    "\n",
    "list_angka_pangkat_tiga = list(map(cubic_func, daftar_angka))\n",
    "\n",
    "print(f'Pangkat tiga dari {daftar_angka} adalah {list_angka_pangkat_tiga}')"
   ]
  },
  {
   "cell_type": "code",
   "execution_count": 19,
   "id": "a10de458",
   "metadata": {},
   "outputs": [
    {
     "data": {
      "text/plain": [
       "1000"
      ]
     },
     "execution_count": 19,
     "metadata": {},
     "output_type": "execute_result"
    }
   ],
   "source": [
    "# Jika tanpa fungsi map, maka dapat pula digunakan sebagai fungsi dengan input non-iterable\n",
    "cubic_func(10)"
   ]
  },
  {
   "cell_type": "markdown",
   "id": "66c59dee",
   "metadata": {},
   "source": [
    "Tidak hanya digunakan pada angka, fungsi lambda dan map juga dapat digunakan untuk selain angka"
   ]
  },
  {
   "cell_type": "code",
   "execution_count": 23,
   "id": "24a57367",
   "metadata": {},
   "outputs": [
    {
     "name": "stdout",
     "output_type": "stream",
     "text": [
      "['dqaksara@dqlab.id', 'dqsunyi@dqlab.id', 'dqantara@dqlab.id', 'dqsendja@dqlab.id', 'dqkroma@dqlab.id']\n"
     ]
    }
   ],
   "source": [
    "\"\"\" Pembuatan domain email secara otomatis dari nama yang diberikan \"\"\"\n",
    "\n",
    "list_pelanggan = ['AKSARA', 'Sunyi', 'Antara', 'SENDJA', 'kroma']\n",
    "\n",
    "pelanggan_dqsquad = list(map(lambda x : 'dq' + x.lower() + '@dqlab.id', list_pelanggan))\n",
    "\n",
    "print(pelanggan_dqsquad)"
   ]
  },
  {
   "cell_type": "markdown",
   "id": "27a3a06a",
   "metadata": {},
   "source": [
    "---\n",
    "<p>\n",
    "<img src = \"https://cdn.dribbble.com/users/519645/screenshots/10527457/media/159f287ee977670d51f263200825b61a.gif\"\n",
    "style=\"float:right;width:350px;height:275px;\">\n",
    "    <h1 style=\"font-size:5vw\">Black Box Challenge #1!</h1>\n",
    "    <br>\n",
    "        Buatlah sebuah fungsi (penamaan fungsi bebas) dengan argumen berupa string, yang menghasilkan <i>output</i> banyak huruf kapital, banyak huruf kecil dan banyak karakter non huruf selain spasi. Misalkan dari string \"Pil0t Class DQLab Seru!\" akan menghasilkan :\n",
    "        \n",
    "'Pil0t Class DQLab Seru!'\n",
    "  \n",
    "<li>banyak huruf kapital = 6 (P-C-Q-D-L-S)</li>\n",
    "<li>banyak huruf kecil = 17 (i-l-t-l-a-s-s-a-b-e-r-u)</li>\n",
    "<li>banyak karakter non huruf = 2 (0-!)</li>\n",
    "    </br>\n",
    "</p>"
   ]
  },
  {
   "cell_type": "code",
   "execution_count": 45,
   "id": "16d8f7cb",
   "metadata": {},
   "outputs": [],
   "source": [
    "# Definisikan fungsi\n",
    "...\n",
    "\n",
    "# Panggil fungsi\n",
    "..."
   ]
  },
  {
   "cell_type": "markdown",
   "id": "e4de5b25",
   "metadata": {},
   "source": [
    "\n",
    "<p>\n",
    "<img src = \"https://cdn.dribbble.com/users/77598/screenshots/11298534/media/d631f46c6a89600f4d044afdad413c9c.gif\"\n",
    "style=\"float:right;width:350px;height:275px;\">\n",
    "    <h1 style=\"font-size:5vw\">Black Box Challenge #2!</h1>\n",
    "    <br>\n",
    "        Diberikan sebuah list yang memuat beberapa string (tentu anda bisa menambah sendiri elemen pada list tersebut). Dengan fungsi lambda dapatkah kita memeriksa dan menyaring kata-kata yang hanya bersifat <a href=\"https://id.wikipedia.org/wiki/Palindrom\"> palindrom </a> (susunan karakter lain yang serupa jika dibaca dengan urutan terbalik ataupun tidak). Input berupa list dengan muatan string. Output berupa list dengan memuat string yang bersifat palindrom  (susunan besar-kecilnya huruf diabaikan asalkan ketika diucap bunyinya sama). \n",
    "        \n",
    "        Contoh :\n",
    "        >>> list_kata = ['apA', 'YXGK', 'laba-laba abal-abal', 'KasuR ini rusak', 'Ibu Ratna antar Ubi', 'AkusUkarajawaliBapaKApabilawAjarakusUka'] \n",
    "        >>> palindrom(list_kata)\n",
    "        ... ['apA', 'laba-laba abal-abal', 'KasuR ini rusak', 'Ibu Ratna antar Ubi', 'AkusUkarajawaliBapaKApabilawAjarakusUka']\n",
    "        \n",
    "    String YXGK bukan palindrom karena ketika dibalik menjadi KGXY (tidak sama)\n",
    "</p>\n",
    "\n",
    "<i><b>fun facts</b> : kata akusukarajawalibapakapabilawajarakusuka merupakan palindrom yang dapat dibaca terpanjang pada bahasa Indonesia</i>"
   ]
  },
  {
   "cell_type": "code",
   "execution_count": 52,
   "id": "a97f4396",
   "metadata": {},
   "outputs": [],
   "source": [
    "# Fungsi lambda palindrom\n",
    "...\n",
    "# Tampilkan hasil\n",
    "..."
   ]
  },
  {
   "cell_type": "markdown",
   "id": "0d77a13a",
   "metadata": {},
   "source": [
    "<br><h4 align=\"right\"> to be continued : <i>I'm Home. - Class and Object</i></h4></br>\n",
    "\n",
    "---\n",
    "copyright DQLab © 2022"
   ]
  }
 ],
 "metadata": {
  "kernelspec": {
   "display_name": "Python 3 (ipykernel)",
   "language": "python",
   "name": "python3"
  },
  "language_info": {
   "codemirror_mode": {
    "name": "ipython",
    "version": 3
   },
   "file_extension": ".py",
   "mimetype": "text/x-python",
   "name": "python",
   "nbconvert_exporter": "python",
   "pygments_lexer": "ipython3",
   "version": "3.9.7"
  }
 },
 "nbformat": 4,
 "nbformat_minor": 5
}
